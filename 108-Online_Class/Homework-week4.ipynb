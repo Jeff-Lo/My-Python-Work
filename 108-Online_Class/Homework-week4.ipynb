{
 "cells": [
  {
   "cell_type": "markdown",
   "metadata": {},
   "source": [
    "# 第一題：抽點系統"
   ]
  },
  {
   "cell_type": "code",
   "execution_count": 1,
   "metadata": {},
   "outputs": [],
   "source": [
    "%matplotlib inline\n",
    "import numpy as np\n",
    "import matplotlib.pyplot as plt"
   ]
  },
  {
   "cell_type": "code",
   "execution_count": 2,
   "metadata": {},
   "outputs": [],
   "source": [
    "from ipywidgets import interact_manual"
   ]
  },
  {
   "cell_type": "code",
   "execution_count": 3,
   "metadata": {},
   "outputs": [],
   "source": [
    "def draw():\n",
    "    L=[\"大雄\",\"胖虎\",\"小夫\",\"宜靜\",\"小杉\"]\n",
    "    print(np.random.choice(L))"
   ]
  },
  {
   "cell_type": "code",
   "execution_count": 4,
   "metadata": {},
   "outputs": [
    {
     "data": {
      "application/vnd.jupyter.widget-view+json": {
       "model_id": "bd75f608787d49d9ad5638a1db26a5e5",
       "version_major": 2,
       "version_minor": 0
      },
      "text/plain": [
       "interactive(children=(Button(description='Run Interact', style=ButtonStyle()), Output()), _dom_classes=('widge…"
      ]
     },
     "metadata": {},
     "output_type": "display_data"
    }
   ],
   "source": [
    "interact_manual(draw);"
   ]
  },
  {
   "cell_type": "markdown",
   "metadata": {},
   "source": [
    "# 第二題：變長變短"
   ]
  },
  {
   "cell_type": "code",
   "execution_count": 5,
   "metadata": {},
   "outputs": [],
   "source": [
    "from ipywidgets import interact"
   ]
  },
  {
   "cell_type": "code",
   "execution_count": 6,
   "metadata": {},
   "outputs": [],
   "source": [
    "def bar(n):\n",
    "    print(\"■ \"*n)"
   ]
  },
  {
   "cell_type": "code",
   "execution_count": 7,
   "metadata": {},
   "outputs": [
    {
     "data": {
      "application/vnd.jupyter.widget-view+json": {
       "model_id": "e07de484b0bc41c8bebf1832690faec6",
       "version_major": 2,
       "version_minor": 0
      },
      "text/plain": [
       "interactive(children=(IntSlider(value=20, description='n', max=40), Output()), _dom_classes=('widget-interact'…"
      ]
     },
     "metadata": {},
     "output_type": "display_data"
    }
   ],
   "source": [
    "interact(bar,n=(0,40));"
   ]
  },
  {
   "cell_type": "markdown",
   "metadata": {},
   "source": [
    "# 第三題："
   ]
  },
  {
   "cell_type": "code",
   "execution_count": 8,
   "metadata": {},
   "outputs": [],
   "source": [
    "def f(n):\n",
    "    x = np.linspace(0,2*np.pi)\n",
    "    y = np.sin(n*x)\n",
    "    plt.plot(x,y)"
   ]
  },
  {
   "cell_type": "code",
   "execution_count": 9,
   "metadata": {},
   "outputs": [
    {
     "data": {
      "application/vnd.jupyter.widget-view+json": {
       "model_id": "2b2fd61f0d2b42609e711a20efab599c",
       "version_major": 2,
       "version_minor": 0
      },
      "text/plain": [
       "interactive(children=(IntSlider(value=2, description='n', max=5), Output()), _dom_classes=('widget-interact',)…"
      ]
     },
     "metadata": {},
     "output_type": "display_data"
    }
   ],
   "source": [
    "interact(f,n=(0,5));"
   ]
  },
  {
   "cell_type": "markdown",
   "metadata": {},
   "source": [
    "# 挑戰題一：考試加權分數"
   ]
  },
  {
   "cell_type": "code",
   "execution_count": 10,
   "metadata": {},
   "outputs": [],
   "source": [
    "def points_change(department):\n",
    "    grades = [86.5,79.4,88.2,96.5,86.3,76.8,96.1,78.5,82.4,88.6]\n",
    "    subject = {\n",
    "    \"土語系\": [2, 2, 0, 1, 0, 0, 0, 1, 1, 0],\n",
    "    \"財政系\": [1, 1.5, 0, 1.5, 0, 0, 0, 0, 0, 0],\n",
    "    \"金融系\": [1, 1.5, 0, 2, 0, 0, 0, 0, 0, 0],\n",
    "    \"國貿系\": [1.5, 2, 0, 2, 0, 0, 0, 0, 0, 0],\n",
    "    \"會計系\": [1.5, 2, 0, 2, 0, 0, 0, 1, 1, 0],\n",
    "    \"法律系\": [1, 2, 0, 1, 0, 0, 0, 1, 0, 1],\n",
    "    \"公行系\": [1, 1.5, 0, 1.25, 0, 0, 0, 0, 0, 1.25],\n",
    "    \"應數系\": [1, 1, 1.5, 0, 1, 1, 0, 0, 0, 0],\n",
    "    \"教育系\": [1.5, 2, 0, 1.25, 0, 0, 0, 1, 1, 0]\n",
    "    }\n",
    "    score = np.dot(grades,subject[department])\n",
    "    print(score)"
   ]
  },
  {
   "cell_type": "code",
   "execution_count": 11,
   "metadata": {},
   "outputs": [
    {
     "data": {
      "application/vnd.jupyter.widget-view+json": {
       "model_id": "0c8f9c17ed0f4dab9646d4649ad87313",
       "version_major": 2,
       "version_minor": 0
      },
      "text/plain": [
       "interactive(children=(Dropdown(description='department', options=('土語系', '財政系', '金融系', '國貿系', '會計系', '法律系', '公…"
      ]
     },
     "metadata": {},
     "output_type": "display_data"
    }
   ],
   "source": [
    "interact(points_change,department=[\"土語系\",\"財政系\",\"金融系\",\"國貿系\",\"會計系\",\"法律系\",\"公行系\",\"應數系\",\"教育系\"]);"
   ]
  },
  {
   "cell_type": "markdown",
   "metadata": {},
   "source": [
    "# 挑戰題二：自己出！"
   ]
  },
  {
   "cell_type": "code",
   "execution_count": 12,
   "metadata": {},
   "outputs": [],
   "source": [
    "def lunch():\n",
    "    lunch = [\"拉麵店\",\"便利商店\",\"八方雲集\",\"麥當勞\",\"左撇子\",\"可麗餅店\",\"鍋燒店\"]\n",
    "    print(np.random.choice(lunch))"
   ]
  },
  {
   "cell_type": "code",
   "execution_count": 13,
   "metadata": {},
   "outputs": [
    {
     "data": {
      "application/vnd.jupyter.widget-view+json": {
       "model_id": "0c93b03680cd46b39f315fa10ee07905",
       "version_major": 2,
       "version_minor": 0
      },
      "text/plain": [
       "interactive(children=(Button(description='Run Interact', style=ButtonStyle()), Output()), _dom_classes=('widge…"
      ]
     },
     "metadata": {},
     "output_type": "display_data"
    }
   ],
   "source": [
    "interact_manual(lunch);"
   ]
  }
 ],
 "metadata": {
  "kernelspec": {
   "display_name": "Python 3",
   "language": "python",
   "name": "python3"
  },
  "language_info": {
   "codemirror_mode": {
    "name": "ipython",
    "version": 3
   },
   "file_extension": ".py",
   "mimetype": "text/x-python",
   "name": "python",
   "nbconvert_exporter": "python",
   "pygments_lexer": "ipython3",
   "version": "3.7.3"
  }
 },
 "nbformat": 4,
 "nbformat_minor": 2
}
