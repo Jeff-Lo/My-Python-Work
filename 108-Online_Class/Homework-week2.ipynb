{
 "cells": [
  {
   "cell_type": "markdown",
   "metadata": {},
   "source": [
    "# 第一題【猜數字遊戲】："
   ]
  },
  {
   "cell_type": "code",
   "execution_count": 1,
   "metadata": {},
   "outputs": [],
   "source": [
    "%matplotlib inline\n",
    "import numpy as np\n",
    "import matplotlib.pyplot as plt"
   ]
  },
  {
   "cell_type": "code",
   "execution_count": 2,
   "metadata": {},
   "outputs": [
    {
     "name": "stdout",
     "output_type": "stream",
     "text": [
      "請輸入你猜的數字:50\n",
      "太大了!低一點~\n",
      "--------------------------------------------------\n",
      "請輸入你猜的數字:30\n",
      "太小啦~提高吧!\n",
      "--------------------------------------------------\n",
      "請輸入你猜的數字:45\n",
      "太大了!低一點~\n",
      "--------------------------------------------------\n",
      "請輸入你猜的數字:42\n",
      "太大了!低一點~\n",
      "--------------------------------------------------\n",
      "請輸入你猜的數字:36\n",
      "太小啦~提高吧!\n",
      "--------------------------------------------------\n",
      "請輸入你猜的數字:40\n",
      "太大了!低一點~\n",
      "--------------------------------------------------\n",
      "請輸入你猜的數字:38\n",
      "太大了!低一點~\n",
      "--------------------------------------------------\n",
      "請輸入你猜的數字:37\n",
      "恭喜你猜對了啦^^ 正確答案是: 37\n"
     ]
    }
   ],
   "source": [
    "x=np.random.randint(1,101)\n",
    "a=1\n",
    "b=100\n",
    "y=\"\"\n",
    "while (x!=y):\n",
    "    y=int(input(\"請輸入你猜的數字:\"))\n",
    "    if (x>y) :\n",
    "        print(\"太小啦~提高吧!\")\n",
    "        print(\"-\"*50)\n",
    "    elif (x<y) :\n",
    "        print(\"太大了!低一點~\")\n",
    "        print(\"-\"*50)\n",
    "    else :\n",
    "        print(\"恭喜你猜對了啦^^ 正確答案是:\",x)"
   ]
  },
  {
   "cell_type": "markdown",
   "metadata": {},
   "source": [
    "# 第二題【感恩讚嘆機器人】："
   ]
  },
  {
   "cell_type": "code",
   "execution_count": 5,
   "metadata": {},
   "outputs": [
    {
     "name": "stdout",
     "output_type": "stream",
     "text": [
      "你好\n",
      "感恩永富，讚嘆永富。\n",
      "再見\n",
      "感恩永富，讚嘆永富。\n"
     ]
    }
   ],
   "source": [
    "spam = \"\"\n",
    "while(spam!=\"再見\"):\n",
    "    spam = input(\"\")\n",
    "    print(\"感恩永富，讚嘆永富。\")"
   ]
  },
  {
   "cell_type": "markdown",
   "metadata": {},
   "source": [
    "# 挑戰題一【天干地支】："
   ]
  },
  {
   "cell_type": "code",
   "execution_count": 17,
   "metadata": {},
   "outputs": [
    {
     "data": {
      "text/plain": [
       "['子丑寅卯辰巳午未申酉戌亥']"
      ]
     },
     "execution_count": 17,
     "metadata": {},
     "output_type": "execute_result"
    }
   ],
   "source": [
    "A = \"甲乙丙丁戊己庚辛壬癸\"\n",
    "A.split(\",\")"
   ]
  },
  {
   "cell_type": "code",
   "execution_count": 20,
   "metadata": {},
   "outputs": [
    {
     "data": {
      "text/plain": [
       "['子丑寅卯辰巳午未申酉戌亥']"
      ]
     },
     "execution_count": 20,
     "metadata": {},
     "output_type": "execute_result"
    }
   ],
   "source": [
    "B = \"子丑寅卯辰巳午未申酉戌亥\"\n",
    "B.split(\",\")"
   ]
  },
  {
   "cell_type": "code",
   "execution_count": 24,
   "metadata": {},
   "outputs": [
    {
     "name": "stdout",
     "output_type": "stream",
     "text": [
      "2014是甲午年\n",
      "2015是乙未年\n",
      "2016是丙申年\n",
      "2017是丁酉年\n",
      "2018是戊戌年\n",
      "2019是己亥年\n",
      "2020是庚子年\n",
      "2021是辛丑年\n",
      "2022是壬寅年\n",
      "2023是癸卯年\n",
      "2024是甲辰年\n",
      "2025是乙巳年\n",
      "2026是丙午年\n",
      "2027是丁未年\n",
      "2028是戊申年\n",
      "2029是己酉年\n",
      "2030是庚戌年\n",
      "2031是辛亥年\n",
      "2032是壬子年\n",
      "2033是癸丑年\n",
      "2034是甲寅年\n",
      "2035是乙卯年\n",
      "2036是丙辰年\n",
      "2037是丁巳年\n",
      "2038是戊午年\n",
      "2039是己未年\n",
      "2040是庚申年\n",
      "2041是辛酉年\n",
      "2042是壬戌年\n",
      "2043是癸亥年\n",
      "2044是甲子年\n",
      "2045是乙丑年\n",
      "2046是丙寅年\n",
      "2047是丁卯年\n",
      "2048是戊辰年\n",
      "2049是己巳年\n",
      "2050是庚午年\n",
      "2051是辛未年\n",
      "2052是壬申年\n",
      "2053是癸酉年\n",
      "2054是甲戌年\n",
      "2055是乙亥年\n",
      "2056是丙子年\n",
      "2057是丁丑年\n",
      "2058是戊寅年\n",
      "2059是己卯年\n",
      "2060是庚辰年\n",
      "2061是辛巳年\n",
      "2062是壬午年\n",
      "2063是癸未年\n",
      "2064是甲申年\n",
      "2065是乙酉年\n",
      "2066是丙戌年\n",
      "2067是丁亥年\n",
      "2068是戊子年\n",
      "2069是己丑年\n",
      "2070是庚寅年\n",
      "2071是辛卯年\n",
      "2072是壬辰年\n",
      "2073是癸巳年\n"
     ]
    }
   ],
   "source": [
    "a = 0\n",
    "b = 6\n",
    "c = 2014\n",
    "for i in range(60):\n",
    "    print(\"{}是{}{}年\".format(c,A[a],B[b]))\n",
    "    a = a + 1\n",
    "    b = b + 1\n",
    "    c = c + 1\n",
    "    if(a > 9):\n",
    "        a = 0\n",
    "    if(b > 11):\n",
    "        b = 0"
   ]
  },
  {
   "cell_type": "markdown",
   "metadata": {},
   "source": [
    "# 挑戰題二【我有一棵樹】："
   ]
  },
  {
   "cell_type": "code",
   "execution_count": 50,
   "metadata": {},
   "outputs": [],
   "source": [
    "d = \"*\"\n",
    "def tree(n):\n",
    "    for i in range(1,n+1):\n",
    "        print(f\"{d*(2*i-1):^20s}\")"
   ]
  },
  {
   "cell_type": "code",
   "execution_count": 51,
   "metadata": {},
   "outputs": [
    {
     "name": "stdout",
     "output_type": "stream",
     "text": [
      "         *          \n",
      "        ***         \n",
      "       *****        \n",
      "      *******       \n",
      "     *********      \n",
      "    ***********     \n"
     ]
    }
   ],
   "source": [
    "tree(6)"
   ]
  },
  {
   "cell_type": "markdown",
   "metadata": {},
   "source": [
    "# 挑戰題三：自己出！"
   ]
  },
  {
   "cell_type": "code",
   "execution_count": 55,
   "metadata": {},
   "outputs": [
    {
     "name": "stdout",
     "output_type": "stream",
     "text": [
      "0\n",
      "2\n",
      "4\n",
      "6\n",
      "8\n",
      "10\n",
      "12\n",
      "14\n",
      "16\n",
      "18\n",
      "20\n"
     ]
    }
   ],
   "source": [
    "for i in range(11):\n",
    "    print(2*i)"
   ]
  }
 ],
 "metadata": {
  "kernelspec": {
   "display_name": "Python 3",
   "language": "python",
   "name": "python3"
  },
  "language_info": {
   "codemirror_mode": {
    "name": "ipython",
    "version": 3
   },
   "file_extension": ".py",
   "mimetype": "text/x-python",
   "name": "python",
   "nbconvert_exporter": "python",
   "pygments_lexer": "ipython3",
   "version": "3.7.3"
  }
 },
 "nbformat": 4,
 "nbformat_minor": 2
}
