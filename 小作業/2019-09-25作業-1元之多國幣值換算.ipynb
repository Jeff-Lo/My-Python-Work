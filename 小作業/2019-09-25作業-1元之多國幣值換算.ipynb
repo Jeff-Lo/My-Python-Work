{
 "cells": [
  {
   "cell_type": "code",
   "execution_count": 19,
   "metadata": {},
   "outputs": [],
   "source": [
    "def exchange(x):\n",
    "    print(x)\n",
    "from ipywidgets import interact"
   ]
  },
  {
   "cell_type": "code",
   "execution_count": 35,
   "metadata": {},
   "outputs": [
    {
     "name": "stdout",
     "output_type": "stream",
     "text": [
      "新台幣的1元可以換算成以下的國家各多少元。\n",
      "以新台幣的1元可以換算成日圓3.448275862068966元為例:\n"
     ]
    },
    {
     "data": {
      "application/vnd.jupyter.widget-view+json": {
       "model_id": "e615ae33a693431d8c36ecd8e56e811d",
       "version_major": 2,
       "version_minor": 0
      },
      "text/plain": [
       "interactive(children=(Dropdown(description='x', options={'美金': '0.0321750321750322元', '日圓': '3.448275862068966…"
      ]
     },
     "metadata": {},
     "output_type": "display_data"
    }
   ],
   "source": [
    "print(\"新台幣的1元可以換算成以下的國家各多少元。\")\n",
    "print(\"以新台幣的1元可以換算成日圓3.448275862068966元為例:\")\n",
    "interact(exchange,x={\"美金\":\"0.0321750321750322元\",\n",
    "                     \"日圓\":\"3.448275862068966元\",\n",
    "                     \"英鎊\":\"0.0261848651479445元\",\n",
    "                     \"歐元\":\"0.0294724432655467元\",\n",
    "                     \"港元\":\"0.2525252525252525元\",\n",
    "                     \"人民幣\":\"0.2301019351572747元\",\n",
    "                     \"中國離岸人民幣\":\"0.2272727272727273元\",\n",
    "                     \"韓元\":\"33.33333333333333元\",\n",
    "                     \"泰銖\":\"0.9803921568627451元\",\n",
    "                     \"新加坡元\":\"0.0454545454545455元\",\n",
    "                     \"新土耳其里拉\":\"0.1851851851851852元\",\n",
    "                     \"捷克克朗\":\"0.7692307692307692元\",\n",
    "                     \"印度盧比\":\"2.272727272727273元\",\n",
    "                     \"印度尼西亞盧比\":\"476.1904761904762元\",\n",
    "                     \"澳門元\":\"0.2631578947368421元\",\n",
    "                     \"瑞士法郎\":\"0.03125元\",\n",
    "                     \"越南盾\":\"745.98元\",\n",
    "                     \"比特幣\":\"0.000004元\",});"
   ]
  }
 ],
 "metadata": {
  "kernelspec": {
   "display_name": "Python 3",
   "language": "python",
   "name": "python3"
  },
  "language_info": {
   "codemirror_mode": {
    "name": "ipython",
    "version": 3
   },
   "file_extension": ".py",
   "mimetype": "text/x-python",
   "name": "python",
   "nbconvert_exporter": "python",
   "pygments_lexer": "ipython3",
   "version": "3.7.3"
  }
 },
 "nbformat": 4,
 "nbformat_minor": 2
}
