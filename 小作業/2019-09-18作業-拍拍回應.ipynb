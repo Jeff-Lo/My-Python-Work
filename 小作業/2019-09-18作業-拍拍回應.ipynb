{
 "cells": [
  {
   "cell_type": "code",
   "execution_count": 2,
   "metadata": {},
   "outputs": [
    {
     "name": "stdout",
     "output_type": "stream",
     "text": [
      "我的想法:今天下太陽雨了。\n",
      ">w<:拍拍\n",
      "我的想法:我無意間地接收到來自天上數滴的淚水。\n",
      ">w<:拍拍\n",
      "我的想法:走著走著來到校內公車站，發現公車正好開走了。\n",
      ">w<:拍拍\n",
      "我的想法:此時，公車裡是熱鬧擁擠的，而我站的地方是寂靜荒涼的。\n",
      ">w<:拍拍\n",
      "我的想法:我只好決定邁開我的步伐往山上走了。\n",
      ">w<:拍拍\n",
      "我的想法:謝謝你傾聽我說的幾句話。\n",
      ">w<:拍拍\n",
      "我的想法:那我就用走得先回宿舍了，順便看看路途上有沒有夥伴一起走。\n",
      ">w<:拍拍\n",
      "我的想法:拜拜。\n",
      ">w<:拍拍\n"
     ]
    }
   ],
   "source": [
    "m=\"\"\n",
    "while(m!=\"拜拜。\"):\n",
    "    m=input(\"我的想法:\")\n",
    "    print(\">w<:拍拍\")"
   ]
  }
 ],
 "metadata": {
  "kernelspec": {
   "display_name": "Python 3",
   "language": "python",
   "name": "python3"
  },
  "language_info": {
   "codemirror_mode": {
    "name": "ipython",
    "version": 3
   },
   "file_extension": ".py",
   "mimetype": "text/x-python",
   "name": "python",
   "nbconvert_exporter": "python",
   "pygments_lexer": "ipython3",
   "version": "3.7.3"
  }
 },
 "nbformat": 4,
 "nbformat_minor": 2
}
