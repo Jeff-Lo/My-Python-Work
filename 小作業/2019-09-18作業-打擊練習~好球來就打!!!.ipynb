{
 "cells": [
  {
   "cell_type": "markdown",
   "metadata": {},
   "source": [
    "![棒球九宮格](棒球九宮格.PNG)"
   ]
  },
  {
   "cell_type": "code",
   "execution_count": 51,
   "metadata": {},
   "outputs": [
    {
     "name": "stdout",
     "output_type": "stream",
     "text": [
      "圖片是投球的25宮格，綠色區域是好球，紅色區域是壞球。\n",
      "投手投出的球:\n",
      "20\n",
      "我不打~\n",
      "投手投出的球:\n",
      "10\n",
      "我不打~\n",
      "投手投出的球:\n",
      "14\n",
      "我不打~\n",
      "投手投出的球:\n",
      "3\n",
      "開打!!!\n"
     ]
    }
   ],
   "source": [
    "import numpy as np\n",
    "print(\"圖片是投球的25宮格，綠色區域是好球，紅色區域是壞球。\")\n",
    "msg=\"\"\n",
    "while(msg!=\"開打!!!\"):\n",
    "    P=np.random.randint(1,26)\n",
    "    print(\"投手投出的球:\")\n",
    "    print(P)\n",
    "    if (1<=P<=9):\n",
    "        msg=print(\"開打!!!\")\n",
    "        break\n",
    "    elif (10<=P<=25):\n",
    "        msg=print(\"我不打~\")"
   ]
  },
  {
   "cell_type": "code",
   "execution_count": null,
   "metadata": {},
   "outputs": [],
   "source": []
  }
 ],
 "metadata": {
  "kernelspec": {
   "display_name": "Python 3",
   "language": "python",
   "name": "python3"
  },
  "language_info": {
   "codemirror_mode": {
    "name": "ipython",
    "version": 3
   },
   "file_extension": ".py",
   "mimetype": "text/x-python",
   "name": "python",
   "nbconvert_exporter": "python",
   "pygments_lexer": "ipython3",
   "version": "3.7.3"
  }
 },
 "nbformat": 4,
 "nbformat_minor": 2
}
