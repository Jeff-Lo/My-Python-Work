{
 "cells": [
  {
   "cell_type": "code",
   "execution_count": 1,
   "metadata": {},
   "outputs": [],
   "source": [
    "%matplotlib inline\n",
    "import numpy as np\n",
    "import matplotlib.pyplot as plt\n",
    "import pandas as pd"
   ]
  },
  {
   "cell_type": "code",
   "execution_count": 2,
   "metadata": {},
   "outputs": [
    {
     "name": "stdout",
     "output_type": "stream",
     "text": [
      "[45 39 24 59  2 35 65 56 53 82 74  1  8  4 72 96 29 26 36 45  2 81 24 39\n",
      " 88 27 94 81 43 19 36 76 62 41 92  3 76 46 80  3]\n",
      "最高分:96 最低分:1 及格人數(>=60):14 平均:46.6 標準差:29.05666876983664\n"
     ]
    },
    {
     "data": {
      "text/plain": [
       "(array([7., 1., 5., 3., 7., 2., 3., 4., 4., 4.]),\n",
       " array([ 1. , 10.5, 20. , 29.5, 39. , 48.5, 58. , 67.5, 77. , 86.5, 96. ]),\n",
       " <a list of 10 Patch objects>)"
      ]
     },
     "execution_count": 2,
     "metadata": {},
     "output_type": "execute_result"
    },
    {
     "data": {
      "image/png": "[encoded data removed]",
      "text/plain": [
       "<Figure size 432x288 with 1 Axes>"
      ]
     },
     "metadata": {
      "needs_background": "light"
     },
     "output_type": "display_data"
    }
   ],
   "source": [
    "#隨機用出40個成績算出最高分、最低分、及格人數、平均、標準差並畫圖展現。\n",
    "grades = np.random.randint(0,101,40)\n",
    "print(grades)\n",
    "print(f\"最高分:{grades.max()} 最低分:{grades.min()} 及格人數(>=60):{len(grades[grades>=60])} 平均:{grades.mean()} 標準差:{grades.std()}\")\n",
    "plt.hist(grades,bins=10,edgecolor=\"white\")"
   ]
  }
 ],
 "metadata": {
  "kernelspec": {
   "display_name": "Python 3",
   "language": "python",
   "name": "python3"
  },
  "language_info": {
   "codemirror_mode": {
    "name": "ipython",
    "version": 3
   },
   "file_extension": ".py",
   "mimetype": "text/x-python",
   "name": "python",
   "nbconvert_exporter": "python",
   "pygments_lexer": "ipython3",
   "version": "3.7.3"
  }
 },
 "nbformat": 4,
 "nbformat_minor": 2
}
