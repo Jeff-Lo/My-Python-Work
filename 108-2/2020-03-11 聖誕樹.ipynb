{
 "cells": [
  {
   "cell_type": "code",
   "execution_count": 1,
   "metadata": {},
   "outputs": [],
   "source": [
    "%matplotlib inline\n",
    "import numpy as np\n",
    "import matplotlib.pyplot as plt\n",
    "import pandas as pd"
   ]
  },
  {
   "cell_type": "code",
   "execution_count": 2,
   "metadata": {},
   "outputs": [
    {
     "name": "stdout",
     "output_type": "stream",
     "text": [
      "                        *                         \n",
      "                       ***                        \n",
      "                      *****                       \n",
      "                     *******                      \n",
      "                    *********                     \n",
      "                   ***********                    \n",
      "                  *************                   \n",
      "                       ***                        \n",
      "                       ***                        \n",
      "                       ***                        \n"
     ]
    }
   ],
   "source": [
    "for i in range(7):\n",
    "    a = \"*\" * (2 * i + 1)\n",
    "    b = f\"{a:^50s}\"\n",
    "    print(b)\n",
    "for j in range(3):\n",
    "    c = \"***\"\n",
    "    d = f\"{c:^50s}\"\n",
    "    print(d)"
   ]
  }
 ],
 "metadata": {
  "kernelspec": {
   "display_name": "Python 3",
   "language": "python",
   "name": "python3"
  },
  "language_info": {
   "codemirror_mode": {
    "name": "ipython",
    "version": 3
   },
   "file_extension": ".py",
   "mimetype": "text/x-python",
   "name": "python",
   "nbconvert_exporter": "python",
   "pygments_lexer": "ipython3",
   "version": "3.7.3"
  }
 },
 "nbformat": 4,
 "nbformat_minor": 2
}
