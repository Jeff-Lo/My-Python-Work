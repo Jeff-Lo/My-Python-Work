{
 "cells": [
  {
   "cell_type": "code",
   "execution_count": 1,
   "metadata": {
    "colab": {},
    "colab_type": "code",
    "id": "G1nC7eyZdWCc"
   },
   "outputs": [],
   "source": [
    "%matplotlib inline\n",
    "import numpy as np\n",
    "import matplotlib.pyplot as plt\n",
    "import pandas as pd"
   ]
  },
  {
   "cell_type": "markdown",
   "metadata": {
    "colab_type": "text",
    "id": "UlRMAYlXdoC5"
   },
   "source": [
    "# 改變的地方\n",
    "  * filter依序改用10、20、30個\n",
    "  * 神經元改用36個\n",
    "  * lr改用0.042\n",
    "  * batch_size改用256\n",
    "  * epochs改用10"
   ]
  },
  {
   "cell_type": "markdown",
   "metadata": {
    "colab_type": "text",
    "id": "x7EgQmr5drO0"
   },
   "source": [
    "# 讀入 Fashion MNIST 數據集"
   ]
  },
  {
   "cell_type": "code",
   "execution_count": 2,
   "metadata": {},
   "outputs": [],
   "source": [
    "import tensorflow as tf"
   ]
  },
  {
   "cell_type": "code",
   "execution_count": 3,
   "metadata": {
    "colab": {},
    "colab_type": "code",
    "id": "qqNan0v_drQ-"
   },
   "outputs": [],
   "source": [
    "from tensorflow.keras.datasets import fashion_mnist"
   ]
  },
  {
   "cell_type": "code",
   "execution_count": 4,
   "metadata": {
    "colab": {
     "base_uri": "https://localhost:8080/",
     "height": 151
    },
    "colab_type": "code",
    "executionInfo": {
     "elapsed": 2998,
     "status": "ok",
     "timestamp": 1586260038407,
     "user": {
      "displayName": "夢幻神羽",
      "photoUrl": "https://lh3.googleusercontent.com/a-/AOh14GhQDTy7rxbaQz1ak82QA3L3IQ9tZpsYmuQJYp1CnQ=s64",
      "userId": "15637563837804563051"
     },
     "user_tz": -480
    },
    "id": "tPV_ZjwydrTP",
    "outputId": "0ef90806-4dc7-4dc7-8180-91fa11becbd2"
   },
   "outputs": [],
   "source": [
    "(x_train, y_train), (x_test, y_test) = fashion_mnist.load_data()"
   ]
  },
  {
   "cell_type": "markdown",
   "metadata": {
    "colab_type": "text",
    "id": "dZHp4u3fdrVU"
   },
   "source": [
    "# 欣賞數據集內容"
   ]
  },
  {
   "cell_type": "code",
   "execution_count": 5,
   "metadata": {
    "colab": {},
    "colab_type": "code",
    "id": "OdX8iYBQd5e0"
   },
   "outputs": [],
   "source": [
    "class_names = [\"T-shirt/top\", \"Trouser\", \"Pullover\", \"Dress\", \"Coat\", \"Sandal\", \"Shirt\", \"Sneaker\", \"Bag\", \"Ankle boot\"]"
   ]
  },
  {
   "cell_type": "code",
   "execution_count": 6,
   "metadata": {
    "colab": {
     "base_uri": "https://localhost:8080/",
     "height": 282
    },
    "colab_type": "code",
    "executionInfo": {
     "elapsed": 1141,
     "status": "ok",
     "timestamp": 1586260087755,
     "user": {
      "displayName": "夢幻神羽",
      "photoUrl": "https://lh3.googleusercontent.com/a-/AOh14GhQDTy7rxbaQz1ak82QA3L3IQ9tZpsYmuQJYp1CnQ=s64",
      "userId": "15637563837804563051"
     },
     "user_tz": -480
    },
    "id": "P3UL8Qlod5hM",
    "outputId": "89e9f487-6f24-4ecd-eb8a-597b8cfadcba"
   },
   "outputs": [
    {
     "name": "stdout",
     "output_type": "stream",
     "text": [
      "這個東西是: Bag\n"
     ]
    },
    {
     "data": {
      "image/png": "[encoded data removed]",
      "text/plain": [
       "<Figure size 432x288 with 1 Axes>"
      ]
     },
     "metadata": {
      "needs_background": "light"
     },
     "output_type": "display_data"
    }
   ],
   "source": [
    "n = 4752\n",
    "print(\"這個東西是: \"+class_names[y_train[n]])\n",
    "plt.imshow(x_train[n], cmap=\"Greys\");"
   ]
  },
  {
   "cell_type": "code",
   "execution_count": 7,
   "metadata": {
    "colab": {
     "base_uri": "https://localhost:8080/",
     "height": 106
    },
    "colab_type": "code",
    "executionInfo": {
     "elapsed": 826,
     "status": "ok",
     "timestamp": 1586260089318,
     "user": {
      "displayName": "夢幻神羽",
      "photoUrl": "https://lh3.googleusercontent.com/a-/AOh14GhQDTy7rxbaQz1ak82QA3L3IQ9tZpsYmuQJYp1CnQ=s64",
      "userId": "15637563837804563051"
     },
     "user_tz": -480
    },
    "id": "zHZ-mV7md5jU",
    "outputId": "8b1f0b66-3283-423a-fc61-b6e28a017777"
   },
   "outputs": [
    {
     "data": {
      "image/png": "[encoded data removed]",
      "text/plain": [
       "<Figure size 432x288 with 5 Axes>"
      ]
     },
     "metadata": {},
     "output_type": "display_data"
    }
   ],
   "source": [
    "pick = np.random.choice(60000, 5, replace=False)\n",
    "for i in range(5):\n",
    "    n = pick[i]\n",
    "    ax = plt.subplot(151+i)\n",
    "    ax.set_xticks([])\n",
    "    ax.set_yticks([])\n",
    "    ax.set_title(class_names[y_train[n]], fontsize=10)\n",
    "    plt.imshow(x_train[n], cmap=\"Greys\")"
   ]
  },
  {
   "cell_type": "markdown",
   "metadata": {
    "colab_type": "text",
    "id": "SKR__lgOd5ln"
   },
   "source": [
    "# 資料整理"
   ]
  },
  {
   "cell_type": "code",
   "execution_count": 8,
   "metadata": {
    "colab": {
     "base_uri": "https://localhost:8080/",
     "height": 34
    },
    "colab_type": "code",
    "executionInfo": {
     "elapsed": 1142,
     "status": "ok",
     "timestamp": 1586260128418,
     "user": {
      "displayName": "夢幻神羽",
      "photoUrl": "https://lh3.googleusercontent.com/a-/AOh14GhQDTy7rxbaQz1ak82QA3L3IQ9tZpsYmuQJYp1CnQ=s64",
      "userId": "15637563837804563051"
     },
     "user_tz": -480
    },
    "id": "rHA4M1bRd5ns",
    "outputId": "eb688db4-b603-49ec-87ef-14d193f19cea"
   },
   "outputs": [
    {
     "data": {
      "text/plain": [
       "(60000, 28, 28)"
      ]
     },
     "execution_count": 8,
     "metadata": {},
     "output_type": "execute_result"
    }
   ],
   "source": [
    "x_train.shape"
   ]
  },
  {
   "cell_type": "code",
   "execution_count": 9,
   "metadata": {
    "colab": {
     "base_uri": "https://localhost:8080/",
     "height": 34
    },
    "colab_type": "code",
    "executionInfo": {
     "elapsed": 480,
     "status": "ok",
     "timestamp": 1586260129391,
     "user": {
      "displayName": "夢幻神羽",
      "photoUrl": "https://lh3.googleusercontent.com/a-/AOh14GhQDTy7rxbaQz1ak82QA3L3IQ9tZpsYmuQJYp1CnQ=s64",
      "userId": "15637563837804563051"
     },
     "user_tz": -480
    },
    "id": "uMz0C7gvd5pn",
    "outputId": "08b3e7a8-b504-4240-cb9b-2aa21b233c3f"
   },
   "outputs": [
    {
     "data": {
      "text/plain": [
       "(10000, 28, 28)"
      ]
     },
     "execution_count": 9,
     "metadata": {},
     "output_type": "execute_result"
    }
   ],
   "source": [
    "x_test.shape"
   ]
  },
  {
   "cell_type": "code",
   "execution_count": 10,
   "metadata": {
    "colab": {},
    "colab_type": "code",
    "id": "l1l9_fYXd5ry"
   },
   "outputs": [],
   "source": [
    "x_train = x_train.reshape(60000, 28, 28, 1)/255"
   ]
  },
  {
   "cell_type": "code",
   "execution_count": 11,
   "metadata": {
    "colab": {},
    "colab_type": "code",
    "id": "j5hFY0Tdd5tw"
   },
   "outputs": [],
   "source": [
    "x_test = x_test.reshape(10000, 28, 28, 1)/255"
   ]
  },
  {
   "cell_type": "code",
   "execution_count": 12,
   "metadata": {
    "colab": {},
    "colab_type": "code",
    "id": "PvCIversd5wI"
   },
   "outputs": [],
   "source": [
    "from tensorflow.keras.utils import to_categorical"
   ]
  },
  {
   "cell_type": "code",
   "execution_count": 13,
   "metadata": {
    "colab": {},
    "colab_type": "code",
    "id": "uHqiRuKVdrXV"
   },
   "outputs": [],
   "source": [
    "y_train = to_categorical(y_train, 10)"
   ]
  },
  {
   "cell_type": "code",
   "execution_count": 14,
   "metadata": {
    "colab": {},
    "colab_type": "code",
    "id": "EGnfzz12drY9"
   },
   "outputs": [],
   "source": [
    "y_test = to_categorical(y_test, 10)"
   ]
  },
  {
   "cell_type": "markdown",
   "metadata": {
    "colab_type": "text",
    "id": "cPFik4feeNDh"
   },
   "source": [
    "# 讀入必要的函式"
   ]
  },
  {
   "cell_type": "code",
   "execution_count": 15,
   "metadata": {
    "colab": {},
    "colab_type": "code",
    "id": "ftbDMLjOeN19"
   },
   "outputs": [],
   "source": [
    "from tensorflow.keras.models import Sequential\n",
    "from tensorflow.keras.layers import Conv2D, MaxPooling2D\n",
    "from tensorflow.keras.layers import Dense, Flatten\n",
    "from tensorflow.keras.optimizers import SGD"
   ]
  },
  {
   "cell_type": "markdown",
   "metadata": {
    "colab_type": "text",
    "id": "OP7yr2NneN38"
   },
   "source": [
    "# Step1:打造函數學習機(CNN)"
   ]
  },
  {
   "cell_type": "code",
   "execution_count": 16,
   "metadata": {
    "colab": {},
    "colab_type": "code",
    "id": "3fSXxXlEeN6B"
   },
   "outputs": [],
   "source": [
    "model = Sequential()"
   ]
  },
  {
   "cell_type": "code",
   "execution_count": 17,
   "metadata": {
    "colab": {},
    "colab_type": "code",
    "id": "pwnK7hbOeN8I"
   },
   "outputs": [],
   "source": [
    "model.add(Conv2D(10, (5,5), padding='same', input_shape=(28, 28, 1), activation='relu')) #這裡用10個fliter\n",
    "model.add(MaxPooling2D(pool_size=(2,2))) #變成(14,14,10)\n",
    "model.add(Conv2D(20, (5,5), padding='same', activation='relu')) #這裡用20個filter\n",
    "model.add(MaxPooling2D(pool_size=(2,2))) #變成(7,7,20)\n",
    "model.add(Conv2D(30, (5,5), padding='same', activation='relu')) #這裡用30個filter\n",
    "model.add(MaxPooling2D(pool_size=(2,2))) #變成(3,3,30)\n",
    "model.add(Flatten())\n",
    "model.add(Dense(36, activation='relu')) #這裡用36個神經元\n",
    "model.add(Dense(10, activation='softmax'))"
   ]
  },
  {
   "cell_type": "code",
   "execution_count": 18,
   "metadata": {
    "colab": {
     "base_uri": "https://localhost:8080/",
     "height": 454
    },
    "colab_type": "code",
    "executionInfo": {
     "elapsed": 1074,
     "status": "ok",
     "timestamp": 1586260223303,
     "user": {
      "displayName": "夢幻神羽",
      "photoUrl": "https://lh3.googleusercontent.com/a-/AOh14GhQDTy7rxbaQz1ak82QA3L3IQ9tZpsYmuQJYp1CnQ=s64",
      "userId": "15637563837804563051"
     },
     "user_tz": -480
    },
    "id": "pkXvueRFeN-O",
    "outputId": "52743af5-8bfd-4ee4-fe1f-9d9105438d1b"
   },
   "outputs": [
    {
     "name": "stdout",
     "output_type": "stream",
     "text": [
      "Model: \"sequential\"\n",
      "_________________________________________________________________\n",
      "Layer (type)                 Output Shape              Param #   \n",
      "=================================================================\n",
      "conv2d (Conv2D)              (None, 28, 28, 10)        260       \n",
      "_________________________________________________________________\n",
      "max_pooling2d (MaxPooling2D) (None, 14, 14, 10)        0         \n",
      "_________________________________________________________________\n",
      "conv2d_1 (Conv2D)            (None, 14, 14, 20)        5020      \n",
      "_________________________________________________________________\n",
      "max_pooling2d_1 (MaxPooling2 (None, 7, 7, 20)          0         \n",
      "_________________________________________________________________\n",
      "conv2d_2 (Conv2D)            (None, 7, 7, 30)          15030     \n",
      "_________________________________________________________________\n",
      "max_pooling2d_2 (MaxPooling2 (None, 3, 3, 30)          0         \n",
      "_________________________________________________________________\n",
      "flatten (Flatten)            (None, 270)               0         \n",
      "_________________________________________________________________\n",
      "dense (Dense)                (None, 36)                9756      \n",
      "_________________________________________________________________\n",
      "dense_1 (Dense)              (None, 10)                370       \n",
      "=================================================================\n",
      "Total params: 30,436\n",
      "Trainable params: 30,436\n",
      "Non-trainable params: 0\n",
      "_________________________________________________________________\n"
     ]
    }
   ],
   "source": [
    "model.summary()"
   ]
  },
  {
   "cell_type": "code",
   "execution_count": 19,
   "metadata": {
    "colab": {
     "base_uri": "https://localhost:8080/",
     "height": 34
    },
    "colab_type": "code",
    "executionInfo": {
     "elapsed": 723,
     "status": "ok",
     "timestamp": 1586260224714,
     "user": {
      "displayName": "夢幻神羽",
      "photoUrl": "https://lh3.googleusercontent.com/a-/AOh14GhQDTy7rxbaQz1ak82QA3L3IQ9tZpsYmuQJYp1CnQ=s64",
      "userId": "15637563837804563051"
     },
     "user_tz": -480
    },
    "id": "F2_tJpG3eOAc",
    "outputId": "44311ece-d1b4-4945-9bfc-b299b6edcc00"
   },
   "outputs": [
    {
     "data": {
      "text/plain": [
       "260"
      ]
     },
     "execution_count": 19,
     "metadata": {},
     "output_type": "execute_result"
    }
   ],
   "source": [
    "(5*5+1)*10 #算值"
   ]
  },
  {
   "cell_type": "code",
   "execution_count": 20,
   "metadata": {
    "colab": {
     "base_uri": "https://localhost:8080/",
     "height": 34
    },
    "colab_type": "code",
    "executionInfo": {
     "elapsed": 1090,
     "status": "ok",
     "timestamp": 1586260227845,
     "user": {
      "displayName": "夢幻神羽",
      "photoUrl": "https://lh3.googleusercontent.com/a-/AOh14GhQDTy7rxbaQz1ak82QA3L3IQ9tZpsYmuQJYp1CnQ=s64",
      "userId": "15637563837804563051"
     },
     "user_tz": -480
    },
    "id": "eFvl-Pf4eOCd",
    "outputId": "a9e29bf9-576f-4272-9d8e-20ed33b05438"
   },
   "outputs": [
    {
     "data": {
      "text/plain": [
       "5020"
      ]
     },
     "execution_count": 20,
     "metadata": {},
     "output_type": "execute_result"
    }
   ],
   "source": [
    "(5*5*10+1)*20 #算值"
   ]
  },
  {
   "cell_type": "code",
   "execution_count": 21,
   "metadata": {
    "colab": {
     "base_uri": "https://localhost:8080/",
     "height": 34
    },
    "colab_type": "code",
    "executionInfo": {
     "elapsed": 1068,
     "status": "ok",
     "timestamp": 1586260229564,
     "user": {
      "displayName": "夢幻神羽",
      "photoUrl": "https://lh3.googleusercontent.com/a-/AOh14GhQDTy7rxbaQz1ak82QA3L3IQ9tZpsYmuQJYp1CnQ=s64",
      "userId": "15637563837804563051"
     },
     "user_tz": -480
    },
    "id": "LCYOa1W8eOEc",
    "outputId": "fb07a857-f383-4be7-96a4-8d0a9d19e14e"
   },
   "outputs": [
    {
     "data": {
      "text/plain": [
       "15030"
      ]
     },
     "execution_count": 21,
     "metadata": {},
     "output_type": "execute_result"
    }
   ],
   "source": [
    "(5*5*20+1)*30 #算值"
   ]
  },
  {
   "cell_type": "code",
   "execution_count": 22,
   "metadata": {
    "colab": {},
    "colab_type": "code",
    "id": "_7OoaVfOeOGf"
   },
   "outputs": [],
   "source": [
    "model.compile(loss='mse', optimizer=SGD(lr=0.042), metrics=['accuracy']) #這裡lr改成0.042"
   ]
  },
  {
   "cell_type": "markdown",
   "metadata": {
    "colab_type": "text",
    "id": "JX-VeT8JeOIe"
   },
   "source": [
    "# Step2:fit"
   ]
  },
  {
   "cell_type": "code",
   "execution_count": 23,
   "metadata": {
    "colab": {
     "base_uri": "https://localhost:8080/",
     "height": 370
    },
    "colab_type": "code",
    "executionInfo": {
     "elapsed": 19640,
     "status": "ok",
     "timestamp": 1586260278775,
     "user": {
      "displayName": "夢幻神羽",
      "photoUrl": "https://lh3.googleusercontent.com/a-/AOh14GhQDTy7rxbaQz1ak82QA3L3IQ9tZpsYmuQJYp1CnQ=s64",
      "userId": "15637563837804563051"
     },
     "user_tz": -480
    },
    "id": "A3nMtk9Peoc9",
    "outputId": "ce45cd37-9366-4af1-f0ca-69564a3615f1"
   },
   "outputs": [
    {
     "name": "stdout",
     "output_type": "stream",
     "text": [
      "Train on 60000 samples\n",
      "Epoch 1/10\n",
      "60000/60000 [==============================] - 29s 487us/sample - loss: 0.0896 - accuracy: 0.1330\n",
      "Epoch 2/10\n",
      "60000/60000 [==============================] - 27s 453us/sample - loss: 0.0891 - accuracy: 0.1995\n",
      "Epoch 3/10\n",
      "60000/60000 [==============================] - 28s 466us/sample - loss: 0.0882 - accuracy: 0.2023\n",
      "Epoch 4/10\n",
      "60000/60000 [==============================] - 29s 491us/sample - loss: 0.0859 - accuracy: 0.2443\n",
      "Epoch 5/10\n",
      "60000/60000 [==============================] - 30s 493us/sample - loss: 0.0801 - accuracy: 0.3849\n",
      "Epoch 6/10\n",
      "60000/60000 [==============================] - 27s 458us/sample - loss: 0.0714 - accuracy: 0.4703\n",
      "Epoch 7/10\n",
      "60000/60000 [==============================] - 27s 457us/sample - loss: 0.0611 - accuracy: 0.5546\n",
      "Epoch 8/10\n",
      "60000/60000 [==============================] - 28s 465us/sample - loss: 0.0547 - accuracy: 0.5913\n",
      "Epoch 9/10\n",
      "60000/60000 [==============================] - 28s 465us/sample - loss: 0.0506 - accuracy: 0.6320\n",
      "Epoch 10/10\n",
      "60000/60000 [==============================] - 28s 465us/sample - loss: 0.0478 - accuracy: 0.6531\n"
     ]
    },
    {
     "data": {
      "text/plain": [
       "<tensorflow.python.keras.callbacks.History at 0x22486523288>"
      ]
     },
     "execution_count": 23,
     "metadata": {},
     "output_type": "execute_result"
    }
   ],
   "source": [
    "model.fit(x_train, y_train, batch_size=256, epochs=10) #這裡batch_size改成256,epochs改成10"
   ]
  },
  {
   "cell_type": "markdown",
   "metadata": {
    "colab_type": "text",
    "id": "7lp73_JSeofc"
   },
   "source": [
    "# Step3:預測"
   ]
  },
  {
   "cell_type": "code",
   "execution_count": 24,
   "metadata": {
    "colab": {
     "base_uri": "https://localhost:8080/",
     "height": 87
    },
    "colab_type": "code",
    "executionInfo": {
     "elapsed": 1414,
     "status": "ok",
     "timestamp": 1586260292664,
     "user": {
      "displayName": "夢幻神羽",
      "photoUrl": "https://lh3.googleusercontent.com/a-/AOh14GhQDTy7rxbaQz1ak82QA3L3IQ9tZpsYmuQJYp1CnQ=s64",
      "userId": "15637563837804563051"
     },
     "user_tz": -480
    },
    "id": "vu6vXNDSeohd",
    "outputId": "3a9bbd04-4601-463e-a7a0-09d8a4cb4acb"
   },
   "outputs": [],
   "source": [
    "result = model.predict_classes(x_test)\n",
    "def my_predict(n):\n",
    "    print(\"我帥氣的CNN預測是: \",class_names[result[n]])\n",
    "    X = x_test[n].reshape(28,28)\n",
    "    plt.imshow(X, cmap='Greys')"
   ]
  },
  {
   "cell_type": "code",
   "execution_count": 25,
   "metadata": {
    "colab": {
     "base_uri": "https://localhost:8080/",
     "height": 282
    },
    "colab_type": "code",
    "executionInfo": {
     "elapsed": 1160,
     "status": "ok",
     "timestamp": 1586260370473,
     "user": {
      "displayName": "夢幻神羽",
      "photoUrl": "https://lh3.googleusercontent.com/a-/AOh14GhQDTy7rxbaQz1ak82QA3L3IQ9tZpsYmuQJYp1CnQ=s64",
      "userId": "15637563837804563051"
     },
     "user_tz": -480
    },
    "id": "oGiEHSS8eoje",
    "outputId": "64b7bf29-965c-4134-9d30-800e5668e958"
   },
   "outputs": [
    {
     "name": "stdout",
     "output_type": "stream",
     "text": [
      "我帥氣的CNN預測是:  Trouser\n"
     ]
    },
    {
     "data": {
      "image/png": "[encoded data removed]",
      "text/plain": [
       "<Figure size 432x288 with 1 Axes>"
      ]
     },
     "metadata": {
      "needs_background": "light"
     },
     "output_type": "display_data"
    }
   ],
   "source": [
    "my_predict(6161)"
   ]
  },
  {
   "cell_type": "code",
   "execution_count": 26,
   "metadata": {
    "colab": {},
    "colab_type": "code",
    "id": "h7A1DG6Leolm"
   },
   "outputs": [],
   "source": [
    "from ipywidgets import interact_manual"
   ]
  },
  {
   "cell_type": "code",
   "execution_count": 27,
   "metadata": {
    "colab": {
     "base_uri": "https://localhost:8080/",
     "height": 346,
     "referenced_widgets": [
      "7f538f26e66e47a082a011bf8ec440eb",
      "b6f8de60df1f442f9a7f1eacdeb31ec4",
      "63840deaf2a74223b7d1f201ac013dcb",
      "67f0312bda4a4b2dbf2592ccac3bd416",
      "48e98df5462e429db3402a2264c3e441",
      "d54006f59fb243c5975eb273a17eff72",
      "1561388303c746ed97e6e1ac7e507fec",
      "66ece45b358e402191ecad6821bd62dd",
      "77644bdd631d41448f4d5f43f1badd34",
      "288e6e46b9a749eba4145a79e152af53"
     ]
    },
    "colab_type": "code",
    "executionInfo": {
     "elapsed": 1149,
     "status": "ok",
     "timestamp": 1586260383182,
     "user": {
      "displayName": "夢幻神羽",
      "photoUrl": "https://lh3.googleusercontent.com/a-/AOh14GhQDTy7rxbaQz1ak82QA3L3IQ9tZpsYmuQJYp1CnQ=s64",
      "userId": "15637563837804563051"
     },
     "user_tz": -480
    },
    "id": "IUZkS0pIeono",
    "outputId": "fbfb1f1b-fa54-49a9-f15f-1b57d9ba2693"
   },
   "outputs": [
    {
     "data": {
      "application/vnd.jupyter.widget-view+json": {
       "model_id": "b00d8153b54642bba5d949bfd1606874",
       "version_major": 2,
       "version_minor": 0
      },
      "text/plain": [
       "interactive(children=(IntSlider(value=4999, description='n', max=9999), Button(description='Run Interact', sty…"
      ]
     },
     "metadata": {},
     "output_type": "display_data"
    }
   ],
   "source": [
    "interact_manual(my_predict, n=(0,9999));"
   ]
  },
  {
   "cell_type": "code",
   "execution_count": 28,
   "metadata": {
    "colab": {
     "base_uri": "https://localhost:8080/",
     "height": 34
    },
    "colab_type": "code",
    "executionInfo": {
     "elapsed": 1669,
     "status": "ok",
     "timestamp": 1586260412712,
     "user": {
      "displayName": "夢幻神羽",
      "photoUrl": "https://lh3.googleusercontent.com/a-/AOh14GhQDTy7rxbaQz1ak82QA3L3IQ9tZpsYmuQJYp1CnQ=s64",
      "userId": "15637563837804563051"
     },
     "user_tz": -480
    },
    "id": "Ic4PLOKKeopm",
    "outputId": "69b20d71-74da-42fb-d147-849c4228718c"
   },
   "outputs": [
    {
     "name": "stdout",
     "output_type": "stream",
     "text": [
      "10000/10000 [==============================] - 1s 135us/sample - loss: 0.0488 - accuracy: 0.6268\n"
     ]
    }
   ],
   "source": [
    "score = model.evaluate(x_test, y_test)"
   ]
  },
  {
   "cell_type": "code",
   "execution_count": 29,
   "metadata": {
    "colab": {},
    "colab_type": "code",
    "id": "SRE63Lqfeorv"
   },
   "outputs": [],
   "source": [
    "loss, acc = score"
   ]
  },
  {
   "cell_type": "code",
   "execution_count": 30,
   "metadata": {
    "colab": {
     "base_uri": "https://localhost:8080/",
     "height": 34
    },
    "colab_type": "code",
    "executionInfo": {
     "elapsed": 1109,
     "status": "ok",
     "timestamp": 1586260433562,
     "user": {
      "displayName": "夢幻神羽",
      "photoUrl": "https://lh3.googleusercontent.com/a-/AOh14GhQDTy7rxbaQz1ak82QA3L3IQ9tZpsYmuQJYp1CnQ=s64",
      "userId": "15637563837804563051"
     },
     "user_tz": -480
    },
    "id": "jJf_weQYeotr",
    "outputId": "f366d691-761f-40fc-c362-e05d365fa8c2"
   },
   "outputs": [
    {
     "name": "stdout",
     "output_type": "stream",
     "text": [
      "這次CNN訓練的正確率是: 62.6800000667572%\n"
     ]
    }
   ],
   "source": [
    "print(\"這次CNN訓練的正確率是: {}%\".format(acc*100))"
   ]
  }
 ],
 "metadata": {
  "accelerator": "GPU",
  "colab": {
   "authorship_tag": "ABX9TyP0lJeejktnagXT73BPVICX",
   "collapsed_sections": [],
   "name": "卷積神經網路(CNN)-回家測試版.ipynb",
   "provenance": []
  },
  "kernelspec": {
   "display_name": "Python 3",
   "language": "python",
   "name": "python3"
  },
  "language_info": {
   "codemirror_mode": {
    "name": "ipython",
    "version": 3
   },
   "file_extension": ".py",
   "mimetype": "text/x-python",
   "name": "python",
   "nbconvert_exporter": "python",
   "pygments_lexer": "ipython3",
   "version": "3.7.3"
  },
  "widgets": {
   "application/vnd.jupyter.widget-state+json": {
    "1561388303c746ed97e6e1ac7e507fec": {
     "model_module": "@jupyter-widgets/base",
     "model_name": "LayoutModel",
     "state": {
      "_model_module": "@jupyter-widgets/base",
      "_model_module_version": "1.2.0",
      "_model_name": "LayoutModel",
      "_view_count": null,
      "_view_module": "@jupyter-widgets/base",
      "_view_module_version": "1.2.0",
      "_view_name": "LayoutView",
      "align_content": null,
      "align_items": null,
      "align_self": null,
      "border": null,
      "bottom": null,
      "display": null,
      "flex": null,
      "flex_flow": null,
      "grid_area": null,
      "grid_auto_columns": null,
      "grid_auto_flow": null,
      "grid_auto_rows": null,
      "grid_column": null,
      "grid_gap": null,
      "grid_row": null,
      "grid_template_areas": null,
      "grid_template_columns": null,
      "grid_template_rows": null,
      "height": null,
      "justify_content": null,
      "justify_items": null,
      "left": null,
      "margin": null,
      "max_height": null,
      "max_width": null,
      "min_height": null,
      "min_width": null,
      "object_fit": null,
      "object_position": null,
      "order": null,
      "overflow": null,
      "overflow_x": null,
      "overflow_y": null,
      "padding": null,
      "right": null,
      "top": null,
      "visibility": null,
      "width": null
     }
    },
    "288e6e46b9a749eba4145a79e152af53": {
     "model_module": "@jupyter-widgets/base",
     "model_name": "LayoutModel",
     "state": {
      "_model_module": "@jupyter-widgets/base",
      "_model_module_version": "1.2.0",
      "_model_name": "LayoutModel",
      "_view_count": null,
      "_view_module": "@jupyter-widgets/base",
      "_view_module_version": "1.2.0",
      "_view_name": "LayoutView",
      "align_content": null,
      "align_items": null,
      "align_self": null,
      "border": null,
      "bottom": null,
      "display": null,
      "flex": null,
      "flex_flow": null,
      "grid_area": null,
      "grid_auto_columns": null,
      "grid_auto_flow": null,
      "grid_auto_rows": null,
      "grid_column": null,
      "grid_gap": null,
      "grid_row": null,
      "grid_template_areas": null,
      "grid_template_columns": null,
      "grid_template_rows": null,
      "height": null,
      "justify_content": null,
      "justify_items": null,
      "left": null,
      "margin": null,
      "max_height": null,
      "max_width": null,
      "min_height": null,
      "min_width": null,
      "object_fit": null,
      "object_position": null,
      "order": null,
      "overflow": null,
      "overflow_x": null,
      "overflow_y": null,
      "padding": null,
      "right": null,
      "top": null,
      "visibility": null,
      "width": null
     }
    },
    "48e98df5462e429db3402a2264c3e441": {
     "model_module": "@jupyter-widgets/output",
     "model_name": "OutputModel",
     "state": {
      "_dom_classes": [],
      "_model_module": "@jupyter-widgets/output",
      "_model_module_version": "1.0.0",
      "_model_name": "OutputModel",
      "_view_count": null,
      "_view_module": "@jupyter-widgets/output",
      "_view_module_version": "1.0.0",
      "_view_name": "OutputView",
      "layout": "IPY_MODEL_288e6e46b9a749eba4145a79e152af53",
      "msg_id": "",
      "outputs": [
       {
        "metadata": {
         "tags": []
        },
        "output_type": "stream",
        "stream": "stdout",
        "text": "我帥氣的CNN預測是:  Coat\n"
       },
       {
        "image/png": "iVBORw0KGgoAAAANSUhEUgAAAPsAAAD4CAYAAAAq5pAIAAAABHNCSVQICAgIfAhkiAAAAAlwSFlz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\nVUNJdwAAAABJRU5ErkJggg==\n",
        "metadata": {
         "tags": []
        },
        "output_type": "display_data",
        "text/plain": "<Figure size 432x288 with 1 Axes>"
       }
      ]
     }
    },
    "63840deaf2a74223b7d1f201ac013dcb": {
     "model_module": "@jupyter-widgets/controls",
     "model_name": "IntSliderModel",
     "state": {
      "_dom_classes": [],
      "_model_module": "@jupyter-widgets/controls",
      "_model_module_version": "1.5.0",
      "_model_name": "IntSliderModel",
      "_view_count": null,
      "_view_module": "@jupyter-widgets/controls",
      "_view_module_version": "1.5.0",
      "_view_name": "IntSliderView",
      "continuous_update": true,
      "description": "n",
      "description_tooltip": null,
      "disabled": false,
      "layout": "IPY_MODEL_1561388303c746ed97e6e1ac7e507fec",
      "max": 9999,
      "min": 0,
      "orientation": "horizontal",
      "readout": true,
      "readout_format": "d",
      "step": 1,
      "style": "IPY_MODEL_d54006f59fb243c5975eb273a17eff72",
      "value": 3661
     }
    },
    "66ece45b358e402191ecad6821bd62dd": {
     "model_module": "@jupyter-widgets/controls",
     "model_name": "ButtonStyleModel",
     "state": {
      "_model_module": "@jupyter-widgets/controls",
      "_model_module_version": "1.5.0",
      "_model_name": "ButtonStyleModel",
      "_view_count": null,
      "_view_module": "@jupyter-widgets/base",
      "_view_module_version": "1.2.0",
      "_view_name": "StyleView",
      "button_color": null,
      "font_weight": ""
     }
    },
    "67f0312bda4a4b2dbf2592ccac3bd416": {
     "model_module": "@jupyter-widgets/controls",
     "model_name": "ButtonModel",
     "state": {
      "_dom_classes": [],
      "_model_module": "@jupyter-widgets/controls",
      "_model_module_version": "1.5.0",
      "_model_name": "ButtonModel",
      "_view_count": null,
      "_view_module": "@jupyter-widgets/controls",
      "_view_module_version": "1.5.0",
      "_view_name": "ButtonView",
      "button_style": "",
      "description": "Run Interact",
      "disabled": false,
      "icon": "",
      "layout": "IPY_MODEL_77644bdd631d41448f4d5f43f1badd34",
      "style": "IPY_MODEL_66ece45b358e402191ecad6821bd62dd",
      "tooltip": ""
     }
    },
    "77644bdd631d41448f4d5f43f1badd34": {
     "model_module": "@jupyter-widgets/base",
     "model_name": "LayoutModel",
     "state": {
      "_model_module": "@jupyter-widgets/base",
      "_model_module_version": "1.2.0",
      "_model_name": "LayoutModel",
      "_view_count": null,
      "_view_module": "@jupyter-widgets/base",
      "_view_module_version": "1.2.0",
      "_view_name": "LayoutView",
      "align_content": null,
      "align_items": null,
      "align_self": null,
      "border": null,
      "bottom": null,
      "display": null,
      "flex": null,
      "flex_flow": null,
      "grid_area": null,
      "grid_auto_columns": null,
      "grid_auto_flow": null,
      "grid_auto_rows": null,
      "grid_column": null,
      "grid_gap": null,
      "grid_row": null,
      "grid_template_areas": null,
      "grid_template_columns": null,
      "grid_template_rows": null,
      "height": null,
      "justify_content": null,
      "justify_items": null,
      "left": null,
      "margin": null,
      "max_height": null,
      "max_width": null,
      "min_height": null,
      "min_width": null,
      "object_fit": null,
      "object_position": null,
      "order": null,
      "overflow": null,
      "overflow_x": null,
      "overflow_y": null,
      "padding": null,
      "right": null,
      "top": null,
      "visibility": null,
      "width": null
     }
    },
    "7f538f26e66e47a082a011bf8ec440eb": {
     "model_module": "@jupyter-widgets/controls",
     "model_name": "VBoxModel",
     "state": {
      "_dom_classes": [
       "widget-interact"
      ],
      "_model_module": "@jupyter-widgets/controls",
      "_model_module_version": "1.5.0",
      "_model_name": "VBoxModel",
      "_view_count": null,
      "_view_module": "@jupyter-widgets/controls",
      "_view_module_version": "1.5.0",
      "_view_name": "VBoxView",
      "box_style": "",
      "children": [
       "IPY_MODEL_63840deaf2a74223b7d1f201ac013dcb",
       "IPY_MODEL_67f0312bda4a4b2dbf2592ccac3bd416",
       "IPY_MODEL_48e98df5462e429db3402a2264c3e441"
      ],
      "layout": "IPY_MODEL_b6f8de60df1f442f9a7f1eacdeb31ec4"
     }
    },
    "b6f8de60df1f442f9a7f1eacdeb31ec4": {
     "model_module": "@jupyter-widgets/base",
     "model_name": "LayoutModel",
     "state": {
      "_model_module": "@jupyter-widgets/base",
      "_model_module_version": "1.2.0",
      "_model_name": "LayoutModel",
      "_view_count": null,
      "_view_module": "@jupyter-widgets/base",
      "_view_module_version": "1.2.0",
      "_view_name": "LayoutView",
      "align_content": null,
      "align_items": null,
      "align_self": null,
      "border": null,
      "bottom": null,
      "display": null,
      "flex": null,
      "flex_flow": null,
      "grid_area": null,
      "grid_auto_columns": null,
      "grid_auto_flow": null,
      "grid_auto_rows": null,
      "grid_column": null,
      "grid_gap": null,
      "grid_row": null,
      "grid_template_areas": null,
      "grid_template_columns": null,
      "grid_template_rows": null,
      "height": null,
      "justify_content": null,
      "justify_items": null,
      "left": null,
      "margin": null,
      "max_height": null,
      "max_width": null,
      "min_height": null,
      "min_width": null,
      "object_fit": null,
      "object_position": null,
      "order": null,
      "overflow": null,
      "overflow_x": null,
      "overflow_y": null,
      "padding": null,
      "right": null,
      "top": null,
      "visibility": null,
      "width": null
     }
    },
    "d54006f59fb243c5975eb273a17eff72": {
     "model_module": "@jupyter-widgets/controls",
     "model_name": "SliderStyleModel",
     "state": {
      "_model_module": "@jupyter-widgets/controls",
      "_model_module_version": "1.5.0",
      "_model_name": "SliderStyleModel",
      "_view_count": null,
      "_view_module": "@jupyter-widgets/base",
      "_view_module_version": "1.2.0",
      "_view_name": "StyleView",
      "description_width": "",
      "handle_color": null
     }
    }
   }
  }
 },
 "nbformat": 4,
 "nbformat_minor": 1
}
