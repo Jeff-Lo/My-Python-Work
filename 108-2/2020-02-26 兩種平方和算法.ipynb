{
 "cells": [
  {
   "cell_type": "code",
   "execution_count": 1,
   "metadata": {},
   "outputs": [],
   "source": [
    "%matplotlib inline\n",
    "import numpy as np\n",
    "import matplotlib.pyplot as plt\n",
    "import pandas as pd\n",
    "import math"
   ]
  },
  {
   "cell_type": "code",
   "execution_count": 2,
   "metadata": {},
   "outputs": [
    {
     "name": "stdout",
     "output_type": "stream",
     "text": [
      "請輸入一個正整數:10\n",
      "385\n"
     ]
    }
   ],
   "source": [
    "x = input(\"請輸入一個正整數:\")\n",
    "x = int(x)\n",
    "total = 0\n",
    "for i in range(1,x+1):\n",
    "    total = total + math.pow(i,2)\n",
    "    total = int(total)\n",
    "print(total)"
   ]
  },
  {
   "cell_type": "code",
   "execution_count": 3,
   "metadata": {},
   "outputs": [
    {
     "name": "stdout",
     "output_type": "stream",
     "text": [
      "請輸入一個正整數:10\n",
      "385\n"
     ]
    }
   ],
   "source": [
    "y = input(\"請輸入一個正整數:\")\n",
    "y = int(y)\n",
    "total = y * (y+1) * (2*y+1) / 6\n",
    "total = int(total)\n",
    "print(total)"
   ]
  }
 ],
 "metadata": {
  "kernelspec": {
   "display_name": "Python 3",
   "language": "python",
   "name": "python3"
  },
  "language_info": {
   "codemirror_mode": {
    "name": "ipython",
    "version": 3
   },
   "file_extension": ".py",
   "mimetype": "text/x-python",
   "name": "python",
   "nbconvert_exporter": "python",
   "pygments_lexer": "ipython3",
   "version": "3.7.3"
  }
 },
 "nbformat": 4,
 "nbformat_minor": 2
}
