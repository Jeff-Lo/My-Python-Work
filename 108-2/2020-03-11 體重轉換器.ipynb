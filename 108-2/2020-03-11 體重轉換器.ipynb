{
 "cells": [
  {
   "cell_type": "code",
   "execution_count": 1,
   "metadata": {},
   "outputs": [],
   "source": [
    "%matplotlib inline\n",
    "import numpy as np\n",
    "import matplotlib.pyplot as plt\n",
    "import pandas as pd"
   ]
  },
  {
   "cell_type": "code",
   "execution_count": 2,
   "metadata": {},
   "outputs": [],
   "source": [
    "from ipywidgets import interact"
   ]
  },
  {
   "cell_type": "code",
   "execution_count": 3,
   "metadata": {},
   "outputs": [
    {
     "data": {
      "application/vnd.jupyter.widget-view+json": {
       "model_id": "4637206273194e3dbebb5f885a9c07d9",
       "version_major": 2,
       "version_minor": 0
      },
      "text/plain": [
       "interactive(children=(IntSlider(value=1, description='n', min=1), Output()), _dom_classes=('widget-interact',)…"
      ]
     },
     "metadata": {},
     "output_type": "display_data"
    }
   ],
   "source": [
    "def weight(n=0):\n",
    "    L = []\n",
    "    L.append(str(n*0.001)+\"公噸\")\n",
    "    L.append(str(n*1000)+\"公克\")\n",
    "    L.append(str(n*0.00098)+\"英噸\")\n",
    "    L.append(str(n*2.20462)+\"英鎊\")\n",
    "    L.append(str(n*35.27396)+\"盎司\")\n",
    "    L.append(str(n*2)+\"斤\")\n",
    "    L.append(str(n*1.66667)+\"台斤\")\n",
    "    L.append(str(n*26.66667)+\"兩\")\n",
    "    L.append(str(n*266.66667)+\"錢\")\n",
    "    L.append(str(n*2666.666672)+\"分\")\n",
    "    for i in range(10):\n",
    "        print(L[i])\n",
    "interact(weight,n=(1,100));"
   ]
  }
 ],
 "metadata": {
  "kernelspec": {
   "display_name": "Python 3",
   "language": "python",
   "name": "python3"
  },
  "language_info": {
   "codemirror_mode": {
    "name": "ipython",
    "version": 3
   },
   "file_extension": ".py",
   "mimetype": "text/x-python",
   "name": "python",
   "nbconvert_exporter": "python",
   "pygments_lexer": "ipython3",
   "version": "3.7.3"
  }
 },
 "nbformat": 4,
 "nbformat_minor": 2
}
