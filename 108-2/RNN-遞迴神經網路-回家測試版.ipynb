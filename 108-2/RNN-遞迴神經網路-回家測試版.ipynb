{
 "cells": [
  {
   "cell_type": "code",
   "execution_count": 1,
   "metadata": {
    "colab": {},
    "colab_type": "code",
    "id": "CcsPQwtSVxvC"
   },
   "outputs": [],
   "source": [
    "%matplotlib inline\n",
    "import numpy as np\n",
    "import matplotlib.pyplot as plt\n",
    "import pandas as pd"
   ]
  },
  {
   "cell_type": "markdown",
   "metadata": {
    "colab_type": "text",
    "id": "IxCaG9ioXXOs"
   },
   "source": [
    "# 改變的地方\n",
    "* num_words → 8888\n",
    "* maxlen → 77\n",
    "* Embedding → 8888維壓成100維\n",
    "* LSTM → 120\n",
    "* dropout → 0.1\n",
    "* recurrent_dropout → 0.1\n",
    "* batch_size → 20\n",
    "* epochs → 6"
   ]
  },
  {
   "cell_type": "markdown",
   "metadata": {
    "colab_type": "text",
    "id": "BEWMroV6V3zG"
   },
   "source": [
    "# 1.讀入深度學習套件和IMDB(電影評論)"
   ]
  },
  {
   "cell_type": "code",
   "execution_count": 2,
   "metadata": {},
   "outputs": [],
   "source": [
    "import tensorflow as tf"
   ]
  },
  {
   "cell_type": "code",
   "execution_count": 3,
   "metadata": {
    "colab": {},
    "colab_type": "code",
    "id": "wHFuEfvkV31c"
   },
   "outputs": [],
   "source": [
    "from tensorflow.keras.preprocessing import sequence\n",
    "from tensorflow.keras.models import Sequential\n",
    "from tensorflow.keras.layers import Dense, Embedding\n",
    "from tensorflow.keras.layers import LSTM\n",
    "from tensorflow.keras.datasets import imdb"
   ]
  },
  {
   "cell_type": "markdown",
   "metadata": {
    "colab_type": "text",
    "id": "viNMui-eV33P"
   },
   "source": [
    "# 2.讀入數據IMDB(電影評論)"
   ]
  },
  {
   "cell_type": "code",
   "execution_count": 4,
   "metadata": {
    "colab": {},
    "colab_type": "code",
    "id": "SnyDIj2CV35b"
   },
   "outputs": [],
   "source": [
    "(x_train, y_train), (x_test, y_test) = imdb.load_data(num_words=8888)"
   ]
  },
  {
   "cell_type": "code",
   "execution_count": 5,
   "metadata": {
    "colab": {
     "base_uri": "https://localhost:8080/",
     "height": 34
    },
    "colab_type": "code",
    "executionInfo": {
     "elapsed": 7570,
     "status": "ok",
     "timestamp": 1587786046094,
     "user": {
      "displayName": "夢幻神羽",
      "photoUrl": "https://lh3.googleusercontent.com/a-/AOh14GhQDTy7rxbaQz1ak82QA3L3IQ9tZpsYmuQJYp1CnQ=s64",
      "userId": "15637563837804563051"
     },
     "user_tz": -480
    },
    "id": "VBtRKnivV37h",
    "outputId": "13734d9d-24bc-415b-e01d-1f5e7fbb8d72"
   },
   "outputs": [
    {
     "data": {
      "text/plain": [
       "25000"
      ]
     },
     "execution_count": 5,
     "metadata": {},
     "output_type": "execute_result"
    }
   ],
   "source": [
    "len(x_train)"
   ]
  },
  {
   "cell_type": "code",
   "execution_count": 6,
   "metadata": {
    "colab": {
     "base_uri": "https://localhost:8080/",
     "height": 34
    },
    "colab_type": "code",
    "executionInfo": {
     "elapsed": 7551,
     "status": "ok",
     "timestamp": 1587786046095,
     "user": {
      "displayName": "夢幻神羽",
      "photoUrl": "https://lh3.googleusercontent.com/a-/AOh14GhQDTy7rxbaQz1ak82QA3L3IQ9tZpsYmuQJYp1CnQ=s64",
      "userId": "15637563837804563051"
     },
     "user_tz": -480
    },
    "id": "yMv9uZPWV39h",
    "outputId": "8524658b-e802-407e-b24e-93f75109dbdb"
   },
   "outputs": [
    {
     "data": {
      "text/plain": [
       "25000"
      ]
     },
     "execution_count": 6,
     "metadata": {},
     "output_type": "execute_result"
    }
   ],
   "source": [
    "len(x_test)"
   ]
  },
  {
   "cell_type": "code",
   "execution_count": 7,
   "metadata": {
    "colab": {
     "base_uri": "https://localhost:8080/",
     "height": 34
    },
    "colab_type": "code",
    "executionInfo": {
     "elapsed": 7536,
     "status": "ok",
     "timestamp": 1587786046095,
     "user": {
      "displayName": "夢幻神羽",
      "photoUrl": "https://lh3.googleusercontent.com/a-/AOh14GhQDTy7rxbaQz1ak82QA3L3IQ9tZpsYmuQJYp1CnQ=s64",
      "userId": "15637563837804563051"
     },
     "user_tz": -480
    },
    "id": "dwMph8G0V3_d",
    "outputId": "d3081ddf-6564-46c5-887e-12917bec8bc3"
   },
   "outputs": [
    {
     "data": {
      "text/plain": [
       "218"
      ]
     },
     "execution_count": 7,
     "metadata": {},
     "output_type": "execute_result"
    }
   ],
   "source": [
    "len(x_train[0])"
   ]
  },
  {
   "cell_type": "code",
   "execution_count": 8,
   "metadata": {
    "colab": {
     "base_uri": "https://localhost:8080/",
     "height": 34
    },
    "colab_type": "code",
    "executionInfo": {
     "elapsed": 7525,
     "status": "ok",
     "timestamp": 1587786046096,
     "user": {
      "displayName": "夢幻神羽",
      "photoUrl": "https://lh3.googleusercontent.com/a-/AOh14GhQDTy7rxbaQz1ak82QA3L3IQ9tZpsYmuQJYp1CnQ=s64",
      "userId": "15637563837804563051"
     },
     "user_tz": -480
    },
    "id": "2yKuMSGwV4Be",
    "outputId": "f8bce61e-46fb-40a9-b111-a64798889e55"
   },
   "outputs": [
    {
     "data": {
      "text/plain": [
       "189"
      ]
     },
     "execution_count": 8,
     "metadata": {},
     "output_type": "execute_result"
    }
   ],
   "source": [
    "len(x_train[1])"
   ]
  },
  {
   "cell_type": "code",
   "execution_count": 9,
   "metadata": {
    "colab": {
     "base_uri": "https://localhost:8080/",
     "height": 34
    },
    "colab_type": "code",
    "executionInfo": {
     "elapsed": 7492,
     "status": "ok",
     "timestamp": 1587786046100,
     "user": {
      "displayName": "夢幻神羽",
      "photoUrl": "https://lh3.googleusercontent.com/a-/AOh14GhQDTy7rxbaQz1ak82QA3L3IQ9tZpsYmuQJYp1CnQ=s64",
      "userId": "15637563837804563051"
     },
     "user_tz": -480
    },
    "id": "nBK15shPV4Dp",
    "outputId": "d630ef1f-ce0f-4ff4-dc49-ecffd1793f62"
   },
   "outputs": [
    {
     "data": {
      "text/plain": [
       "1"
      ]
     },
     "execution_count": 9,
     "metadata": {},
     "output_type": "execute_result"
    }
   ],
   "source": [
    "y_train[0]"
   ]
  },
  {
   "cell_type": "code",
   "execution_count": 10,
   "metadata": {
    "colab": {
     "base_uri": "https://localhost:8080/",
     "height": 34
    },
    "colab_type": "code",
    "executionInfo": {
     "elapsed": 7476,
     "status": "ok",
     "timestamp": 1587786046103,
     "user": {
      "displayName": "夢幻神羽",
      "photoUrl": "https://lh3.googleusercontent.com/a-/AOh14GhQDTy7rxbaQz1ak82QA3L3IQ9tZpsYmuQJYp1CnQ=s64",
      "userId": "15637563837804563051"
     },
     "user_tz": -480
    },
    "id": "NHQammYmV4F0",
    "outputId": "85d57a6e-5524-4ba2-f831-6b19f9975804"
   },
   "outputs": [
    {
     "data": {
      "text/plain": [
       "0"
      ]
     },
     "execution_count": 10,
     "metadata": {},
     "output_type": "execute_result"
    }
   ],
   "source": [
    "y_train[1]"
   ]
  },
  {
   "cell_type": "markdown",
   "metadata": {
    "colab_type": "text",
    "id": "FfHyAm7eV4H5"
   },
   "source": [
    "# 3.資料處理"
   ]
  },
  {
   "cell_type": "code",
   "execution_count": 11,
   "metadata": {
    "colab": {},
    "colab_type": "code",
    "id": "KZ4zCruqX8ee"
   },
   "outputs": [],
   "source": [
    "x_train = sequence.pad_sequences(x_train, maxlen=77)\n",
    "x_test = sequence.pad_sequences(x_test, maxlen=77)"
   ]
  },
  {
   "cell_type": "markdown",
   "metadata": {
    "colab_type": "text",
    "id": "ReMNdvbBX8hA"
   },
   "source": [
    "# 4.Step1:打造函數學習機"
   ]
  },
  {
   "cell_type": "code",
   "execution_count": 12,
   "metadata": {
    "colab": {},
    "colab_type": "code",
    "id": "CQuuUgSYX8jM"
   },
   "outputs": [],
   "source": [
    "model = Sequential()"
   ]
  },
  {
   "cell_type": "code",
   "execution_count": 13,
   "metadata": {
    "colab": {},
    "colab_type": "code",
    "id": "Ai8YQnCRX8lN"
   },
   "outputs": [],
   "source": [
    "model.add(Embedding(8888, 100))"
   ]
  },
  {
   "cell_type": "code",
   "execution_count": 14,
   "metadata": {
    "colab": {
     "base_uri": "https://localhost:8080/",
     "height": 34
    },
    "colab_type": "code",
    "executionInfo": {
     "elapsed": 7877,
     "status": "ok",
     "timestamp": 1587786046562,
     "user": {
      "displayName": "夢幻神羽",
      "photoUrl": "https://lh3.googleusercontent.com/a-/AOh14GhQDTy7rxbaQz1ak82QA3L3IQ9tZpsYmuQJYp1CnQ=s64",
      "userId": "15637563837804563051"
     },
     "user_tz": -480
    },
    "id": "JSsvKQ41X8nU",
    "outputId": "0dbbe7cf-ca28-46c5-c4e7-c86ad1ddc72d"
   },
   "outputs": [],
   "source": [
    "model.add(LSTM(120, dropout=0.1, recurrent_dropout=0.1))"
   ]
  },
  {
   "cell_type": "code",
   "execution_count": 15,
   "metadata": {
    "colab": {},
    "colab_type": "code",
    "id": "QueHyyf5X8pP"
   },
   "outputs": [],
   "source": [
    "model.add(Dense(1, activation='sigmoid'))"
   ]
  },
  {
   "cell_type": "code",
   "execution_count": 16,
   "metadata": {
    "colab": {},
    "colab_type": "code",
    "id": "CUQfFK-3aE3w"
   },
   "outputs": [],
   "source": [
    "model.compile(loss='binary_crossentropy', optimizer='adam', metrics=['accuracy'])"
   ]
  },
  {
   "cell_type": "code",
   "execution_count": 17,
   "metadata": {
    "colab": {
     "base_uri": "https://localhost:8080/",
     "height": 252
    },
    "colab_type": "code",
    "executionInfo": {
     "elapsed": 7794,
     "status": "ok",
     "timestamp": 1587786046563,
     "user": {
      "displayName": "夢幻神羽",
      "photoUrl": "https://lh3.googleusercontent.com/a-/AOh14GhQDTy7rxbaQz1ak82QA3L3IQ9tZpsYmuQJYp1CnQ=s64",
      "userId": "15637563837804563051"
     },
     "user_tz": -480
    },
    "id": "bI4Sdz9CaE5-",
    "outputId": "887a1c17-d3c3-47ab-f5b1-ca3adb5343d2"
   },
   "outputs": [
    {
     "name": "stdout",
     "output_type": "stream",
     "text": [
      "Model: \"sequential\"\n",
      "_________________________________________________________________\n",
      "Layer (type)                 Output Shape              Param #   \n",
      "=================================================================\n",
      "embedding (Embedding)        (None, None, 100)         888800    \n",
      "_________________________________________________________________\n",
      "lstm (LSTM)                  (None, 120)               106080    \n",
      "_________________________________________________________________\n",
      "dense (Dense)                (None, 1)                 121       \n",
      "=================================================================\n",
      "Total params: 995,001\n",
      "Trainable params: 995,001\n",
      "Non-trainable params: 0\n",
      "_________________________________________________________________\n"
     ]
    }
   ],
   "source": [
    "model.summary()"
   ]
  },
  {
   "cell_type": "code",
   "execution_count": 18,
   "metadata": {
    "colab": {
     "base_uri": "https://localhost:8080/",
     "height": 34
    },
    "colab_type": "code",
    "executionInfo": {
     "elapsed": 7776,
     "status": "ok",
     "timestamp": 1587786046563,
     "user": {
      "displayName": "夢幻神羽",
      "photoUrl": "https://lh3.googleusercontent.com/a-/AOh14GhQDTy7rxbaQz1ak82QA3L3IQ9tZpsYmuQJYp1CnQ=s64",
      "userId": "15637563837804563051"
     },
     "user_tz": -480
    },
    "id": "RfJicaaTaE8B",
    "outputId": "21078f60-50b3-49d6-c327-66faf26fe761"
   },
   "outputs": [
    {
     "data": {
      "text/plain": [
       "106080"
      ]
     },
     "execution_count": 18,
     "metadata": {},
     "output_type": "execute_result"
    }
   ],
   "source": [
    "(100+120+1)*4*120 #算param"
   ]
  },
  {
   "cell_type": "markdown",
   "metadata": {
    "colab_type": "text",
    "id": "rv1dm8YOaE-S"
   },
   "source": [
    "# 5.Step2:訓練"
   ]
  },
  {
   "cell_type": "code",
   "execution_count": 19,
   "metadata": {
    "colab": {
     "base_uri": "https://localhost:8080/",
     "height": 235
    },
    "colab_type": "code",
    "executionInfo": {
     "elapsed": 1056123,
     "status": "ok",
     "timestamp": 1587787359294,
     "user": {
      "displayName": "夢幻神羽",
      "photoUrl": "https://lh3.googleusercontent.com/a-/AOh14GhQDTy7rxbaQz1ak82QA3L3IQ9tZpsYmuQJYp1CnQ=s64",
      "userId": "15637563837804563051"
     },
     "user_tz": -480
    },
    "id": "PN4JSCawaFCT",
    "outputId": "480a2328-0407-4ae7-aef0-9f7e09a2b912"
   },
   "outputs": [
    {
     "name": "stdout",
     "output_type": "stream",
     "text": [
      "Train on 25000 samples, validate on 25000 samples\n",
      "Epoch 1/6\n",
      "25000/25000 [==============================] - 122s 5ms/sample - loss: 0.4530 - accuracy: 0.7860 - val_loss: 0.4031 - val_accuracy: 0.8242\n",
      "Epoch 2/6\n",
      "25000/25000 [==============================] - 116s 5ms/sample - loss: 0.3047 - accuracy: 0.8724 - val_loss: 0.3722 - val_accuracy: 0.8335\n",
      "Epoch 3/6\n",
      "25000/25000 [==============================] - 116s 5ms/sample - loss: 0.2331 - accuracy: 0.9077 - val_loss: 0.3931 - val_accuracy: 0.8366\n",
      "Epoch 4/6\n",
      "25000/25000 [==============================] - 116s 5ms/sample - loss: 0.1769 - accuracy: 0.9310 - val_loss: 0.4745 - val_accuracy: 0.8335\n",
      "Epoch 5/6\n",
      "25000/25000 [==============================] - 118s 5ms/sample - loss: 0.1355 - accuracy: 0.9500 - val_loss: 0.5025 - val_accuracy: 0.8329\n",
      "Epoch 6/6\n",
      "25000/25000 [==============================] - 116s 5ms/sample - loss: 0.1012 - accuracy: 0.9644 - val_loss: 0.5717 - val_accuracy: 0.8262\n"
     ]
    },
    {
     "data": {
      "text/plain": [
       "<tensorflow.python.keras.callbacks.History at 0x14f20680e88>"
      ]
     },
     "execution_count": 19,
     "metadata": {},
     "output_type": "execute_result"
    }
   ],
   "source": [
    "model.fit(x_train, y_train, batch_size=20, epochs=6, validation_data=(x_test, y_test))"
   ]
  },
  {
   "cell_type": "markdown",
   "metadata": {
    "colab_type": "text",
    "id": "Wu5vPB0DaFEa"
   },
   "source": [
    "# 6.Step3:預測"
   ]
  },
  {
   "cell_type": "code",
   "execution_count": 20,
   "metadata": {
    "colab": {},
    "colab_type": "code",
    "id": "L0G0-3aGaFQB"
   },
   "outputs": [],
   "source": [
    "result = model.predict_classes(x_test)"
   ]
  },
  {
   "cell_type": "code",
   "execution_count": 21,
   "metadata": {
    "colab": {},
    "colab_type": "code",
    "id": "d1Mi_0woaFZ8"
   },
   "outputs": [],
   "source": [
    "def my_predict(n):\n",
    "    print(\"我帥氣的RNN預測是: \", result[n])"
   ]
  },
  {
   "cell_type": "code",
   "execution_count": 22,
   "metadata": {
    "colab": {
     "base_uri": "https://localhost:8080/",
     "height": 34
    },
    "colab_type": "code",
    "executionInfo": {
     "elapsed": 1739,
     "status": "ok",
     "timestamp": 1587787750373,
     "user": {
      "displayName": "夢幻神羽",
      "photoUrl": "https://lh3.googleusercontent.com/a-/AOh14GhQDTy7rxbaQz1ak82QA3L3IQ9tZpsYmuQJYp1CnQ=s64",
      "userId": "15637563837804563051"
     },
     "user_tz": -480
    },
    "id": "UEUMAlLeaFcc",
    "outputId": "a9699b8d-668f-4ff0-e32e-ec44c27c41a3"
   },
   "outputs": [
    {
     "name": "stdout",
     "output_type": "stream",
     "text": [
      "我帥氣的RNN預測是:  [0]\n"
     ]
    }
   ],
   "source": [
    "my_predict(2)"
   ]
  },
  {
   "cell_type": "code",
   "execution_count": 23,
   "metadata": {
    "colab": {
     "base_uri": "https://localhost:8080/",
     "height": 34
    },
    "colab_type": "code",
    "executionInfo": {
     "elapsed": 1720,
     "status": "ok",
     "timestamp": 1587787767768,
     "user": {
      "displayName": "夢幻神羽",
      "photoUrl": "https://lh3.googleusercontent.com/a-/AOh14GhQDTy7rxbaQz1ak82QA3L3IQ9tZpsYmuQJYp1CnQ=s64",
      "userId": "15637563837804563051"
     },
     "user_tz": -480
    },
    "id": "Do8z6xGWaFet",
    "outputId": "ffd8125b-79d8-4bc8-a849-bbc8c0ec19c8"
   },
   "outputs": [
    {
     "name": "stdout",
     "output_type": "stream",
     "text": [
      "我帥氣的RNN預測是:  [1]\n"
     ]
    }
   ],
   "source": [
    "my_predict(5)"
   ]
  }
 ],
 "metadata": {
  "accelerator": "GPU",
  "colab": {
   "authorship_tag": "ABX9TyMPBgrvHvQp6djL4HTeP46R",
   "name": "RNN-回家測試版.ipynb",
   "provenance": []
  },
  "kernelspec": {
   "display_name": "Python 3",
   "language": "python",
   "name": "python3"
  },
  "language_info": {
   "codemirror_mode": {
    "name": "ipython",
    "version": 3
   },
   "file_extension": ".py",
   "mimetype": "text/x-python",
   "name": "python",
   "nbconvert_exporter": "python",
   "pygments_lexer": "ipython3",
   "version": "3.7.3"
  }
 },
 "nbformat": 4,
 "nbformat_minor": 1
}
