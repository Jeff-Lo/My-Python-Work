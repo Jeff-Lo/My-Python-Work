{
 "cells": [
  {
   "cell_type": "code",
   "execution_count": 1,
   "metadata": {
    "colab": {},
    "colab_type": "code",
    "id": "xPOZi4DcPbvi"
   },
   "outputs": [],
   "source": [
    "%matplotlib inline\n",
    "import numpy as np\n",
    "import matplotlib.pyplot as plt\n",
    "import pandas as pd"
   ]
  },
  {
   "cell_type": "code",
   "execution_count": 2,
   "metadata": {
    "colab": {},
    "colab_type": "code",
    "id": "f1tH0lzq9J1l"
   },
   "outputs": [],
   "source": [
    "import tensorflow as tf"
   ]
  },
  {
   "cell_type": "markdown",
   "metadata": {
    "colab": {},
    "colab_type": "code",
    "id": "shoFv_s694wT"
   },
   "source": [
    "# 讀入 Fashion MNIST 數據集"
   ]
  },
  {
   "cell_type": "code",
   "execution_count": 3,
   "metadata": {
    "colab": {},
    "colab_type": "code",
    "id": "35FeTG_C9J3x"
   },
   "outputs": [],
   "source": [
    "from tensorflow.keras.datasets import fashion_mnist"
   ]
  },
  {
   "cell_type": "code",
   "execution_count": 4,
   "metadata": {
    "colab": {},
    "colab_type": "code",
    "id": "JLgvm2ls9J6a"
   },
   "outputs": [
    {
     "name": "stdout",
     "output_type": "stream",
     "text": [
      "Downloading data from https://storage.googleapis.com/tensorflow/tf-keras-datasets/train-labels-idx1-ubyte.gz\n",
      "32768/29515 [=================================] - 0s 0us/step\n",
      "Downloading data from https://storage.googleapis.com/tensorflow/tf-keras-datasets/train-images-idx3-ubyte.gz\n",
      "26427392/26421880 [==============================] - 2s 0us/step\n",
      "Downloading data from https://storage.googleapis.com/tensorflow/tf-keras-datasets/t10k-labels-idx1-ubyte.gz\n",
      "8192/5148 [===============================================] - 0s 0us/step\n",
      "Downloading data from https://storage.googleapis.com/tensorflow/tf-keras-datasets/t10k-images-idx3-ubyte.gz\n",
      "4423680/4422102 [==============================] - 0s 0us/step\n"
     ]
    }
   ],
   "source": [
    "(x_train, y_train), (x_test, y_test) = fashion_mnist.load_data()"
   ]
  },
  {
   "cell_type": "markdown",
   "metadata": {
    "colab": {},
    "colab_type": "code",
    "id": "KJex0-I29J87"
   },
   "source": [
    "# 欣賞數據集內容"
   ]
  },
  {
   "cell_type": "code",
   "execution_count": 5,
   "metadata": {
    "colab": {},
    "colab_type": "code",
    "id": "iF5YnbgU9J_j"
   },
   "outputs": [],
   "source": [
    "class_names = [\"T-shirt/top\", \"Trouser\", \"Pullover\", \"Dress\", \"Coat\", \"Sandal\", \"Shirt\", \"Sneaker\", \"Bag\", \"Ankle boot\"]"
   ]
  },
  {
   "cell_type": "code",
   "execution_count": 6,
   "metadata": {
    "colab": {
     "base_uri": "https://localhost:8080/",
     "height": 282
    },
    "colab_type": "code",
    "executionInfo": {
     "elapsed": 5671,
     "status": "ok",
     "timestamp": 1585535323753,
     "user": {
      "displayName": "夢幻神羽",
      "photoUrl": "https://lh3.googleusercontent.com/a-/AOh14GhQDTy7rxbaQz1ak82QA3L3IQ9tZpsYmuQJYp1CnQ=s64",
      "userId": "15637563837804563051"
     },
     "user_tz": -480
    },
    "id": "8smUyG-j9KCJ",
    "outputId": "1fcb43e0-1298-4613-b6a9-5c62ad2f5eaa"
   },
   "outputs": [
    {
     "name": "stdout",
     "output_type": "stream",
     "text": [
      "這個東西是: Shirt\n"
     ]
    },
    {
     "data": {
      "image/png": "[encoded data removed]",
      "text/plain": [
       "<Figure size 432x288 with 1 Axes>"
      ]
     },
     "metadata": {
      "needs_background": "light"
     },
     "output_type": "display_data"
    }
   ],
   "source": [
    "n = 3642\n",
    "print(\"這個東西是: \"+class_names[y_train[n]])\n",
    "plt.imshow(x_train[n], cmap=\"Greys\");"
   ]
  },
  {
   "cell_type": "code",
   "execution_count": 7,
   "metadata": {
    "colab": {
     "base_uri": "https://localhost:8080/",
     "height": 106
    },
    "colab_type": "code",
    "executionInfo": {
     "elapsed": 5664,
     "status": "ok",
     "timestamp": 1585535323754,
     "user": {
      "displayName": "夢幻神羽",
      "photoUrl": "https://lh3.googleusercontent.com/a-/AOh14GhQDTy7rxbaQz1ak82QA3L3IQ9tZpsYmuQJYp1CnQ=s64",
      "userId": "15637563837804563051"
     },
     "user_tz": -480
    },
    "id": "893niesKBbNr",
    "outputId": "da11bf3f-7cca-44f7-883b-0d421454484c"
   },
   "outputs": [
    {
     "data": {
      "image/png": "[encoded data removed]",
      "text/plain": [
       "<Figure size 432x288 with 5 Axes>"
      ]
     },
     "metadata": {},
     "output_type": "display_data"
    }
   ],
   "source": [
    "pick = np.random.choice(60000, 5, replace=False)\n",
    "for i in range(5):\n",
    "  n = pick[i]\n",
    "  ax = plt.subplot(151+i)\n",
    "  ax.set_xticks([])\n",
    "  ax.set_yticks([])\n",
    "  ax.set_title(class_names[y_train[n]], fontsize=10)\n",
    "  plt.imshow(x_train[n], cmap=\"Greys\")"
   ]
  },
  {
   "cell_type": "markdown",
   "metadata": {
    "colab": {},
    "colab_type": "code",
    "id": "9N_1h2u0B3Je"
   },
   "source": [
    "# 資料整理"
   ]
  },
  {
   "cell_type": "code",
   "execution_count": 8,
   "metadata": {
    "colab": {},
    "colab_type": "code",
    "id": "eCZcqrGRHISv"
   },
   "outputs": [],
   "source": [
    "x_train = x_train.reshape(len(x_train), 784)/255"
   ]
  },
  {
   "cell_type": "code",
   "execution_count": 9,
   "metadata": {
    "colab": {},
    "colab_type": "code",
    "id": "iUYC_QNBF8Dv"
   },
   "outputs": [],
   "source": [
    "x_test = x_test.reshape(len(x_test), 784)/255"
   ]
  },
  {
   "cell_type": "code",
   "execution_count": 10,
   "metadata": {
    "colab": {},
    "colab_type": "code",
    "id": "vq0z7r5zGR17"
   },
   "outputs": [],
   "source": [
    "from tensorflow.keras.utils import to_categorical"
   ]
  },
  {
   "cell_type": "code",
   "execution_count": 11,
   "metadata": {
    "colab": {},
    "colab_type": "code",
    "id": "ug3OOAY6GrDD"
   },
   "outputs": [],
   "source": [
    "y_train = to_categorical(y_train, 10)"
   ]
  },
  {
   "cell_type": "code",
   "execution_count": 12,
   "metadata": {
    "colab": {},
    "colab_type": "code",
    "id": "zo2NlWbOHCEB"
   },
   "outputs": [],
   "source": [
    "y_test = to_categorical(y_test, 10)"
   ]
  },
  {
   "cell_type": "markdown",
   "metadata": {
    "colab": {},
    "colab_type": "code",
    "id": "0Ns4_ruqHFk2"
   },
   "source": [
    "# 打造神經網路"
   ]
  },
  {
   "cell_type": "code",
   "execution_count": 13,
   "metadata": {
    "colab": {},
    "colab_type": "code",
    "id": "LWq5uUFeHJLT"
   },
   "outputs": [],
   "source": [
    "from tensorflow.keras.models import Sequential\n",
    "from tensorflow.keras.layers import Dense\n",
    "from tensorflow.keras.optimizers import SGD"
   ]
  },
  {
   "cell_type": "code",
   "execution_count": 14,
   "metadata": {
    "colab": {},
    "colab_type": "code",
    "id": "7gnoPN_VHkjJ"
   },
   "outputs": [],
   "source": [
    "model = Sequential()"
   ]
  },
  {
   "cell_type": "code",
   "execution_count": 15,
   "metadata": {
    "colab": {},
    "colab_type": "code",
    "id": "NEmh5BR9HsZc"
   },
   "outputs": [],
   "source": [
    "model.add(Dense(324, input_dim=784, activation='relu')) #這裡用324個神經元"
   ]
  },
  {
   "cell_type": "code",
   "execution_count": 16,
   "metadata": {
    "colab": {},
    "colab_type": "code",
    "id": "AvjT273aKqdx"
   },
   "outputs": [],
   "source": [
    "model.add(Dense(324, activation='relu'))"
   ]
  },
  {
   "cell_type": "code",
   "execution_count": 17,
   "metadata": {
    "colab": {},
    "colab_type": "code",
    "id": "kBpl-HfdLYij"
   },
   "outputs": [],
   "source": [
    "model.add(Dense(10, activation='softmax'))"
   ]
  },
  {
   "cell_type": "markdown",
   "metadata": {
    "colab": {},
    "colab_type": "code",
    "id": "O-3UX7vNLhw0"
   },
   "source": [
    "# 組裝神經網路"
   ]
  },
  {
   "cell_type": "code",
   "execution_count": 18,
   "metadata": {
    "colab": {},
    "colab_type": "code",
    "id": "VtIQiwtXLmmI"
   },
   "outputs": [],
   "source": [
    "model.compile(loss='mse', optimizer=SGD(lr=0.87), metrics=['accuracy']) #lr改成0.87"
   ]
  },
  {
   "cell_type": "code",
   "execution_count": 19,
   "metadata": {
    "colab": {
     "base_uri": "https://localhost:8080/",
     "height": 252
    },
    "colab_type": "code",
    "executionInfo": {
     "elapsed": 5577,
     "status": "ok",
     "timestamp": 1585535323762,
     "user": {
      "displayName": "夢幻神羽",
      "photoUrl": "https://lh3.googleusercontent.com/a-/AOh14GhQDTy7rxbaQz1ak82QA3L3IQ9tZpsYmuQJYp1CnQ=s64",
      "userId": "15637563837804563051"
     },
     "user_tz": -480
    },
    "id": "bRd39RRAL-ux",
    "outputId": "2aebd102-c96e-45e9-fea2-3af6ef592650"
   },
   "outputs": [
    {
     "name": "stdout",
     "output_type": "stream",
     "text": [
      "Model: \"sequential\"\n",
      "_________________________________________________________________\n",
      "Layer (type)                 Output Shape              Param #   \n",
      "=================================================================\n",
      "dense (Dense)                (None, 324)               254340    \n",
      "_________________________________________________________________\n",
      "dense_1 (Dense)              (None, 324)               105300    \n",
      "_________________________________________________________________\n",
      "dense_2 (Dense)              (None, 10)                3250      \n",
      "=================================================================\n",
      "Total params: 362,890\n",
      "Trainable params: 362,890\n",
      "Non-trainable params: 0\n",
      "_________________________________________________________________\n"
     ]
    }
   ],
   "source": [
    "model.summary()"
   ]
  },
  {
   "cell_type": "markdown",
   "metadata": {
    "colab": {},
    "colab_type": "code",
    "id": "0qdlUrNqMAO8"
   },
   "source": [
    "# 訓練"
   ]
  },
  {
   "cell_type": "code",
   "execution_count": 20,
   "metadata": {
    "colab": {
     "base_uri": "https://localhost:8080/",
     "height": 1000
    },
    "colab_type": "code",
    "executionInfo": {
     "elapsed": 30656,
     "status": "ok",
     "timestamp": 1585535348857,
     "user": {
      "displayName": "夢幻神羽",
      "photoUrl": "https://lh3.googleusercontent.com/a-/AOh14GhQDTy7rxbaQz1ak82QA3L3IQ9tZpsYmuQJYp1CnQ=s64",
      "userId": "15637563837804563051"
     },
     "user_tz": -480
    },
    "id": "epnk4Qf1MRC4",
    "outputId": "f90b3ab5-d548-493f-e9e1-4f9152b3b2c3"
   },
   "outputs": [
    {
     "name": "stdout",
     "output_type": "stream",
     "text": [
      "Train on 60000 samples\n",
      "Epoch 1/40\n",
      "60000/60000 [==============================] - 2s 36us/sample - loss: 0.0419 - accuracy: 0.7132\n",
      "Epoch 2/40\n",
      "60000/60000 [==============================] - 2s 31us/sample - loss: 0.0273 - accuracy: 0.8163\n",
      "Epoch 3/40\n",
      "60000/60000 [==============================] - 2s 28us/sample - loss: 0.0242 - accuracy: 0.8373\n",
      "Epoch 4/40\n",
      "60000/60000 [==============================] - 2s 34us/sample - loss: 0.0228 - accuracy: 0.8443\n",
      "Epoch 5/40\n",
      "60000/60000 [==============================] - 2s 33us/sample - loss: 0.0215 - accuracy: 0.8540\n",
      "Epoch 6/40\n",
      "60000/60000 [==============================] - 2s 38us/sample - loss: 0.0207 - accuracy: 0.8599\n",
      "Epoch 7/40\n",
      "60000/60000 [==============================] - 2s 28us/sample - loss: 0.0199 - accuracy: 0.8649\n",
      "Epoch 8/40\n",
      "60000/60000 [==============================] - 2s 32us/sample - loss: 0.0194 - accuracy: 0.8695\n",
      "Epoch 9/40\n",
      "60000/60000 [==============================] - 2s 30us/sample - loss: 0.0189 - accuracy: 0.8719\n",
      "Epoch 10/40\n",
      "60000/60000 [==============================] - 2s 37us/sample - loss: 0.0184 - accuracy: 0.8742\n",
      "Epoch 11/40\n",
      "60000/60000 [==============================] - 2s 42us/sample - loss: 0.0180 - accuracy: 0.8774\n",
      "Epoch 12/40\n",
      "60000/60000 [==============================] - 2s 30us/sample - loss: 0.0175 - accuracy: 0.8816\n",
      "Epoch 13/40\n",
      "60000/60000 [==============================] - 2s 34us/sample - loss: 0.0172 - accuracy: 0.8839\n",
      "Epoch 14/40\n",
      "60000/60000 [==============================] - 2s 40us/sample - loss: 0.0168 - accuracy: 0.8865\n",
      "Epoch 15/40\n",
      "60000/60000 [==============================] - 2s 37us/sample - loss: 0.0165 - accuracy: 0.8884\n",
      "Epoch 16/40\n",
      "60000/60000 [==============================] - 2s 29us/sample - loss: 0.0164 - accuracy: 0.8899\n",
      "Epoch 17/40\n",
      "60000/60000 [==============================] - 2s 27us/sample - loss: 0.0160 - accuracy: 0.8928\n",
      "Epoch 18/40\n",
      "60000/60000 [==============================] - 2s 29us/sample - loss: 0.0158 - accuracy: 0.8950\n",
      "Epoch 19/40\n",
      "60000/60000 [==============================] - 2s 38us/sample - loss: 0.0156 - accuracy: 0.8945\n",
      "Epoch 20/40\n",
      "60000/60000 [==============================] - 2s 33us/sample - loss: 0.0154 - accuracy: 0.8968\n",
      "Epoch 21/40\n",
      "60000/60000 [==============================] - 2s 25us/sample - loss: 0.0152 - accuracy: 0.8987\n",
      "Epoch 22/40\n",
      "60000/60000 [==============================] - 1s 23us/sample - loss: 0.0149 - accuracy: 0.9007\n",
      "Epoch 23/40\n",
      "60000/60000 [==============================] - 1s 25us/sample - loss: 0.0147 - accuracy: 0.9013\n",
      "Epoch 24/40\n",
      "60000/60000 [==============================] - 1s 24us/sample - loss: 0.0145 - accuracy: 0.9030\n",
      "Epoch 25/40\n",
      "60000/60000 [==============================] - 2s 27us/sample - loss: 0.0143 - accuracy: 0.9049\n",
      "Epoch 26/40\n",
      "60000/60000 [==============================] - 2s 31us/sample - loss: 0.0141 - accuracy: 0.9058\n",
      "Epoch 27/40\n",
      "60000/60000 [==============================] - 2s 28us/sample - loss: 0.0140 - accuracy: 0.9067\n",
      "Epoch 28/40\n",
      "60000/60000 [==============================] - 1s 23us/sample - loss: 0.0138 - accuracy: 0.9094\n",
      "Epoch 29/40\n",
      "60000/60000 [==============================] - 2s 25us/sample - loss: 0.0136 - accuracy: 0.9098\n",
      "Epoch 30/40\n",
      "60000/60000 [==============================] - 2s 27us/sample - loss: 0.0135 - accuracy: 0.9112\n",
      "Epoch 31/40\n",
      "60000/60000 [==============================] - 1s 23us/sample - loss: 0.0133 - accuracy: 0.9118\n",
      "Epoch 32/40\n",
      "60000/60000 [==============================] - 2s 27us/sample - loss: 0.0131 - accuracy: 0.9134\n",
      "Epoch 33/40\n",
      "60000/60000 [==============================] - 1s 24us/sample - loss: 0.0130 - accuracy: 0.9141\n",
      "Epoch 34/40\n",
      "60000/60000 [==============================] - 2s 27us/sample - loss: 0.0128 - accuracy: 0.9156\n",
      "Epoch 35/40\n",
      "60000/60000 [==============================] - 1s 25us/sample - loss: 0.0127 - accuracy: 0.9173\n",
      "Epoch 36/40\n",
      "60000/60000 [==============================] - 2s 27us/sample - loss: 0.0126 - accuracy: 0.9177\n",
      "Epoch 37/40\n",
      "60000/60000 [==============================] - 2s 26us/sample - loss: 0.0124 - accuracy: 0.9189\n",
      "Epoch 38/40\n",
      "60000/60000 [==============================] - 2s 27us/sample - loss: 0.0123 - accuracy: 0.9189\n",
      "Epoch 39/40\n",
      "60000/60000 [==============================] - 2s 28us/sample - loss: 0.0121 - accuracy: 0.9208\n",
      "Epoch 40/40\n",
      "60000/60000 [==============================] - 2s 26us/sample - loss: 0.0121 - accuracy: 0.9213\n"
     ]
    },
    {
     "data": {
      "text/plain": [
       "<tensorflow.python.keras.callbacks.History at 0x1671a3cb688>"
      ]
     },
     "execution_count": 20,
     "metadata": {},
     "output_type": "execute_result"
    }
   ],
   "source": [
    "model.fit(x_train, y_train, batch_size=200, epochs=40) #batch_size改成200，epochs改成40"
   ]
  },
  {
   "cell_type": "markdown",
   "metadata": {
    "colab": {},
    "colab_type": "code",
    "id": "mIE3eYQQMsCI"
   },
   "source": [
    "# 訓練成果"
   ]
  },
  {
   "cell_type": "code",
   "execution_count": 21,
   "metadata": {
    "colab": {
     "base_uri": "https://localhost:8080/",
     "height": 87
    },
    "colab_type": "code",
    "executionInfo": {
     "elapsed": 30647,
     "status": "ok",
     "timestamp": 1585535348860,
     "user": {
      "displayName": "夢幻神羽",
      "photoUrl": "https://lh3.googleusercontent.com/a-/AOh14GhQDTy7rxbaQz1ak82QA3L3IQ9tZpsYmuQJYp1CnQ=s64",
      "userId": "15637563837804563051"
     },
     "user_tz": -480
    },
    "id": "M0wTmr3lPh_S",
    "outputId": "7f998430-05c8-41ca-ab85-0c3e3f53ad43"
   },
   "outputs": [],
   "source": [
    "result = model.predict_classes(x_test)"
   ]
  },
  {
   "cell_type": "code",
   "execution_count": 22,
   "metadata": {
    "colab": {
     "base_uri": "https://localhost:8080/",
     "height": 298
    },
    "colab_type": "code",
    "executionInfo": {
     "elapsed": 30639,
     "status": "ok",
     "timestamp": 1585535348860,
     "user": {
      "displayName": "夢幻神羽",
      "photoUrl": "https://lh3.googleusercontent.com/a-/AOh14GhQDTy7rxbaQz1ak82QA3L3IQ9tZpsYmuQJYp1CnQ=s64",
      "userId": "15637563837804563051"
     },
     "user_tz": -480
    },
    "id": "Cit6Lwp7Pu23",
    "outputId": "f5e5e834-b335-4b6b-f1d5-9d131f1de273"
   },
   "outputs": [
    {
     "name": "stdout",
     "output_type": "stream",
     "text": [
      "神經網路預測是:  Dress\n"
     ]
    },
    {
     "data": {
      "text/plain": [
       "<matplotlib.image.AxesImage at 0x1671a8f2f48>"
      ]
     },
     "execution_count": 22,
     "metadata": {},
     "output_type": "execute_result"
    },
    {
     "data": {
      "image/png": "[encoded data removed]",
      "text/plain": [
       "<Figure size 432x288 with 1 Axes>"
      ]
     },
     "metadata": {
      "needs_background": "light"
     },
     "output_type": "display_data"
    }
   ],
   "source": [
    "n = 5566\n",
    "print('神經網路預測是: ', class_names[result[n]])\n",
    "plt.imshow(x_test[n].reshape(28,28), cmap='Greys')"
   ]
  }
 ],
 "metadata": {
  "accelerator": "GPU",
  "colab": {
   "authorship_tag": "ABX9TyM1ZUx5b0OWAM8IOlExvHUZ",
   "collapsed_sections": [],
   "name": "全連結神經網路-回家測試版.ipynb",
   "provenance": []
  },
  "kernelspec": {
   "display_name": "Python 3",
   "language": "python",
   "name": "python3"
  },
  "language_info": {
   "codemirror_mode": {
    "name": "ipython",
    "version": 3
   },
   "file_extension": ".py",
   "mimetype": "text/x-python",
   "name": "python",
   "nbconvert_exporter": "python",
   "pygments_lexer": "ipython3",
   "version": "3.7.3"
  }
 },
 "nbformat": 4,
 "nbformat_minor": 1
}
