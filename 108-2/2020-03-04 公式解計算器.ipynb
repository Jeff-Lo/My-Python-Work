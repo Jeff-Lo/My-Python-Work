{
 "cells": [
  {
   "cell_type": "code",
   "execution_count": 1,
   "metadata": {},
   "outputs": [],
   "source": [
    "%matplotlib inline\n",
    "import numpy as np\n",
    "import matplotlib.pyplot as plt\n",
    "import pandas as pd"
   ]
  },
  {
   "cell_type": "code",
   "execution_count": 2,
   "metadata": {},
   "outputs": [
    {
     "name": "stdout",
     "output_type": "stream",
     "text": [
      "請輸入a的數字: 1.2\n",
      "請輸入b的數字: 31.6\n",
      "請輸入c的數字: 9.5\n",
      "答案是 -0.3041457456168425 or -26.029187587716493 。\n"
     ]
    }
   ],
   "source": [
    "a = float(input(\"請輸入a的數字: \"))\n",
    "b = float(input(\"請輸入b的數字: \"))\n",
    "c = float(input(\"請輸入c的數字: \"))\n",
    "if np.sqrt(np.power(b,2)-4*a*c)>=0:\n",
    "    answer1 = (-b+np.sqrt(np.power(b,2)-4*a*c))/(2*a)\n",
    "    answer2 = (-b-np.sqrt(np.power(b,2)-4*a*c))/(2*a)\n",
    "    print(f\"答案是 {answer1} or {answer2} 。\")\n",
    "else:\n",
    "    print(\"根號裡不能小於0喔!\")"
   ]
  }
 ],
 "metadata": {
  "kernelspec": {
   "display_name": "Python 3",
   "language": "python",
   "name": "python3"
  },
  "language_info": {
   "codemirror_mode": {
    "name": "ipython",
    "version": 3
   },
   "file_extension": ".py",
   "mimetype": "text/x-python",
   "name": "python",
   "nbconvert_exporter": "python",
   "pygments_lexer": "ipython3",
   "version": "3.7.3"
  }
 },
 "nbformat": 4,
 "nbformat_minor": 2
}
