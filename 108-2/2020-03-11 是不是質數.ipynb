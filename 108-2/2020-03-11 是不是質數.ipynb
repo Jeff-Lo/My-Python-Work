{
 "cells": [
  {
   "cell_type": "code",
   "execution_count": 1,
   "metadata": {},
   "outputs": [],
   "source": [
    "%matplotlib inline\n",
    "import numpy as np\n",
    "import matplotlib.pyplot as plt\n",
    "import pandas as pd"
   ]
  },
  {
   "cell_type": "markdown",
   "metadata": {},
   "source": [
    "# 判斷是不是質數"
   ]
  },
  {
   "cell_type": "code",
   "execution_count": 2,
   "metadata": {},
   "outputs": [
    {
     "name": "stdout",
     "output_type": "stream",
     "text": [
      "請輸入一個不包含1的正整數: 47\n",
      "47是質數。\n"
     ]
    }
   ],
   "source": [
    "number = int(input(\"請輸入一個不包含1的正整數: \"))\n",
    "if(number == 2):\n",
    "    print(\"2是質數。\")\n",
    "else:\n",
    "    for i in range(2,number):\n",
    "        if(number % i == 0):\n",
    "            print(f\"{number}不是質數。\")\n",
    "            a = number - 1\n",
    "            break;\n",
    "        else:\n",
    "            a = number\n",
    "    if(a == number):\n",
    "        print(f\"{number}是質數。\")"
   ]
  },
  {
   "cell_type": "markdown",
   "metadata": {},
   "source": [
    "# 等等...好像有更快的方法"
   ]
  },
  {
   "cell_type": "code",
   "execution_count": 3,
   "metadata": {},
   "outputs": [
    {
     "name": "stdout",
     "output_type": "stream",
     "text": [
      "請輸入一個正整數: 60\n",
      "60不是質數。\n"
     ]
    }
   ],
   "source": [
    "import sympy as sp\n",
    "number = int(input(\"請輸入一個正整數: \"))\n",
    "if(sp.isprime(number)):\n",
    "    print(f\"{number}是質數。\")\n",
    "else:\n",
    "    print(f\"{number}不是質數。\")"
   ]
  }
 ],
 "metadata": {
  "kernelspec": {
   "display_name": "Python 3",
   "language": "python",
   "name": "python3"
  },
  "language_info": {
   "codemirror_mode": {
    "name": "ipython",
    "version": 3
   },
   "file_extension": ".py",
   "mimetype": "text/x-python",
   "name": "python",
   "nbconvert_exporter": "python",
   "pygments_lexer": "ipython3",
   "version": "3.7.3"
  }
 },
 "nbformat": 4,
 "nbformat_minor": 2
}
