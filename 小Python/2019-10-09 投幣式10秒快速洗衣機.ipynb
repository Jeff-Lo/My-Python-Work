{
 "cells": [
  {
   "cell_type": "code",
   "execution_count": 1,
   "metadata": {},
   "outputs": [],
   "source": [
    "%matplotlib inline\n",
    "import numpy as np\n",
    "import matplotlib.pyplot as plt\n",
    "import time"
   ]
  },
  {
   "cell_type": "code",
   "execution_count": 3,
   "metadata": {},
   "outputs": [
    {
     "name": "stdout",
     "output_type": "stream",
     "text": [
      "請投入10元。好的\n",
      "請放入洗衣劑。\n",
      "請放入衣服。\n",
      "請蓋上洗衣機。\n",
      "10秒之後......\n",
      "衣服已洗好，請拿出。\n"
     ]
    }
   ],
   "source": [
    "#\"好的\"表示投入10元\n",
    "spam=\"\"\n",
    "while (spam!=\"好的\"):\n",
    "    spam=input(\"請投入10元。\")\n",
    "    if spam==\"好的\":\n",
    "        print(\"請放入洗衣劑。\")\n",
    "        time.sleep(3)\n",
    "        print(\"請放入衣服。\")\n",
    "        time.sleep(3)\n",
    "        print(\"請蓋上洗衣機。\")\n",
    "        time.sleep(10)\n",
    "        print(\"10秒之後......\")\n",
    "        print(\"衣服已洗好，請拿出。\")\n",
    "    else:\n",
    "        print(\"請投入10元。\")"
   ]
  }
 ],
 "metadata": {
  "kernelspec": {
   "display_name": "Python 3",
   "language": "python",
   "name": "python3"
  },
  "language_info": {
   "codemirror_mode": {
    "name": "ipython",
    "version": 3
   },
   "file_extension": ".py",
   "mimetype": "text/x-python",
   "name": "python",
   "nbconvert_exporter": "python",
   "pygments_lexer": "ipython3",
   "version": "3.7.3"
  }
 },
 "nbformat": 4,
 "nbformat_minor": 2
}
