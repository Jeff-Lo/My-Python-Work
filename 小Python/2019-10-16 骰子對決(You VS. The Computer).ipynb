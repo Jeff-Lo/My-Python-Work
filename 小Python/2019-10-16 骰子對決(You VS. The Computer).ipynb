{
 "cells": [
  {
   "cell_type": "code",
   "execution_count": 36,
   "metadata": {},
   "outputs": [],
   "source": [
    "%matplotlib inline\n",
    "import numpy as np\n",
    "import matplotlib.pyplot as plt\n",
    "from ipywidgets import interact_manual"
   ]
  },
  {
   "cell_type": "code",
   "execution_count": 37,
   "metadata": {},
   "outputs": [],
   "source": [
    "class Dice:\n",
    "    \n",
    "    DICE_POINTS=[1,2,3,4,5,6]\n",
    "    \n",
    "    def __init__(self,p):\n",
    "        self.points=p\n",
    "    \n",
    "    def show(self):\n",
    "        thedice=self.DICE_POINTS[self.points]\n",
    "        return thedice"
   ]
  },
  {
   "cell_type": "code",
   "execution_count": 43,
   "metadata": {},
   "outputs": [
    {
     "data": {
      "application/vnd.jupyter.widget-view+json": {
       "model_id": "986512e4f4bd4d65abc2e1010063b687",
       "version_major": 2,
       "version_minor": 0
      },
      "text/plain": [
       "interactive(children=(Button(description='Run Interact', style=ButtonStyle()), Output()), _dom_classes=('widge…"
      ]
     },
     "metadata": {},
     "output_type": "display_data"
    }
   ],
   "source": [
    "def Versus():\n",
    "    dice1=Dice(np.random.randint(0,6))\n",
    "    print(\"你:{}\".format(dice1.show()))\n",
    "\n",
    "    dice2=Dice(np.random.randint(0,6))\n",
    "    print(\"電腦:{}\".format(dice2.show()))\n",
    "\n",
    "    if ( dice1.show() > dice2.show() ):\n",
    "        print(\"你贏啦!!!\")\n",
    "\n",
    "    elif ( dice1.show() == dice2.show() ):\n",
    "        print(\"打成平手。\")\n",
    "    \n",
    "    else:\n",
    "        print(\"你輸了QQ\")\n",
    "\n",
    "interact_manual(Versus);"
   ]
  }
 ],
 "metadata": {
  "kernelspec": {
   "display_name": "Python 3",
   "language": "python",
   "name": "python3"
  },
  "language_info": {
   "codemirror_mode": {
    "name": "ipython",
    "version": 3
   },
   "file_extension": ".py",
   "mimetype": "text/x-python",
   "name": "python",
   "nbconvert_exporter": "python",
   "pygments_lexer": "ipython3",
   "version": "3.7.3"
  }
 },
 "nbformat": 4,
 "nbformat_minor": 2
}
