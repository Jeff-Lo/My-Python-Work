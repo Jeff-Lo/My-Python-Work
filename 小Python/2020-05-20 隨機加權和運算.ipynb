{
 "cells": [
  {
   "cell_type": "code",
   "execution_count": 1,
   "metadata": {},
   "outputs": [],
   "source": [
    "%matplotlib inline\n",
    "import numpy as np\n",
    "import matplotlib.pyplot as plt\n",
    "import pandas as pd"
   ]
  },
  {
   "cell_type": "code",
   "execution_count": 2,
   "metadata": {},
   "outputs": [
    {
     "name": "stdout",
     "output_type": "stream",
     "text": [
      "11.3\n",
      "32.4\n",
      "54.3\n",
      "26.9\n",
      "45.5\n",
      "21.0\n",
      "43.6\n",
      "31.900000000000002\n",
      "19.3\n",
      "38.900000000000006\n"
     ]
    }
   ],
   "source": [
    "#隨機用出10個人各自的第一次期中考、第二次期中考、期末考成績並進行加權和(第一次期中考佔20%、第二次期中考佔20%、期末考佔30%)算出最後的分數。\n",
    "score = np.random.randint(0,101,[10,3])\n",
    "weight = [0.2,0.2,0.3]\n",
    "grades = score@weight\n",
    "for i in range(10):\n",
    "    print(grades[i])"
   ]
  }
 ],
 "metadata": {
  "kernelspec": {
   "display_name": "Python 3",
   "language": "python",
   "name": "python3"
  },
  "language_info": {
   "codemirror_mode": {
    "name": "ipython",
    "version": 3
   },
   "file_extension": ".py",
   "mimetype": "text/x-python",
   "name": "python",
   "nbconvert_exporter": "python",
   "pygments_lexer": "ipython3",
   "version": "3.7.3"
  }
 },
 "nbformat": 4,
 "nbformat_minor": 2
}
