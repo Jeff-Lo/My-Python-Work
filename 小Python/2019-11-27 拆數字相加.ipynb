{
 "cells": [
  {
   "cell_type": "code",
   "execution_count": 1,
   "metadata": {},
   "outputs": [],
   "source": [
    "%matplotlib inline\n",
    "import numpy as np\n",
    "import matplotlib.pyplot as plt\n",
    "import pandas as pd"
   ]
  },
  {
   "cell_type": "code",
   "execution_count": 2,
   "metadata": {},
   "outputs": [],
   "source": [
    "#位數為奇數則拆3種:最中間數字、左半、右半 之後在相加"
   ]
  },
  {
   "cell_type": "code",
   "execution_count": 3,
   "metadata": {},
   "outputs": [],
   "source": [
    "#位數為偶數則從中間拆2半之後在相加"
   ]
  },
  {
   "cell_type": "code",
   "execution_count": 4,
   "metadata": {},
   "outputs": [
    {
     "name": "stdout",
     "output_type": "stream",
     "text": [
      "請輸入數字:987654321\n",
      "14202\n"
     ]
    }
   ],
   "source": [
    "a=input(\"請輸入數字:\")\n",
    "b=len(a)\n",
    "if (b%2==0):\n",
    "    c=int(b/2)\n",
    "    d=int(a[0:c])\n",
    "    e=int(a[c:])\n",
    "    print(d+e)\n",
    "else:\n",
    "    f=int(b/2)\n",
    "    g=int(a[0:f])\n",
    "    h=int(a[f])\n",
    "    i=int(a[f+1:])\n",
    "    print(g+h+i)"
   ]
  }
 ],
 "metadata": {
  "kernelspec": {
   "display_name": "Python 3",
   "language": "python",
   "name": "python3"
  },
  "language_info": {
   "codemirror_mode": {
    "name": "ipython",
    "version": 3
   },
   "file_extension": ".py",
   "mimetype": "text/x-python",
   "name": "python",
   "nbconvert_exporter": "python",
   "pygments_lexer": "ipython3",
   "version": "3.7.3"
  }
 },
 "nbformat": 4,
 "nbformat_minor": 2
}
