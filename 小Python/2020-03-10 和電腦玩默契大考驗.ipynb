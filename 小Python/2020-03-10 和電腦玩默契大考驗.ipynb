{
 "cells": [
  {
   "cell_type": "code",
   "execution_count": 1,
   "metadata": {},
   "outputs": [],
   "source": [
    "%matplotlib inline\n",
    "import numpy as np\n",
    "import matplotlib.pyplot as plt\n",
    "import pandas as pd"
   ]
  },
  {
   "cell_type": "code",
   "execution_count": 22,
   "metadata": {},
   "outputs": [
    {
     "name": "stdout",
     "output_type": "stream",
     "text": [
      "請輸入數字(0~9):6\n",
      "電腦:心有靈犀一點通，沒錯就是6^^恭喜你猜中了!!!\n"
     ]
    }
   ],
   "source": [
    "x = np.random.randint(0,10)\n",
    "y = int(input(\"請輸入數字(0~9):\"))\n",
    "if y==x:\n",
    "    print(f\"電腦:心有靈犀一點通，沒錯就是{x}^^恭喜你猜中了!!!\")\n",
    "else:\n",
    "    print(f\"電腦:沒默契喔!猜錯了~~~我想的是{x}你卻講{y}，不好玩!\")"
   ]
  },
  {
   "cell_type": "code",
   "execution_count": 23,
   "metadata": {},
   "outputs": [
    {
     "name": "stdout",
     "output_type": "stream",
     "text": [
      "請輸入數字(0~9):3\n",
      "電腦:沒默契喔!猜錯了~~~我想的是4你卻講3，不好玩!\n"
     ]
    }
   ],
   "source": [
    "x = np.random.randint(0,10)\n",
    "y = int(input(\"請輸入數字(0~9):\"))\n",
    "if y==x:\n",
    "    print(f\"電腦:心有靈犀一點通，沒錯就是{x}^^恭喜你猜中了!!!\")\n",
    "else:\n",
    "    print(f\"電腦:沒默契喔!猜錯了~~~我想的是{x}你卻講{y}，不好玩!\")"
   ]
  }
 ],
 "metadata": {
  "kernelspec": {
   "display_name": "Python 3",
   "language": "python",
   "name": "python3"
  },
  "language_info": {
   "codemirror_mode": {
    "name": "ipython",
    "version": 3
   },
   "file_extension": ".py",
   "mimetype": "text/x-python",
   "name": "python",
   "nbconvert_exporter": "python",
   "pygments_lexer": "ipython3",
   "version": "3.7.3"
  }
 },
 "nbformat": 4,
 "nbformat_minor": 2
}
