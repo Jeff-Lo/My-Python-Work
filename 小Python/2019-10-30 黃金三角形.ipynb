{
 "cells": [
  {
   "cell_type": "code",
   "execution_count": 1,
   "metadata": {},
   "outputs": [],
   "source": [
    "%matplotlib inline\n",
    "import numpy as np\n",
    "import matplotlib.pyplot as plt\n",
    "import pandas as pd"
   ]
  },
  {
   "cell_type": "code",
   "execution_count": 2,
   "metadata": {},
   "outputs": [
    {
     "data": {
      "text/plain": [
       "[<matplotlib.lines.Line2D at 0x1bcfaa8ca90>,\n",
       " <matplotlib.lines.Line2D at 0x1bcfaa98208>,\n",
       " <matplotlib.lines.Line2D at 0x1bcfaa98358>]"
      ]
     },
     "execution_count": 2,
     "metadata": {},
     "output_type": "execute_result"
    },
    {
     "data": {
      "image/png": "[encoded data removed]",
      "text/plain": [
       "<Figure size 432x288 with 1 Axes>"
      ]
     },
     "metadata": {
      "needs_background": "light"
     },
     "output_type": "display_data"
    }
   ],
   "source": [
    "#黃金三角形→銳角:36度、72度、72度，鈍角:108度、36度、36度\n",
    "x1=[10,15]\n",
    "y1=[12,12+5*np.sqrt(5+2*np.sqrt(5))]\n",
    "x2=[15,20]\n",
    "y2=[12+5*np.sqrt(5+2*np.sqrt(5)),12]\n",
    "x3=[10,20]\n",
    "y3=[12,12]\n",
    "x4=[15-10*(np.sqrt(5)+1)/4,15]\n",
    "y4=[10,10-10*(np.sqrt(2*(5-np.sqrt(5))))/4]\n",
    "x5=[15,15+10*(np.sqrt(5)+1)/4]\n",
    "y5=[10-10*(np.sqrt(2*(5-np.sqrt(5))))/4,10]\n",
    "x6=[15-10*(np.sqrt(5)+1)/4,15+10*(np.sqrt(5)+1)/4]\n",
    "y6=[10,10]\n",
    "plt.plot(x1,y1)\n",
    "plt.plot(x2,y2)\n",
    "plt.plot(x3,y3)\n",
    "plt.plot(x4,y4)\n",
    "plt.plot(x5,y5)\n",
    "plt.plot(x6,y6)\n",
    "plt.axis([0,30,0,30])\n",
    "plt.plot(x1,y1,x2,y2,x3,y3,color=\"yellow\")\n",
    "plt.plot(x4,y4,x5,y5,x6,y6,color=\"orange\")"
   ]
  }
 ],
 "metadata": {
  "kernelspec": {
   "display_name": "Python 3",
   "language": "python",
   "name": "python3"
  },
  "language_info": {
   "codemirror_mode": {
    "name": "ipython",
    "version": 3
   },
   "file_extension": ".py",
   "mimetype": "text/x-python",
   "name": "python",
   "nbconvert_exporter": "python",
   "pygments_lexer": "ipython3",
   "version": "3.7.3"
  }
 },
 "nbformat": 4,
 "nbformat_minor": 2
}
