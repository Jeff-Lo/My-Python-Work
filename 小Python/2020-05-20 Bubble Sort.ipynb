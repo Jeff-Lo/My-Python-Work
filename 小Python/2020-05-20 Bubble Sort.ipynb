{
 "cells": [
  {
   "cell_type": "code",
   "execution_count": 1,
   "metadata": {},
   "outputs": [],
   "source": [
    "%matplotlib inline\n",
    "import numpy as np\n",
    "import matplotlib.pyplot as plt\n",
    "import pandas as pd"
   ]
  },
  {
   "cell_type": "code",
   "execution_count": 2,
   "metadata": {},
   "outputs": [],
   "source": [
    "def BS(matrix):\n",
    "    df = pd.DataFrame(matrix)\n",
    "    df.columns = [\"分數\"]\n",
    "    df.sort_values(by=\"分數\", ascending=True, inplace=True)\n",
    "    a = df.values.reshape(1,len(df))\n",
    "    a = list(a)\n",
    "    L = []\n",
    "    for i in range(0,len(a)):\n",
    "        L.append(a[i])\n",
    "    print(L)"
   ]
  },
  {
   "cell_type": "code",
   "execution_count": 3,
   "metadata": {},
   "outputs": [
    {
     "name": "stdout",
     "output_type": "stream",
     "text": [
      "[array([20, 61, 74, 79, 82, 83, 92], dtype=int64)]\n"
     ]
    }
   ],
   "source": [
    "BS([20,74,92,83,61,82,79])"
   ]
  }
 ],
 "metadata": {
  "kernelspec": {
   "display_name": "Python 3",
   "language": "python",
   "name": "python3"
  },
  "language_info": {
   "codemirror_mode": {
    "name": "ipython",
    "version": 3
   },
   "file_extension": ".py",
   "mimetype": "text/x-python",
   "name": "python",
   "nbconvert_exporter": "python",
   "pygments_lexer": "ipython3",
   "version": "3.7.3"
  }
 },
 "nbformat": 4,
 "nbformat_minor": 4
}
