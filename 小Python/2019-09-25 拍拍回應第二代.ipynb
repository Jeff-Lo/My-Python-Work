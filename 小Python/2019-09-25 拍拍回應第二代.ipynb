{
 "cells": [
  {
   "cell_type": "code",
   "execution_count": 1,
   "metadata": {},
   "outputs": [
    {
     "name": "stdout",
     "output_type": "stream",
     "text": [
      "我的想法:今天有颱風到來，我覺得好恐怖喔!\n",
      "(╥﹏╥):拍拍QQ\n",
      "我的想法:體育課剛好在今天...好難過。\n",
      "( ´•̥̥̥ω•̥̥̥` ):拍拍QQ\n",
      "我的想法:不過早上起來安九食堂還好福利社有開，真開心。\n",
      "(｡◕∀◕｡):真好，我也覺得很開心^^\n",
      "我的想法:吃完早餐看到外面的風雨有逐漸增強的情勢，傷心-.-\n",
      ":;(∩´﹏`∩);::拍拍QQ\n",
      "我的想法:到了中午太陽公公出來揮灑陽光了~YA!\n",
      "ξ( ✿＞◡❛):太陽公公你好:)\n",
      "我的想法:那今天就先聊到這邊囉~\n",
      "ヽ(・×・´)ゞ:好的。\n",
      "我的想法:bye~\n",
      "٩(｡・ω・｡)و:bye啦~\n"
     ]
    }
   ],
   "source": [
    "spam=\"\"\n",
    "while(spam!=\"bye~\"):\n",
    "    spam=input(\"我的想法:\")\n",
    "    if\"恐怖\"in spam:\n",
    "        print(\"(╥﹏╥):拍拍QQ\")\n",
    "    elif\"傷心\"in spam:\n",
    "        print(\":;(∩´﹏`∩);::拍拍QQ\")\n",
    "    elif\"難過\"in spam:\n",
    "        print(\"( ´•̥̥̥ω•̥̥̥` ):拍拍QQ\")\n",
    "    elif\"開心\"in spam:\n",
    "        print(\"(｡◕∀◕｡):真好，我也覺得很開心^^\")\n",
    "    elif\"太陽\"in spam:\n",
    "        print(\"ξ( ✿＞◡❛):太陽公公你好:)\")\n",
    "    elif\"bye~\"in spam:\n",
    "        print(\"٩(｡・ω・｡)و:bye啦~\")\n",
    "    else:\n",
    "        print(\"ヽ(・×・´)ゞ:好的。\")"
   ]
  },
  {
   "cell_type": "code",
   "execution_count": null,
   "metadata": {},
   "outputs": [],
   "source": []
  }
 ],
 "metadata": {
  "kernelspec": {
   "display_name": "Python 3",
   "language": "python",
   "name": "python3"
  },
  "language_info": {
   "codemirror_mode": {
    "name": "ipython",
    "version": 3
   },
   "file_extension": ".py",
   "mimetype": "text/x-python",
   "name": "python",
   "nbconvert_exporter": "python",
   "pygments_lexer": "ipython3",
   "version": "3.7.3"
  }
 },
 "nbformat": 4,
 "nbformat_minor": 2
}
