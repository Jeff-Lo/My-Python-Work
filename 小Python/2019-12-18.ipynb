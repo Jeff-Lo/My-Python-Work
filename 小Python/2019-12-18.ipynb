{
 "cells": [
  {
   "cell_type": "markdown",
   "metadata": {},
   "source": [
    "# 找一個好的編輯器\n",
    "## Visual Studio Code\n",
    "## VIM"
   ]
  },
  {
   "cell_type": "code",
   "execution_count": 2,
   "metadata": {},
   "outputs": [
    {
     "name": "stderr",
     "output_type": "stream",
     "text": [
      "子目錄或檔案 eggs 已經存在。\n"
     ]
    }
   ],
   "source": [
    "#建個資料夾\n",
    "!mkdir eggs"
   ]
  },
  {
   "cell_type": "code",
   "execution_count": 3,
   "metadata": {},
   "outputs": [
    {
     "name": "stdout",
     "output_type": "stream",
     "text": [
      " 磁碟區 C 中的磁碟是 OS\n",
      " 磁碟區序號:  400D-6E95\n",
      "\n",
      " C:\\Python程式存放處 的目錄\n",
      "\n",
      "2019/12/18  下午 12:11    <DIR>          .\n",
      "2019/12/18  下午 12:11    <DIR>          ..\n",
      "2019/12/18  下午 12:11    <DIR>          .ipynb_checkpoints\n",
      "2019/12/15  上午 12:34            21,933 108-1-數學軟體應用-Final.ipynb\n",
      "2019/09/23  下午 01:34            13,801 108306036_第一週.ipynb\n",
      "2019/10/05  上午 11:56             1,928 108306036_第二週.ipynb\n",
      "2019/10/06  下午 08:21             1,830 108306036_第三週.ipynb\n",
      "2019/12/08  下午 12:07             9,572 108306036_第五週.ipynb\n",
      "2019/10/06  下午 10:04             1,618 108306036_第四週.ipynb\n",
      "2018/02/28  下午 07:37            37,857 123456.jpg\n",
      "2019/09/16  上午 11:12            22,964 2019-09-11 閃電圖.ipynb\n",
      "2019/09/21  下午 12:00             1,686 2019-09-18 打擊練習~好球來就打!!!.ipynb\n",
      "2019/09/19  下午 08:33             1,546 2019-09-18 拍拍回應.ipynb\n",
      "2019/12/11  上午 11:37           129,906 2019-09-18.ipynb\n",
      "2019/10/08  上午 12:02             2,860 2019-09-25 1元之多國幣值換算.ipynb\n",
      "2019/10/18  下午 04:42             1,655 2019-09-25 串燒形成記.ipynb\n",
      "2019/09/30  下午 02:05             2,128 2019-09-25 沙漏顯現.ipynb\n",
      "2019/09/30  下午 04:07             2,302 2019-09-25 拍拍回應第二代.ipynb\n",
      "2019/09/27  下午 04:47            18,530 2019-09-25.ipynb\n",
      "2019/10/04  下午 10:44             1,933 2019-10-02 Magic知道數字.ipynb\n",
      "2019/10/06  下午 10:08             1,733 2019-10-02 成績array運算.ipynb\n",
      "2019/10/08  上午 12:13             1,616 2019-10-02 抽同學回答問題.ipynb\n",
      "2019/10/06  下午 10:08             1,810 2019-10-02 猜數字小遊戲.ipynb\n",
      "2019/10/04  下午 08:46             6,815 2019-10-02.ipynb\n",
      "2019/10/15  下午 10:16             2,205 2019-10-09 ATM提款機.ipynb\n",
      "2019/10/13  下午 04:19             1,514 2019-10-09 BMI計算器.ipynb\n",
      "2019/10/15  下午 10:38             1,659 2019-10-09 投幣式10秒快速洗衣機.ipynb\n",
      "2019/10/13  下午 04:09             1,120 2019-10-09 閏年或平年.ipynb\n",
      "2019/10/09  下午 12:02            96,663 2019-10-09.ipynb\n",
      "2019/10/18  下午 05:34             1,499 2019-10-16 小蟲爬爬記.ipynb\n",
      "2019/10/18  下午 05:35             1,542 2019-10-16 午餐店家選擇.ipynb\n",
      "2019/10/19  上午 10:07             2,074 2019-10-16 迷宮.ipynb\n",
      "2019/10/28  下午 07:39             2,185 2019-10-16 骰子對決(You VS. The Computer).ipynb\n",
      "2019/10/16  下午 12:02            29,653 2019-10-16.ipynb\n",
      "2019/10/29  下午 02:25             4,208 2019-10-23 108年7-8月發票對獎.ipynb\n",
      "2019/10/29  下午 02:16             2,101 2019-10-23 兩條平行線求距離.ipynb\n",
      "2019/10/28  下午 09:12             3,438 2019-10-23 馬可夫矩陣.ipynb\n",
      "2019/10/28  下午 09:24             2,203 2019-10-23 摩爾定律(普遍說法).ipynb\n",
      "2019/10/27  下午 08:45           409,013 2019-10-23.ipynb\n",
      "2019/11/06  上午 11:41            56,476 2019-10-30 Facebook Live Sellers in Thailand(數據分析).ipynb\n",
      "2019/11/12  上午 10:19            29,862 2019-10-30 Poker Hand(數據分析).ipynb\n",
      "2019/11/11  下午 01:15            21,008 2019-10-30 九宮格OOXX(數據分析).ipynb\n",
      "2019/11/04  下午 12:09            12,319 2019-10-30 黃金三角形.ipynb\n",
      "2019/10/30  上午 11:50           350,629 2019-10-30.ipynb\n",
      "2019/11/19  下午 11:32           235,903 2019-11-13 Boston房價資料訓練和測試.ipynb\n",
      "2019/11/19  上午 09:54             3,559 2019-11-13 年末保留盈餘表.ipynb\n",
      "2019/11/19  下午 10:12             2,813 2019-11-13 神奇魔法數字1.ipynb\n",
      "2019/11/18  下午 11:21            29,216 2019-11-13 電信公司如何極大化收取的基本費.ipynb\n",
      "2019/11/19  下午 10:25           229,949 2019-11-13.ipynb\n",
      "2019/11/26  下午 11:26           129,537 2019-11-20 奇特古怪之等高線圖.ipynb\n",
      "2019/11/26  下午 10:58            31,298 2019-11-20 動物園動物(數據分析).ipynb\n",
      "2019/11/28  下午 10:28             6,943 2019-11-20 搖骰子賭博小遊戲.ipynb\n",
      "2019/11/26  下午 10:37            30,207 2019-11-20 鳶尾花預測.ipynb\n",
      "2019/11/27  上午 10:33           274,519 2019-11-20.ipynb\n",
      "2019/11/28  下午 10:33             6,230 2019-11-27 777賭博小遊戲.ipynb\n",
      "2019/11/27  下午 10:45             1,630 2019-11-27 拆數字相加.ipynb\n",
      "2019/11/29  下午 08:38             6,012 2019-11-27 搖骰子賭博小遊戲(改良版).ipynb\n",
      "2019/11/27  下午 12:02           429,480 2019-11-27.ipynb\n",
      "2019/12/11  上午 11:44           423,969 2019-12-11.ipynb\n",
      "2019/12/18  上午 11:54    <DIR>          eggs\n",
      "2019/10/16  上午 10:23                37 mydic.csv\n",
      "2019/10/16  上午 10:57                84 mydic.pickle\n",
      "2019/10/04  下午 08:47               439 poem.py\n",
      "2019/08/31  上午 06:24    <DIR>          Python-3-Data-Analysis-Basics-master\n",
      "2019/10/16  上午 11:42                48 test.txt\n",
      "2019/12/14  上午 11:39             7,741 Tkinter.ipynb\n",
      "2019/12/18  下午 12:11            11,302 Untitled.ipynb\n",
      "2019/12/18  下午 12:11                72 Untitled1.ipynb\n",
      "2019/09/11  下午 11:25           112,676 我的第一個Python程式.ipynb\n",
      "2019/11/15  下午 03:51           345,196 物聯網程式設計1.ipynb\n",
      "2019/11/22  下午 02:59             8,585 物聯網程式設計2.ipynb\n",
      "2019/10/08  下午 10:18            10,044 閃電秀.ipynb\n",
      "2019/09/21  上午 11:48             8,553 棒球九宮格.png\n",
      "2019/12/11  上午 10:11           296,044 賭場.gif\n",
      "              69 個檔案       3,959,480 位元組\n",
      "               5 個目錄  148,291,555,328 位元組可用\n"
     ]
    }
   ],
   "source": [
    "%ls"
   ]
  },
  {
   "cell_type": "code",
   "execution_count": 4,
   "metadata": {},
   "outputs": [
    {
     "name": "stdout",
     "output_type": "stream",
     "text": [
      "C:\\Python程式存放處\\eggs\n"
     ]
    }
   ],
   "source": [
    "%cd eggs"
   ]
  },
  {
   "cell_type": "code",
   "execution_count": 5,
   "metadata": {},
   "outputs": [],
   "source": [
    "%matplotlib inline\n",
    "import numpy as np\n",
    "import matplotlib.pyplot as plt\n",
    "import pandas as pd"
   ]
  },
  {
   "cell_type": "code",
   "execution_count": 6,
   "metadata": {},
   "outputs": [
    {
     "name": "stdout",
     "output_type": "stream",
     "text": [
      "你今天的幸運數字是94!\n"
     ]
    }
   ],
   "source": [
    "a = np.random.randint(1,101)\n",
    "print(f\"你今天的幸運數字是{a}!\")"
   ]
  },
  {
   "cell_type": "code",
   "execution_count": 7,
   "metadata": {},
   "outputs": [
    {
     "name": "stdout",
     "output_type": "stream",
     "text": [
      "File `spam.py` exists. Overwrite (y/[N])?  y\n",
      "The following commands were written to file `spam.py`:\n",
      "get_ipython().run_line_magic('matplotlib', 'inline')\n",
      "import numpy as np\n",
      "import matplotlib.pyplot as plt\n",
      "import pandas as pd\n",
      "a = np.random.randint(1,101)\n",
      "print(f\"你今天的幸運數字是{a}!\")\n"
     ]
    }
   ],
   "source": [
    "#存進去\n",
    "%save spam.py 5 6"
   ]
  },
  {
   "cell_type": "code",
   "execution_count": 8,
   "metadata": {},
   "outputs": [
    {
     "name": "stdout",
     "output_type": "stream",
     "text": [
      "File `ham.py` exists. Overwrite (y/[N])?  y\n",
      "The following commands were written to file `ham.py`:\n",
      "get_ipython().run_line_magic('matplotlib', 'inline')\n",
      "import numpy as np\n",
      "import matplotlib.pyplot as plt\n",
      "import pandas as pd\n"
     ]
    }
   ],
   "source": [
    "#開一個新的.py檔\n",
    "%save ham.py 5"
   ]
  },
  {
   "cell_type": "markdown",
   "metadata": {},
   "source": [
    "# Python 網頁框架\n",
    "* Django(大型專案)\n",
    "* Flask(小巧)"
   ]
  },
  {
   "cell_type": "markdown",
   "metadata": {},
   "source": [
    "# Streamlit\n",
    "    !pip install streamlit"
   ]
  },
  {
   "cell_type": "code",
   "execution_count": 11,
   "metadata": {},
   "outputs": [
    {
     "name": "stdout",
     "output_type": "stream",
     "text": [
      "Overwriting web01.py\n"
     ]
    }
   ],
   "source": [
    "%%writefile web01.py\n",
    "import pandas as pd\n",
    "df = pd.DataFrame({\"A\":[33,99,88] , \"B\":[94,87,1000]})\n",
    "df"
   ]
  },
  {
   "cell_type": "code",
   "execution_count": 12,
   "metadata": {},
   "outputs": [
    {
     "name": "stdout",
     "output_type": "stream",
     "text": [
      " 磁碟區 C 中的磁碟是 OS\n",
      " 磁碟區序號:  400D-6E95\n",
      "\n",
      " C:\\Python程式存放處\\eggs 的目錄\n",
      "\n",
      "2019/12/18  上午 11:54    <DIR>          .\n",
      "2019/12/18  上午 11:54    <DIR>          ..\n",
      "2019/12/18  下午 12:13               145 ham.py\n",
      "2019/12/18  下午 12:13               218 spam.py\n",
      "2019/12/18  下午 12:13                81 web01.py\n",
      "2019/12/18  上午 11:29               169 web02.py\n",
      "2019/12/18  上午 11:41               228 web03.py\n",
      "2019/12/18  上午 11:48               206 web04.py\n",
      "2019/12/18  上午 11:53               239 web05.py\n",
      "2019/12/18  上午 11:58               222 web06.py\n",
      "               8 個檔案           1,508 位元組\n",
      "               2 個目錄  148,290,871,296 位元組可用\n"
     ]
    }
   ],
   "source": [
    "%ls"
   ]
  },
  {
   "cell_type": "code",
   "execution_count": 13,
   "metadata": {},
   "outputs": [
    {
     "name": "stderr",
     "output_type": "stream",
     "text": [
      "'streamlit' 不是內部或外部命令、可執行的程式或批次檔。\n"
     ]
    }
   ],
   "source": [
    "!streamlit run web01.py"
   ]
  },
  {
   "cell_type": "code",
   "execution_count": 14,
   "metadata": {},
   "outputs": [],
   "source": [
    "import streamlit"
   ]
  },
  {
   "cell_type": "code",
   "execution_count": null,
   "metadata": {},
   "outputs": [],
   "source": []
  }
 ],
 "metadata": {
  "kernelspec": {
   "display_name": "Python 3",
   "language": "python",
   "name": "python3"
  },
  "language_info": {
   "codemirror_mode": {
    "name": "ipython",
    "version": 3
   },
   "file_extension": ".py",
   "mimetype": "text/x-python",
   "name": "python",
   "nbconvert_exporter": "python",
   "pygments_lexer": "ipython3",
   "version": "3.7.3"
  }
 },
 "nbformat": 4,
 "nbformat_minor": 2
}
