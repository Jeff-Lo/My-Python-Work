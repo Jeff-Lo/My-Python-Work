{
 "cells": [
  {
   "cell_type": "code",
   "execution_count": 1,
   "metadata": {},
   "outputs": [],
   "source": [
    "%matplotlib inline\n",
    "import numpy as np\n",
    "import matplotlib.pyplot as plt"
   ]
  },
  {
   "cell_type": "code",
   "execution_count": 3,
   "metadata": {},
   "outputs": [
    {
     "name": "stdout",
     "output_type": "stream",
     "text": [
      "請在以下選擇你想前往的道路方向↓\n",
      "\n",
      "L or R?\n",
      "L\n",
      "\n",
      "\n",
      "L or S?\n",
      "S\n",
      "\n",
      "\n",
      "L or S or R?\n",
      "S\n",
      "\n",
      "\n",
      "S or R?\n",
      "R\n",
      "\n",
      "\n",
      "L or R?\n",
      "L\n",
      "\n",
      "\n",
      "恭喜你找到正確的道路!\n"
     ]
    }
   ],
   "source": [
    "#L表示Left\n",
    "#S表示Straight\n",
    "#R表示Right\n",
    "print(\"請在以下選擇你想前往的道路方向↓\\n\")\n",
    "a=input(\"L or R?\\n\")\n",
    "print(\"\\n\")\n",
    "b=input(\"L or S?\\n\")\n",
    "print(\"\\n\")\n",
    "c=input(\"L or S or R?\\n\")\n",
    "print(\"\\n\")\n",
    "d=input(\"S or R?\\n\")\n",
    "print(\"\\n\")\n",
    "e=input(\"L or R?\\n\")\n",
    "print(\"\\n\")\n",
    "if(a==\"L\" and b==\"S\" and c==\"S\" and d==\"R\" and e==\"L\"):\n",
    "    print(\"恭喜你找到正確的道路!\")\n",
    "elif(a!=\"L\" or \"R\" and b!=\"L\" or \"S\" and c!=\"L\" or \"S\" or \"R\" and d!=\"S\" or \"R\" and e!=\"L\" or \"R\"):\n",
    "    print(\"途中輸入錯誤，撞牆啦!!\")\n",
    "else:\n",
    "    print(\"碰到牆壁，走錯路啦!!!\")"
   ]
  }
 ],
 "metadata": {
  "kernelspec": {
   "display_name": "Python 3",
   "language": "python",
   "name": "python3"
  },
  "language_info": {
   "codemirror_mode": {
    "name": "ipython",
    "version": 3
   },
   "file_extension": ".py",
   "mimetype": "text/x-python",
   "name": "python",
   "nbconvert_exporter": "python",
   "pygments_lexer": "ipython3",
   "version": "3.7.3"
  }
 },
 "nbformat": 4,
 "nbformat_minor": 2
}
