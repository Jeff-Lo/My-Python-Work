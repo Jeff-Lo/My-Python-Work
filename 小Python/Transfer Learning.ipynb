{
 "cells": [
  {
   "cell_type": "code",
   "execution_count": 1,
   "metadata": {},
   "outputs": [],
   "source": [
    "%matplotlib inline\n",
    "import numpy as np\n",
    "import matplotlib.pyplot as plt\n",
    "import pandas as pd"
   ]
  },
  {
   "cell_type": "code",
   "execution_count": 2,
   "metadata": {},
   "outputs": [],
   "source": [
    "import tensorflow as tf"
   ]
  },
  {
   "cell_type": "markdown",
   "metadata": {},
   "source": [
    "# 讀入MNIST數據"
   ]
  },
  {
   "cell_type": "code",
   "execution_count": 3,
   "metadata": {},
   "outputs": [],
   "source": [
    "from tensorflow.keras.datasets import mnist\n",
    "(x_train, y_train), (x_test, y_test) = mnist.load_data()"
   ]
  },
  {
   "cell_type": "markdown",
   "metadata": {},
   "source": [
    "# 資料前處理"
   ]
  },
  {
   "cell_type": "code",
   "execution_count": 4,
   "metadata": {},
   "outputs": [
    {
     "data": {
      "text/plain": [
       "(60000, 28, 28)"
      ]
     },
     "execution_count": 4,
     "metadata": {},
     "output_type": "execute_result"
    }
   ],
   "source": [
    "x_train.shape"
   ]
  },
  {
   "cell_type": "code",
   "execution_count": 5,
   "metadata": {},
   "outputs": [],
   "source": [
    "x_train = x_train.reshape(60000, 28, 28, 1)/255\n",
    "x_test = x_test.reshape(10000, 28, 28, 1)/255\n",
    "\n",
    "from tensorflow.keras.utils import to_categorical\n",
    "\n",
    "y_train = to_categorical(y_train, 10)\n",
    "y_test = to_categorical(y_test, 10)"
   ]
  },
  {
   "cell_type": "markdown",
   "metadata": {},
   "source": [
    "# 打造神經網路模型"
   ]
  },
  {
   "cell_type": "code",
   "execution_count": 6,
   "metadata": {},
   "outputs": [],
   "source": [
    "from tensorflow.keras.models import Sequential\n",
    "from tensorflow.keras.layers import Conv2D, MaxPooling2D\n",
    "from tensorflow.keras.layers import Dense, Flatten\n",
    "from tensorflow.keras.optimizers import SGD"
   ]
  },
  {
   "cell_type": "code",
   "execution_count": 7,
   "metadata": {},
   "outputs": [],
   "source": [
    "CNN_layers = [Conv2D(10, (5,5), padding='same', input_shape=(28, 28, 1), activation='relu'),\n",
    "              MaxPooling2D(pool_size=(2,2)),\n",
    "              Conv2D(20, (5,5), padding='same', activation='relu'),\n",
    "              MaxPooling2D(pool_size=(2,2)),\n",
    "              Conv2D(30, (5,5), padding='same', activation='relu'),\n",
    "              MaxPooling2D(pool_size=(2,2)),\n",
    "              Flatten()]"
   ]
  },
  {
   "cell_type": "code",
   "execution_count": 8,
   "metadata": {},
   "outputs": [],
   "source": [
    "FC_layers = [Dense(36, activation='relu'),\n",
    "             Dense(10, activation='softmax')]"
   ]
  },
  {
   "cell_type": "code",
   "execution_count": 9,
   "metadata": {},
   "outputs": [],
   "source": [
    "model = Sequential(CNN_layers+FC_layers)"
   ]
  },
  {
   "cell_type": "code",
   "execution_count": 10,
   "metadata": {},
   "outputs": [],
   "source": [
    "model.compile(loss='mse', optimizer=SGD(lr=0.056), metrics=['accuracy'])"
   ]
  },
  {
   "cell_type": "code",
   "execution_count": 11,
   "metadata": {},
   "outputs": [
    {
     "name": "stdout",
     "output_type": "stream",
     "text": [
      "Model: \"sequential\"\n",
      "_________________________________________________________________\n",
      "Layer (type)                 Output Shape              Param #   \n",
      "=================================================================\n",
      "conv2d (Conv2D)              (None, 28, 28, 10)        260       \n",
      "_________________________________________________________________\n",
      "max_pooling2d (MaxPooling2D) (None, 14, 14, 10)        0         \n",
      "_________________________________________________________________\n",
      "conv2d_1 (Conv2D)            (None, 14, 14, 20)        5020      \n",
      "_________________________________________________________________\n",
      "max_pooling2d_1 (MaxPooling2 (None, 7, 7, 20)          0         \n",
      "_________________________________________________________________\n",
      "conv2d_2 (Conv2D)            (None, 7, 7, 30)          15030     \n",
      "_________________________________________________________________\n",
      "max_pooling2d_2 (MaxPooling2 (None, 3, 3, 30)          0         \n",
      "_________________________________________________________________\n",
      "flatten (Flatten)            (None, 270)               0         \n",
      "_________________________________________________________________\n",
      "dense (Dense)                (None, 36)                9756      \n",
      "_________________________________________________________________\n",
      "dense_1 (Dense)              (None, 10)                370       \n",
      "=================================================================\n",
      "Total params: 30,436\n",
      "Trainable params: 30,436\n",
      "Non-trainable params: 0\n",
      "_________________________________________________________________\n"
     ]
    }
   ],
   "source": [
    "model.summary()"
   ]
  },
  {
   "cell_type": "code",
   "execution_count": 12,
   "metadata": {},
   "outputs": [
    {
     "name": "stdout",
     "output_type": "stream",
     "text": [
      "Train on 60000 samples\n",
      "Epoch 1/10\n",
      "60000/60000 [==============================] - 39s 643us/sample - loss: 0.0899 - accuracy: 0.1015\n",
      "Epoch 2/10\n",
      "60000/60000 [==============================] - 35s 580us/sample - loss: 0.0894 - accuracy: 0.1422\n",
      "Epoch 3/10\n",
      "60000/60000 [==============================] - 34s 574us/sample - loss: 0.0890 - accuracy: 0.1950\n",
      "Epoch 4/10\n",
      "60000/60000 [==============================] - 36s 593us/sample - loss: 0.0883 - accuracy: 0.2689\n",
      "Epoch 5/10\n",
      "60000/60000 [==============================] - 35s 580us/sample - loss: 0.0870 - accuracy: 0.3444\n",
      "Epoch 6/10\n",
      "60000/60000 [==============================] - 36s 592us/sample - loss: 0.0837 - accuracy: 0.4679\n",
      "Epoch 7/10\n",
      "60000/60000 [==============================] - 35s 589us/sample - loss: 0.0677 - accuracy: 0.6315\n",
      "Epoch 8/10\n",
      "60000/60000 [==============================] - 35s 584us/sample - loss: 0.0440 - accuracy: 0.7229\n",
      "Epoch 9/10\n",
      "60000/60000 [==============================] - 35s 585us/sample - loss: 0.0339 - accuracy: 0.7792\n",
      "Epoch 10/10\n",
      "60000/60000 [==============================] - 38s 633us/sample - loss: 0.0299 - accuracy: 0.8017\n"
     ]
    },
    {
     "data": {
      "text/plain": [
       "<tensorflow.python.keras.callbacks.History at 0x162bfbd6988>"
      ]
     },
     "execution_count": 12,
     "metadata": {},
     "output_type": "execute_result"
    }
   ],
   "source": [
    "model.fit(x_train, y_train, batch_size=256, epochs=10)"
   ]
  },
  {
   "cell_type": "code",
   "execution_count": 13,
   "metadata": {},
   "outputs": [
    {
     "name": "stdout",
     "output_type": "stream",
     "text": [
      "60000/60000 [==============================] - 13s 209us/sample - loss: 0.0282 - accuracy: 0.8116\n",
      "10000/10000 [==============================] - 2s 225us/sample - loss: 0.0277 - accuracy: 0.8136\n",
      "model訓練資料的正確率: 81.15833401679993\n",
      "model測試資料的正確率: 81.36000037193298\n"
     ]
    }
   ],
   "source": [
    "score_train = model.evaluate(x_train, y_train)\n",
    "score_test = model.evaluate(x_test, y_test)\n",
    "print(f\"model訓練資料的正確率: {score_train[1]*100}\")\n",
    "print(f\"model測試資料的正確率: {score_test[1]*100}\")"
   ]
  },
  {
   "cell_type": "markdown",
   "metadata": {},
   "source": [
    "# 下面開始做遷移學習"
   ]
  },
  {
   "cell_type": "markdown",
   "metadata": {},
   "source": [
    "# 讀入 Fashion MNIST 數據集"
   ]
  },
  {
   "cell_type": "code",
   "execution_count": 14,
   "metadata": {},
   "outputs": [],
   "source": [
    "from tensorflow.keras.datasets import fashion_mnist\n",
    "(x_train, y_train), (x_test, y_test) = fashion_mnist.load_data()\n",
    "class_names = [\"T-shirt/top\", \"Trouser\", \"Pullover\", \"Dress\", \"Coat\", \"Sandal\", \"Shirt\", \"Sneaker\", \"Bag\", \"Ankle boot\"]"
   ]
  },
  {
   "cell_type": "markdown",
   "metadata": {},
   "source": [
    "# 資料前處理"
   ]
  },
  {
   "cell_type": "code",
   "execution_count": 15,
   "metadata": {},
   "outputs": [],
   "source": [
    "x_train = x_train.reshape(60000, 28, 28, 1)/255\n",
    "x_test = x_test.reshape(10000, 28, 28, 1)/255\n",
    "\n",
    "y_train = to_categorical(y_train, 10)\n",
    "y_test = to_categorical(y_test, 10)"
   ]
  },
  {
   "cell_type": "code",
   "execution_count": 16,
   "metadata": {},
   "outputs": [],
   "source": [
    "FC_layers2 = [Dense(256, activation='relu'),\n",
    "              Dense(128, activation='relu'),\n",
    "              Dense(10, activation='softmax')]"
   ]
  },
  {
   "cell_type": "code",
   "execution_count": 17,
   "metadata": {},
   "outputs": [],
   "source": [
    "model2 = Sequential(CNN_layers+FC_layers2)"
   ]
  },
  {
   "cell_type": "code",
   "execution_count": 18,
   "metadata": {},
   "outputs": [
    {
     "name": "stdout",
     "output_type": "stream",
     "text": [
      "Model: \"sequential_1\"\n",
      "_________________________________________________________________\n",
      "Layer (type)                 Output Shape              Param #   \n",
      "=================================================================\n",
      "conv2d (Conv2D)              (None, 28, 28, 10)        260       \n",
      "_________________________________________________________________\n",
      "max_pooling2d (MaxPooling2D) (None, 14, 14, 10)        0         \n",
      "_________________________________________________________________\n",
      "conv2d_1 (Conv2D)            (None, 14, 14, 20)        5020      \n",
      "_________________________________________________________________\n",
      "max_pooling2d_1 (MaxPooling2 (None, 7, 7, 20)          0         \n",
      "_________________________________________________________________\n",
      "conv2d_2 (Conv2D)            (None, 7, 7, 30)          15030     \n",
      "_________________________________________________________________\n",
      "max_pooling2d_2 (MaxPooling2 (None, 3, 3, 30)          0         \n",
      "_________________________________________________________________\n",
      "flatten (Flatten)            (None, 270)               0         \n",
      "_________________________________________________________________\n",
      "dense_2 (Dense)              (None, 256)               69376     \n",
      "_________________________________________________________________\n",
      "dense_3 (Dense)              (None, 128)               32896     \n",
      "_________________________________________________________________\n",
      "dense_4 (Dense)              (None, 10)                1290      \n",
      "=================================================================\n",
      "Total params: 123,872\n",
      "Trainable params: 123,872\n",
      "Non-trainable params: 0\n",
      "_________________________________________________________________\n"
     ]
    }
   ],
   "source": [
    "model2.summary()"
   ]
  },
  {
   "cell_type": "markdown",
   "metadata": {},
   "source": [
    "# Frozen:當新資料集的樣本數不夠多，凍結借來的部分，只針對新建立的神經網路層訓練。"
   ]
  },
  {
   "cell_type": "code",
   "execution_count": 19,
   "metadata": {},
   "outputs": [],
   "source": [
    "for layer in CNN_layers:\n",
    "    layer.trainable = False"
   ]
  },
  {
   "cell_type": "code",
   "execution_count": 20,
   "metadata": {},
   "outputs": [
    {
     "name": "stdout",
     "output_type": "stream",
     "text": [
      "Model: \"sequential_1\"\n",
      "_________________________________________________________________\n",
      "Layer (type)                 Output Shape              Param #   \n",
      "=================================================================\n",
      "conv2d (Conv2D)              (None, 28, 28, 10)        260       \n",
      "_________________________________________________________________\n",
      "max_pooling2d (MaxPooling2D) (None, 14, 14, 10)        0         \n",
      "_________________________________________________________________\n",
      "conv2d_1 (Conv2D)            (None, 14, 14, 20)        5020      \n",
      "_________________________________________________________________\n",
      "max_pooling2d_1 (MaxPooling2 (None, 7, 7, 20)          0         \n",
      "_________________________________________________________________\n",
      "conv2d_2 (Conv2D)            (None, 7, 7, 30)          15030     \n",
      "_________________________________________________________________\n",
      "max_pooling2d_2 (MaxPooling2 (None, 3, 3, 30)          0         \n",
      "_________________________________________________________________\n",
      "flatten (Flatten)            (None, 270)               0         \n",
      "_________________________________________________________________\n",
      "dense_2 (Dense)              (None, 256)               69376     \n",
      "_________________________________________________________________\n",
      "dense_3 (Dense)              (None, 128)               32896     \n",
      "_________________________________________________________________\n",
      "dense_4 (Dense)              (None, 10)                1290      \n",
      "=================================================================\n",
      "Total params: 123,872\n",
      "Trainable params: 103,562\n",
      "Non-trainable params: 20,310\n",
      "_________________________________________________________________\n"
     ]
    }
   ],
   "source": [
    "model2.summary()"
   ]
  },
  {
   "cell_type": "code",
   "execution_count": 21,
   "metadata": {},
   "outputs": [],
   "source": [
    "model2.compile(loss='mse', optimizer=SGD(lr=0.056), metrics=['accuracy'])"
   ]
  },
  {
   "cell_type": "code",
   "execution_count": 22,
   "metadata": {},
   "outputs": [
    {
     "name": "stdout",
     "output_type": "stream",
     "text": [
      "Train on 60000 samples\n",
      "Epoch 1/10\n",
      "60000/60000 [==============================] - 11s 182us/sample - loss: 0.0690 - accuracy: 0.4799\n",
      "Epoch 2/10\n",
      "60000/60000 [==============================] - 10s 163us/sample - loss: 0.0524 - accuracy: 0.6277\n",
      "Epoch 3/10\n",
      "60000/60000 [==============================] - 9s 154us/sample - loss: 0.0465 - accuracy: 0.6734\n",
      "Epoch 4/10\n",
      "60000/60000 [==============================] - 9s 144us/sample - loss: 0.0446 - accuracy: 0.6861\n",
      "Epoch 5/10\n",
      "60000/60000 [==============================] - 10s 162us/sample - loss: 0.0434 - accuracy: 0.6936\n",
      "Epoch 6/10\n",
      "60000/60000 [==============================] - 9s 156us/sample - loss: 0.0424 - accuracy: 0.6996\n",
      "Epoch 7/10\n",
      "60000/60000 [==============================] - 9s 143us/sample - loss: 0.0416 - accuracy: 0.7057\n",
      "Epoch 8/10\n",
      "60000/60000 [==============================] - 9s 145us/sample - loss: 0.0410 - accuracy: 0.7085\n",
      "Epoch 9/10\n",
      "60000/60000 [==============================] - 9s 143us/sample - loss: 0.0404 - accuracy: 0.7147\n",
      "Epoch 10/10\n",
      "60000/60000 [==============================] - 8s 139us/sample - loss: 0.0387 - accuracy: 0.7216\n"
     ]
    },
    {
     "data": {
      "text/plain": [
       "<tensorflow.python.keras.callbacks.History at 0x162c2515c08>"
      ]
     },
     "execution_count": 22,
     "metadata": {},
     "output_type": "execute_result"
    }
   ],
   "source": [
    "model2.fit(x_train, y_train, batch_size=256, epochs=10)"
   ]
  },
  {
   "cell_type": "code",
   "execution_count": 23,
   "metadata": {},
   "outputs": [
    {
     "name": "stdout",
     "output_type": "stream",
     "text": [
      "60000/60000 [==============================] - 13s 214us/sample - loss: 0.0371 - accuracy: 0.7316\n",
      "10000/10000 [==============================] - 2s 239us/sample - loss: 0.0381 - accuracy: 0.7226\n",
      "model2訓練資料的正確率: 73.15999865531921\n",
      "model2測試資料的正確率: 72.2599983215332\n"
     ]
    }
   ],
   "source": [
    "score_train = model2.evaluate(x_train, y_train)\n",
    "score_test = model2.evaluate(x_test, y_test)\n",
    "print(f\"model2訓練資料的正確率: {score_train[1]*100}\")\n",
    "print(f\"model2測試資料的正確率: {score_test[1]*100}\")"
   ]
  },
  {
   "cell_type": "markdown",
   "metadata": {},
   "source": [
    "# Fine-tune:新資料集的樣本數夠多，整個模型重新訓練。"
   ]
  },
  {
   "cell_type": "code",
   "execution_count": 24,
   "metadata": {},
   "outputs": [],
   "source": [
    "for layer in CNN_layers:\n",
    "    layer.trainable = True"
   ]
  },
  {
   "cell_type": "code",
   "execution_count": 25,
   "metadata": {},
   "outputs": [
    {
     "name": "stdout",
     "output_type": "stream",
     "text": [
      "Model: \"sequential_1\"\n",
      "_________________________________________________________________\n",
      "Layer (type)                 Output Shape              Param #   \n",
      "=================================================================\n",
      "conv2d (Conv2D)              (None, 28, 28, 10)        260       \n",
      "_________________________________________________________________\n",
      "max_pooling2d (MaxPooling2D) (None, 14, 14, 10)        0         \n",
      "_________________________________________________________________\n",
      "conv2d_1 (Conv2D)            (None, 14, 14, 20)        5020      \n",
      "_________________________________________________________________\n",
      "max_pooling2d_1 (MaxPooling2 (None, 7, 7, 20)          0         \n",
      "_________________________________________________________________\n",
      "conv2d_2 (Conv2D)            (None, 7, 7, 30)          15030     \n",
      "_________________________________________________________________\n",
      "max_pooling2d_2 (MaxPooling2 (None, 3, 3, 30)          0         \n",
      "_________________________________________________________________\n",
      "flatten (Flatten)            (None, 270)               0         \n",
      "_________________________________________________________________\n",
      "dense_2 (Dense)              (None, 256)               69376     \n",
      "_________________________________________________________________\n",
      "dense_3 (Dense)              (None, 128)               32896     \n",
      "_________________________________________________________________\n",
      "dense_4 (Dense)              (None, 10)                1290      \n",
      "=================================================================\n",
      "WARNING:tensorflow:Discrepancy between trainable weights and collected trainable weights, did you set `model.trainable` without calling `model.compile` after ?\n",
      "Total params: 103,562\n",
      "Trainable params: 103,562\n",
      "Non-trainable params: 0\n",
      "_________________________________________________________________\n"
     ]
    }
   ],
   "source": [
    "model2.summary()"
   ]
  },
  {
   "cell_type": "code",
   "execution_count": 26,
   "metadata": {},
   "outputs": [],
   "source": [
    "model2.compile(loss='mse', optimizer=SGD(lr=0.056), metrics=['accuracy'])"
   ]
  },
  {
   "cell_type": "code",
   "execution_count": 27,
   "metadata": {},
   "outputs": [
    {
     "name": "stdout",
     "output_type": "stream",
     "text": [
      "Train on 60000 samples\n",
      "Epoch 1/10\n",
      "60000/60000 [==============================] - 37s 624us/sample - loss: 0.0368 - accuracy: 0.7295\n",
      "Epoch 2/10\n",
      "60000/60000 [==============================] - 35s 587us/sample - loss: 0.0344 - accuracy: 0.7494\n",
      "Epoch 3/10\n",
      "60000/60000 [==============================] - 35s 578us/sample - loss: 0.0330 - accuracy: 0.7617\n",
      "Epoch 4/10\n",
      "60000/60000 [==============================] - 36s 592us/sample - loss: 0.0319 - accuracy: 0.7711\n",
      "Epoch 5/10\n",
      "60000/60000 [==============================] - 35s 588us/sample - loss: 0.0310 - accuracy: 0.7796\n",
      "Epoch 6/10\n",
      "60000/60000 [==============================] - 35s 583us/sample - loss: 0.0306 - accuracy: 0.7843\n",
      "Epoch 7/10\n",
      "60000/60000 [==============================] - 36s 603us/sample - loss: 0.0297 - accuracy: 0.7922\n",
      "Epoch 8/10\n",
      "60000/60000 [==============================] - 36s 595us/sample - loss: 0.0292 - accuracy: 0.7941\n",
      "Epoch 9/10\n",
      "60000/60000 [==============================] - 35s 591us/sample - loss: 0.0288 - accuracy: 0.7980\n",
      "Epoch 10/10\n",
      "60000/60000 [==============================] - 36s 600us/sample - loss: 0.0283 - accuracy: 0.8023\n"
     ]
    },
    {
     "data": {
      "text/plain": [
       "<tensorflow.python.keras.callbacks.History at 0x162c2594d08>"
      ]
     },
     "execution_count": 27,
     "metadata": {},
     "output_type": "execute_result"
    }
   ],
   "source": [
    "model2.fit(x_train, y_train, batch_size=256, epochs=10)"
   ]
  },
  {
   "cell_type": "code",
   "execution_count": 28,
   "metadata": {},
   "outputs": [
    {
     "name": "stdout",
     "output_type": "stream",
     "text": [
      "60000/60000 [==============================] - 12s 205us/sample - loss: 0.0306 - accuracy: 0.7819\n",
      "10000/10000 [==============================] - 2s 186us/sample - loss: 0.0323 - accuracy: 0.7677\n",
      "model2訓練資料的正確率: 78.18833589553833\n",
      "model2測試資料的正確率: 76.77000164985657\n"
     ]
    }
   ],
   "source": [
    "score_train = model2.evaluate(x_train, y_train)\n",
    "score_test = model2.evaluate(x_test, y_test)\n",
    "print(f\"model2訓練資料的正確率: {score_train[1]*100}\")\n",
    "print(f\"model2測試資料的正確率: {score_test[1]*100}\")"
   ]
  }
 ],
 "metadata": {
  "kernelspec": {
   "display_name": "Python 3",
   "language": "python",
   "name": "python3"
  },
  "language_info": {
   "codemirror_mode": {
    "name": "ipython",
    "version": 3
   },
   "file_extension": ".py",
   "mimetype": "text/x-python",
   "name": "python",
   "nbconvert_exporter": "python",
   "pygments_lexer": "ipython3",
   "version": "3.7.7"
  }
 },
 "nbformat": 4,
 "nbformat_minor": 4
}
