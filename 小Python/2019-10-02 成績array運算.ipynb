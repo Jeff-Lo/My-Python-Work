{
 "cells": [
  {
   "cell_type": "code",
   "execution_count": 2,
   "metadata": {},
   "outputs": [],
   "source": [
    "%matplotlib inline\n",
    "import numpy as np\n",
    "import matplotlib.pyplot as plt"
   ]
  },
  {
   "cell_type": "code",
   "execution_count": 3,
   "metadata": {},
   "outputs": [
    {
     "name": "stdout",
     "output_type": "stream",
     "text": [
      "A班:\n",
      " [array([58.05, 46.15, 20.65, 67.6 , 39.05, 44.65, 48.45, 53.8 , 39.95,\n",
      "       51.75])] \n",
      "\n",
      "B班:\n",
      " [array([30.8 , 48.15, 47.05, 23.05, 50.9 , 76.8 , 44.35, 31.1 , 55.9 ,\n",
      "       57.55])] \n",
      "\n",
      "C班:\n",
      " [array([65.45, 19.2 , 55.  , 61.7 , 44.8 , 57.4 , 42.45, 34.9 , 50.35,\n",
      "       64.1 ])]\n"
     ]
    }
   ],
   "source": [
    "A=np.random.randint(0,101,[10,5])\n",
    "B=np.random.randint(0,101,[10,5])\n",
    "C=np.random.randint(0,101,[10,5])\n",
    "weights=[0.25,0.25,0.25,0.15,0.10]\n",
    "x=np.dot(A,weights)\n",
    "L=[]\n",
    "L.append(x)\n",
    "print(\"A班:\\n\",L,\"\\n\")\n",
    "y=np.dot(B,weights)\n",
    "M=[]\n",
    "M.append(y)\n",
    "print(\"B班:\\n\",M,\"\\n\")\n",
    "z=np.dot(C,weights)\n",
    "N=[]\n",
    "N.append(z)\n",
    "print(\"C班:\\n\",N)"
   ]
  }
 ],
 "metadata": {
  "kernelspec": {
   "display_name": "Python 3",
   "language": "python",
   "name": "python3"
  },
  "language_info": {
   "codemirror_mode": {
    "name": "ipython",
    "version": 3
   },
   "file_extension": ".py",
   "mimetype": "text/x-python",
   "name": "python",
   "nbconvert_exporter": "python",
   "pygments_lexer": "ipython3",
   "version": "3.7.3"
  }
 },
 "nbformat": 4,
 "nbformat_minor": 2
}
