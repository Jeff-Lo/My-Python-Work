{
 "cells": [
  {
   "cell_type": "code",
   "execution_count": 1,
   "metadata": {},
   "outputs": [],
   "source": [
    "%matplotlib inline\n",
    "import numpy as np\n",
    "import matplotlib.pyplot as plt"
   ]
  },
  {
   "cell_type": "code",
   "execution_count": 2,
   "metadata": {},
   "outputs": [
    {
     "name": "stdout",
     "output_type": "stream",
     "text": [
      "請輸入你猜的數字:50\n",
      "太小啦~提高吧!\n",
      "--------------------------------------------------\n",
      "請輸入你猜的數字:92\n",
      "太大了!低一點~\n",
      "--------------------------------------------------\n",
      "請輸入你猜的數字:63\n",
      "太大了!低一點~\n",
      "--------------------------------------------------\n",
      "請輸入你猜的數字:56\n",
      "恭喜你猜對了啦^^ 正確答案是: 56\n"
     ]
    }
   ],
   "source": [
    "x=np.random.randint(1,101)\n",
    "a=1\n",
    "b=100\n",
    "y=\"\"\n",
    "while (x!=y):\n",
    "    y=int(input(\"請輸入你猜的數字:\"))\n",
    "    if (x>y) :\n",
    "        print(\"太小啦~提高吧!\")\n",
    "        print(\"-\"*50)\n",
    "    elif (x<y) :\n",
    "        print(\"太大了!低一點~\")\n",
    "        print(\"-\"*50)\n",
    "    else :\n",
    "        print(\"恭喜你猜對了啦^^ 正確答案是:\",x)"
   ]
  }
 ],
 "metadata": {
  "kernelspec": {
   "display_name": "Python 3",
   "language": "python",
   "name": "python3"
  },
  "language_info": {
   "codemirror_mode": {
    "name": "ipython",
    "version": 3
   },
   "file_extension": ".py",
   "mimetype": "text/x-python",
   "name": "python",
   "nbconvert_exporter": "python",
   "pygments_lexer": "ipython3",
   "version": "3.7.3"
  }
 },
 "nbformat": 4,
 "nbformat_minor": 2
}
