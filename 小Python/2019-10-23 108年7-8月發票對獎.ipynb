{
 "cells": [
  {
   "cell_type": "code",
   "execution_count": 1,
   "metadata": {},
   "outputs": [],
   "source": [
    "%matplotlib inline\n",
    "import numpy as np\n",
    "import matplotlib.pyplot as plt\n",
    "import pandas as pd"
   ]
  },
  {
   "cell_type": "code",
   "execution_count": 2,
   "metadata": {},
   "outputs": [
    {
     "name": "stdout",
     "output_type": "stream",
     "text": [
      "請輸入你的統一發票號碼末三碼:621\n",
      "請輸入你的統一發票全部號碼:45698621\n",
      "\u001b[1;41m恭喜你中了獎項「特別」1000萬元\u001b[1;m\n",
      "請輸入你的統一發票號碼末三碼:012\n",
      "請輸入你的統一發票全部號碼:86513012\n",
      "請輸入你的統一發票末七碼:6513012\n",
      "請輸入你的統一發票末六碼:513012\n",
      "請輸入你的統一發票末五碼:13012\n",
      "請輸入你的統一發票末四碼:3012\n",
      "\u001b[1;41m恭喜你中了獎項「六獎」200元\u001b[1;m\n",
      "請輸入你的統一發票號碼末三碼:q\n",
      "\u001b[1;41m系統已停止對獎\u001b[1;m\n"
     ]
    }
   ],
   "source": [
    "three=''\n",
    "while (three!='q'):\n",
    "    three=input('請輸入你的統一發票號碼末三碼:')\n",
    "    three=str(three)\n",
    "    if (three=='928' or three=='899'):\n",
    "        print('\\033[1;41m恭喜你中了獎項「增開六獎」200元\\033[1;m')\n",
    "    elif (three=='621' or three=='436' or three=='420' or three=='012' or three=='818'):\n",
    "        overall=input('請輸入你的統一發票全部號碼:')\n",
    "        overall=str(overall)\n",
    "        if (overall=='45698621'):\n",
    "            print('\\033[1;41m恭喜你中了獎項「特別」1000萬元\\033[1;m')\n",
    "        elif (overall=='19614436'):\n",
    "            print('\\033[1;41m恭喜你中了獎項「特獎」200萬元\\033[1;m')\n",
    "        elif (overall=='96182420' or overall=='47464012' or overall=='62781818'):\n",
    "            print('\\033[1;41m恭喜你中了獎項「頭獎」20萬元\\033[1;m')\n",
    "        else:\n",
    "            seven=input('請輸入你的統一發票末七碼:')\n",
    "            seven=str(seven)\n",
    "            if (seven=='6182420' or seven=='7464012' or seven=='2781818'):\n",
    "                print('\\033[1;41m恭喜你中了獎項「二獎」4萬元\\033[1;m')\n",
    "            else:\n",
    "                six=input('請輸入你的統一發票末六碼:')\n",
    "                six=str(six)\n",
    "                if (six=='182420' or six=='464012' or six=='781818'):\n",
    "                    print('\\033[1;41m恭喜你中了獎項「三獎」1萬元\\033[1;m')\n",
    "                else:\n",
    "                    five=input('請輸入你的統一發票末五碼:')\n",
    "                    five=str(five)\n",
    "                    if (five=='82420' or five=='64012' or five=='81818'):\n",
    "                        print('\\033[1;41m恭喜你中了獎項「四獎」4000元\\033[1;m')\n",
    "                    else:\n",
    "                        four=input('請輸入你的統一發票末四碼:')\n",
    "                        four=str(four)\n",
    "                        if (four=='2420' or four=='4012' or four=='1818'):\n",
    "                            print('\\033[1;41m恭喜你中了獎項「五獎」1000元\\033[1;m')\n",
    "                        else:\n",
    "                            print('\\033[1;41m恭喜你中了獎項「六獎」200元\\033[1;m')\n",
    "    elif (three=='q'):\n",
    "        print('\\033[1;41m系統已停止對獎\\033[1;m')\n",
    "    else:\n",
    "        print('\\033[1;41m沒中獎\\033[1;m')"
   ]
  }
 ],
 "metadata": {
  "kernelspec": {
   "display_name": "Python 3",
   "language": "python",
   "name": "python3"
  },
  "language_info": {
   "codemirror_mode": {
    "name": "ipython",
    "version": 3
   },
   "file_extension": ".py",
   "mimetype": "text/x-python",
   "name": "python",
   "nbconvert_exporter": "python",
   "pygments_lexer": "ipython3",
   "version": "3.7.3"
  }
 },
 "nbformat": 4,
 "nbformat_minor": 2
}
