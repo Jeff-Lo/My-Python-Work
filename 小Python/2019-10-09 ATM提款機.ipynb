{
 "cells": [
  {
   "cell_type": "code",
   "execution_count": 1,
   "metadata": {},
   "outputs": [],
   "source": [
    "%matplotlib inline\n",
    "import numpy as np\n",
    "import matplotlib.pyplot as plt"
   ]
  },
  {
   "cell_type": "code",
   "execution_count": 8,
   "metadata": {},
   "outputs": [
    {
     "name": "stdout",
     "output_type": "stream",
     "text": [
      "請插入你的提款卡:a\n",
      "插入成功。\n",
      "請輸入密碼:123456\n",
      "輸入成功。\n",
      "請輸入你要提領的金額:5000\n",
      "提領成功，這是你的5000元。\n",
      "請記得拿出你的提款卡。\n"
     ]
    }
   ],
   "source": [
    "#a表示插入卡片\n",
    "#提款卡密碼:123456\n",
    "ham=\"\"\n",
    "while (ham!=\"a\"):\n",
    "    ham=input(\"請插入你的提款卡:\")\n",
    "    if ham==\"a\":\n",
    "        print(\"插入成功。\")\n",
    "        spam=\"\"\n",
    "        while (spam!=\"123456\"):\n",
    "            spam=input(\"請輸入密碼:\")\n",
    "            if spam==\"123456\":\n",
    "                print(\"輸入成功。\")\n",
    "                money=input(\"請輸入你要提領的金額:\")\n",
    "                money=int(money)\n",
    "                if (0<money):\n",
    "                    print(\"提領成功，這是你的{}元。\".format(money))\n",
    "                    print(\"請記得拿出你的提款卡。\")\n",
    "                else:\n",
    "                    print(\"系統錯誤，請拔除卡片重新插入提款。\")\n",
    "            else:\n",
    "                print(\"系統錯誤，請重新輸入密碼。\")\n",
    "    else:\n",
    "        print(\"系統錯誤，請重新插入一次。\")"
   ]
  }
 ],
 "metadata": {
  "kernelspec": {
   "display_name": "Python 3",
   "language": "python",
   "name": "python3"
  },
  "language_info": {
   "codemirror_mode": {
    "name": "ipython",
    "version": 3
   },
   "file_extension": ".py",
   "mimetype": "text/x-python",
   "name": "python",
   "nbconvert_exporter": "python",
   "pygments_lexer": "ipython3",
   "version": "3.7.3"
  }
 },
 "nbformat": 4,
 "nbformat_minor": 2
}
