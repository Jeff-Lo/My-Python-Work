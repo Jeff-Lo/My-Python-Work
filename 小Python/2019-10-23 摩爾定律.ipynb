{
 "cells": [
  {
   "cell_type": "code",
   "execution_count": 1,
   "metadata": {},
   "outputs": [],
   "source": [
    "%matplotlib inline\n",
    "import numpy as np\n",
    "import matplotlib.pyplot as plt\n",
    "import pandas as pd"
   ]
  },
  {
   "cell_type": "code",
   "execution_count": 13,
   "metadata": {},
   "outputs": [
    {
     "name": "stdout",
     "output_type": "stream",
     "text": [
      "摩爾定律(普遍說法):\n",
      "1.積體電路上可容納的電晶體數目，約每隔18個月便增加一倍。\n",
      "2.微處理器的效能每隔18個月提高一倍，或價格下降一半。\n",
      "3.相同價格所買的電腦，效能每隔18個月增加一倍。\n",
      "----------------------------------------------------------------------------------------------------\n",
      "以下用第二種方法運算↓\n",
      "\n",
      "請輸入你想在幾個月後購買微處理器:90\n",
      "常理來看，預計90個月後，微處理器效能將提高5.000000倍，價格將下降5.000000倍。\n"
     ]
    }
   ],
   "source": [
    "print(\"摩爾定律(普遍說法):\\n1.積體電路上可容納的電晶體數目，約每隔18個月便增加一倍。\")\n",
    "print(\"2.微處理器的效能每隔18個月提高一倍，或價格下降一半。\")\n",
    "print(\"3.相同價格所買的電腦，效能每隔18個月增加一倍。\")\n",
    "print(\"-\"*100+\"\\n\"+\"以下用第二種方法運算↓\\n\")\n",
    "month=input(\"請輸入你想在幾個月後購買微處理器:\")\n",
    "month=int(month)\n",
    "multiple=float(month)\n",
    "print(\"常理來看，預計%d個月後，微處理器效能將提高%f倍，價格將下降%f倍。\"%(month,multiple/18,multiple/18))"
   ]
  }
 ],
 "metadata": {
  "kernelspec": {
   "display_name": "Python 3",
   "language": "python",
   "name": "python3"
  },
  "language_info": {
   "codemirror_mode": {
    "name": "ipython",
    "version": 3
   },
   "file_extension": ".py",
   "mimetype": "text/x-python",
   "name": "python",
   "nbconvert_exporter": "python",
   "pygments_lexer": "ipython3",
   "version": "3.7.3"
  }
 },
 "nbformat": 4,
 "nbformat_minor": 2
}
