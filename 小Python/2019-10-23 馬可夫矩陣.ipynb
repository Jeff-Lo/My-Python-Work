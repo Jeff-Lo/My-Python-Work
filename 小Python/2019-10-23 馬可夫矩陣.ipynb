{
 "cells": [
  {
   "cell_type": "code",
   "execution_count": 1,
   "metadata": {},
   "outputs": [],
   "source": [
    "%matplotlib inline\n",
    "import numpy as np\n",
    "import matplotlib.pyplot as plt\n",
    "import pandas as pd\n",
    "import sympy as sp\n",
    "from sympy import S"
   ]
  },
  {
   "cell_type": "code",
   "execution_count": 2,
   "metadata": {},
   "outputs": [
    {
     "name": "stdout",
     "output_type": "stream",
     "text": [
      "請輸入GO→GO\n",
      "第1次試驗\n",
      "Matrix([[2/3], [1/3]])\n",
      "\n",
      "----------------------------------------------------------------------------------------------------\n",
      "\n",
      "請輸入GO→GO\n",
      "第2次試驗\n",
      "Matrix([[25/36], [11/36]])\n",
      "\n",
      "----------------------------------------------------------------------------------------------------\n",
      "\n",
      "請輸入GO→G\n",
      "請再次輸入GO→\n",
      "\n",
      "----------------------------------------------------------------------------------------------------\n",
      "\n",
      "請輸入GO→GO\n",
      "第3次試驗\n",
      "Matrix([[299/432], [133/432]])\n",
      "\n",
      "----------------------------------------------------------------------------------------------------\n",
      "\n",
      "請輸入GO→q\n",
      "試驗結束\n",
      "\n",
      "----------------------------------------------------------------------------------------------------\n",
      "\n"
     ]
    },
    {
     "data": {
      "text/latex": [
       "$\\displaystyle \\left[\\begin{matrix}\\frac{299}{432}\\\\\\frac{133}{432}\\end{matrix}\\right]$"
      ],
      "text/plain": [
       "Matrix([\n",
       "[299/432],\n",
       "[133/432]])"
      ]
     },
     "execution_count": 2,
     "metadata": {},
     "output_type": "execute_result"
    }
   ],
   "source": [
    "#馬可夫矩陣題目:\n",
    "#設一袋中有8個藍球4個綠色球,某君手持一藍色球,他自袋中任取一球,把手裡藍色球放入袋中,重複這個試驗,並記錄每次試驗後手持球的顏色。\n",
    "#某君手持藍色球時,袋中共有12個球,其中8個為藍色球,自袋中任取一球,是藍色色球之機率為2/3,是綠色球之機率為1/3。\n",
    "#若某君手持綠色球,而袋中共有12個球,其中9個為藍色球,自袋中任取一球,是藍色球之機率為3/4,是綠色球之機率為1/4。\n",
    "A=sp.Matrix([[S(2)/3,S(3)/4],[S(1)/3,S(1)/4]])\n",
    "K=sp.Matrix([[1],[0]])\n",
    "n=0\n",
    "spam=''\n",
    "while (spam!='q'):\n",
    "    spam=input('請輸入GO→')\n",
    "    if (spam=='GO'):\n",
    "        n=n+1\n",
    "        print(\"第\"+str(n)+\"次試驗\")\n",
    "        K=A*K\n",
    "        print(K)\n",
    "    elif (spam=='q'):\n",
    "        print('試驗結束')\n",
    "    else:\n",
    "        print('請再次輸入GO→')\n",
    "    print('\\n'+'-'*100+'\\n')\n",
    "K"
   ]
  }
 ],
 "metadata": {
  "kernelspec": {
   "display_name": "Python 3",
   "language": "python",
   "name": "python3"
  },
  "language_info": {
   "codemirror_mode": {
    "name": "ipython",
    "version": 3
   },
   "file_extension": ".py",
   "mimetype": "text/x-python",
   "name": "python",
   "nbconvert_exporter": "python",
   "pygments_lexer": "ipython3",
   "version": "3.7.3"
  }
 },
 "nbformat": 4,
 "nbformat_minor": 2
}
