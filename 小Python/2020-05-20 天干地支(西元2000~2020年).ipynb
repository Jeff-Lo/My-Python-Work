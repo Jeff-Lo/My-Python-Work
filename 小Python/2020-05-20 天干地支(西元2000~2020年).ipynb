{
 "cells": [
  {
   "cell_type": "code",
   "execution_count": 1,
   "metadata": {},
   "outputs": [],
   "source": [
    "%matplotlib inline\n",
    "import numpy as np\n",
    "import matplotlib.pyplot as plt\n",
    "import pandas as pd"
   ]
  },
  {
   "cell_type": "code",
   "execution_count": 2,
   "metadata": {},
   "outputs": [
    {
     "data": {
      "text/plain": [
       "['甲乙丙丁戊己庚辛壬癸']"
      ]
     },
     "execution_count": 2,
     "metadata": {},
     "output_type": "execute_result"
    }
   ],
   "source": [
    "A = \"甲乙丙丁戊己庚辛壬癸\"\n",
    "A.split(\",\")"
   ]
  },
  {
   "cell_type": "code",
   "execution_count": 3,
   "metadata": {},
   "outputs": [
    {
     "data": {
      "text/plain": [
       "['子丑寅卯辰巳午未申酉戌亥']"
      ]
     },
     "execution_count": 3,
     "metadata": {},
     "output_type": "execute_result"
    }
   ],
   "source": [
    "B = \"子丑寅卯辰巳午未申酉戌亥\"\n",
    "B.split(\",\")"
   ]
  },
  {
   "cell_type": "code",
   "execution_count": 4,
   "metadata": {},
   "outputs": [
    {
     "name": "stdout",
     "output_type": "stream",
     "text": [
      "2000是甲午年\n",
      "2001是乙未年\n",
      "2002是丙申年\n",
      "2003是丁酉年\n",
      "2004是戊戌年\n",
      "2005是己亥年\n",
      "2006是庚子年\n",
      "2007是辛丑年\n",
      "2008是壬寅年\n",
      "2009是癸卯年\n",
      "2010是甲辰年\n",
      "2011是乙巳年\n",
      "2012是丙午年\n",
      "2013是丁未年\n",
      "2014是戊申年\n",
      "2015是己酉年\n",
      "2016是庚戌年\n",
      "2017是辛亥年\n",
      "2018是壬子年\n",
      "2019是癸丑年\n",
      "2020是甲寅年\n"
     ]
    }
   ],
   "source": [
    "a = 0\n",
    "b = 6\n",
    "c = 2000\n",
    "for i in range(21):\n",
    "    print(\"{}是{}{}年\".format(c,A[a],B[b]))\n",
    "    a = a + 1\n",
    "    b = b + 1\n",
    "    c = c + 1\n",
    "    if(a > 9):\n",
    "        a = 0\n",
    "    if(b > 11):\n",
    "        b = 0"
   ]
  }
 ],
 "metadata": {
  "kernelspec": {
   "display_name": "Python 3",
   "language": "python",
   "name": "python3"
  },
  "language_info": {
   "codemirror_mode": {
    "name": "ipython",
    "version": 3
   },
   "file_extension": ".py",
   "mimetype": "text/x-python",
   "name": "python",
   "nbconvert_exporter": "python",
   "pygments_lexer": "ipython3",
   "version": "3.7.3"
  }
 },
 "nbformat": 4,
 "nbformat_minor": 2
}
