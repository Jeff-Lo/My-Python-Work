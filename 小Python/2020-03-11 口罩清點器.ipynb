{
 "cells": [
  {
   "cell_type": "code",
   "execution_count": 1,
   "metadata": {},
   "outputs": [],
   "source": [
    "%matplotlib inline\n",
    "import numpy as np\n",
    "import matplotlib.pyplot as plt\n",
    "import pandas as pd"
   ]
  },
  {
   "cell_type": "markdown",
   "metadata": {},
   "source": [
    "# 假設這個城鎮上有10000人，每個人都有自己的代碼，代碼從0000~9999。"
   ]
  },
  {
   "cell_type": "code",
   "execution_count": 2,
   "metadata": {},
   "outputs": [
    {
     "name": "stdout",
     "output_type": "stream",
     "text": [
      "請輸入你的代碼: 10000\n",
      "系統錯誤\n",
      "\n",
      "--------------------\n",
      "\n",
      "請輸入你的代碼: 3542\n",
      "\n",
      "請輸入30表示投入30元: 10\n",
      "請乖乖投入30元!\n",
      "\n",
      "請輸入30表示投入30元: 30\n",
      "這是您的6片口罩。\n",
      "\n",
      "--------------------\n",
      "\n",
      "請輸入你的代碼: 3542\n",
      "買過就不要再來了!\n",
      "\n",
      "--------------------\n",
      "\n",
      "請輸入你的代碼: q\n"
     ]
    }
   ],
   "source": [
    "L = []\n",
    "a = \"\"\n",
    "while(a!=\"q\"):\n",
    "    a = str(input(\"請輸入你的代碼: \"))\n",
    "    if(a==\"q\"):\n",
    "        break;\n",
    "    a = int(a)\n",
    "    if(0<=a<10000):\n",
    "        if(a not in L):\n",
    "            b = \"\"\n",
    "            while(b!=\"30\"):\n",
    "                b = str(input(\"\\n請輸入30表示投入30元: \"))\n",
    "                if(b==\"30\"):\n",
    "                    L.append(a)\n",
    "                    print(\"這是您的6片口罩。\\n\\n--------------------\\n\")\n",
    "                else:\n",
    "                    print(\"請乖乖投入30元!\")\n",
    "        elif(a in L):\n",
    "            print(\"買過就不要再來了!\\n\\n--------------------\\n\")\n",
    "    else:\n",
    "        print(\"系統錯誤\\n\\n--------------------\\n\")"
   ]
  },
  {
   "cell_type": "markdown",
   "metadata": {},
   "source": [
    "# 目前不知道7天之後可以再次進行購買的設定怎麼弄"
   ]
  }
 ],
 "metadata": {
  "kernelspec": {
   "display_name": "Python 3",
   "language": "python",
   "name": "python3"
  },
  "language_info": {
   "codemirror_mode": {
    "name": "ipython",
    "version": 3
   },
   "file_extension": ".py",
   "mimetype": "text/x-python",
   "name": "python",
   "nbconvert_exporter": "python",
   "pygments_lexer": "ipython3",
   "version": "3.7.3"
  }
 },
 "nbformat": 4,
 "nbformat_minor": 2
}
