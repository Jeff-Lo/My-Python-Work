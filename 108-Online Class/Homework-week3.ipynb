{
 "cells": [
  {
   "cell_type": "markdown",
   "metadata": {},
   "source": [
    "# 第一題："
   ]
  },
  {
   "cell_type": "code",
   "execution_count": 1,
   "metadata": {},
   "outputs": [],
   "source": [
    "%matplotlib inline\n",
    "import numpy as np\n",
    "import matplotlib.pyplot as plt"
   ]
  },
  {
   "cell_type": "code",
   "execution_count": 2,
   "metadata": {},
   "outputs": [
    {
     "name": "stdout",
     "output_type": "stream",
     "text": [
      "A班:\n",
      " [array([63.85, 39.6 , 54.55, 59.4 , 59.2 , 43.2 , 25.  , 37.5 , 60.9 ,\n",
      "       69.  ])] \n",
      "\n",
      "B班:\n",
      " [array([58.05, 27.15, 62.3 , 57.4 , 55.25, 75.25, 47.75, 47.15, 29.05,\n",
      "       77.9 ])] \n",
      "\n",
      "C班:\n",
      " [array([31.3 , 57.8 , 66.55, 51.8 , 70.45, 48.85, 45.25, 49.25, 46.7 ,\n",
      "       52.6 ])]\n"
     ]
    }
   ],
   "source": [
    "A = np.random.randint(0,101,[10,5])\n",
    "B = np.random.randint(0,101,[10,5])\n",
    "C = np.random.randint(0,101,[10,5])\n",
    "weights = [0.25,0.25,0.25,0.15,0.10]\n",
    "x = np.dot(A,weights)\n",
    "L = []\n",
    "L.append(x)\n",
    "print(\"A班:\\n\",L,\"\\n\")\n",
    "y = np.dot(B,weights)\n",
    "M = []\n",
    "M.append(y)\n",
    "print(\"B班:\\n\",M,\"\\n\")\n",
    "z = np.dot(C,weights)\n",
    "N = []\n",
    "N.append(z)\n",
    "print(\"C班:\\n\",N)"
   ]
  },
  {
   "cell_type": "markdown",
   "metadata": {},
   "source": [
    "# 第二題："
   ]
  },
  {
   "cell_type": "code",
   "execution_count": 3,
   "metadata": {},
   "outputs": [
    {
     "name": "stdout",
     "output_type": "stream",
     "text": [
      "[ 32  66  70  58 100  65  49  19   8  70  89  69   6  40  81  27   2  82\n",
      "  65  94  11  63   8  45  16  71  40  72  85  13  97  41  95  54   0  86\n",
      "  84  80  89  88]\n",
      "最高分:100 最低分:0 及格人數(>=60):22 平均:55.75 標準差:30.76991225206858\n"
     ]
    },
    {
     "data": {
      "text/plain": [
       "(array([5., 4., 1., 1., 5., 2., 5., 4., 9., 4.]),\n",
       " array([  0.,  10.,  20.,  30.,  40.,  50.,  60.,  70.,  80.,  90., 100.]),\n",
       " <a list of 10 Patch objects>)"
      ]
     },
     "execution_count": 3,
     "metadata": {},
     "output_type": "execute_result"
    },
    {
     "data": {
      "image/png": "[encoded data removed]",
      "text/plain": [
       "<Figure size 432x288 with 1 Axes>"
      ]
     },
     "metadata": {
      "needs_background": "light"
     },
     "output_type": "display_data"
    }
   ],
   "source": [
    "a = np.random.randint(0,101,40)\n",
    "print(a)\n",
    "print(f\"最高分:{a.max()} 最低分:{a.min()} 及格人數(>=60):{len(a[a>=60])} 平均:{a.mean()} 標準差:{a.std()}\")\n",
    "plt.hist(a,bins=10,edgecolor=\"white\")"
   ]
  },
  {
   "cell_type": "markdown",
   "metadata": {},
   "source": [
    "# 挑戰題一："
   ]
  },
  {
   "cell_type": "code",
   "execution_count": 4,
   "metadata": {},
   "outputs": [
    {
     "data": {
      "text/plain": [
       "array([[[68.4 ],\n",
       "        [41.45],\n",
       "        [46.4 ],\n",
       "        [57.  ],\n",
       "        [40.6 ],\n",
       "        [35.4 ],\n",
       "        [52.55],\n",
       "        [44.9 ],\n",
       "        [63.  ],\n",
       "        [53.6 ],\n",
       "        [54.6 ],\n",
       "        [67.  ],\n",
       "        [24.85],\n",
       "        [64.4 ],\n",
       "        [70.  ],\n",
       "        [35.6 ],\n",
       "        [28.8 ],\n",
       "        [66.8 ],\n",
       "        [75.6 ],\n",
       "        [45.95],\n",
       "        [63.35],\n",
       "        [54.  ],\n",
       "        [84.8 ],\n",
       "        [69.8 ],\n",
       "        [44.  ],\n",
       "        [63.3 ],\n",
       "        [62.  ],\n",
       "        [65.8 ],\n",
       "        [63.8 ],\n",
       "        [20.4 ]],\n",
       "\n",
       "       [[50.85],\n",
       "        [21.7 ],\n",
       "        [41.2 ],\n",
       "        [54.7 ],\n",
       "        [45.05],\n",
       "        [81.8 ],\n",
       "        [53.55],\n",
       "        [41.75],\n",
       "        [35.4 ],\n",
       "        [58.6 ],\n",
       "        [79.6 ],\n",
       "        [36.8 ],\n",
       "        [58.85],\n",
       "        [24.2 ],\n",
       "        [51.2 ],\n",
       "        [19.8 ],\n",
       "        [41.6 ],\n",
       "        [46.8 ],\n",
       "        [46.  ],\n",
       "        [80.  ],\n",
       "        [21.05],\n",
       "        [19.4 ],\n",
       "        [43.4 ],\n",
       "        [51.4 ],\n",
       "        [52.2 ],\n",
       "        [20.35],\n",
       "        [70.2 ],\n",
       "        [24.65],\n",
       "        [44.4 ],\n",
       "        [61.75]],\n",
       "\n",
       "       [[29.8 ],\n",
       "        [30.8 ],\n",
       "        [84.4 ],\n",
       "        [45.2 ],\n",
       "        [50.95],\n",
       "        [64.75],\n",
       "        [35.2 ],\n",
       "        [75.4 ],\n",
       "        [72.6 ],\n",
       "        [39.8 ],\n",
       "        [29.15],\n",
       "        [61.85],\n",
       "        [78.6 ],\n",
       "        [35.  ],\n",
       "        [57.8 ],\n",
       "        [90.4 ],\n",
       "        [60.65],\n",
       "        [52.6 ],\n",
       "        [34.8 ],\n",
       "        [31.25],\n",
       "        [71.8 ],\n",
       "        [44.2 ],\n",
       "        [58.2 ],\n",
       "        [36.15],\n",
       "        [53.05],\n",
       "        [20.8 ],\n",
       "        [54.8 ],\n",
       "        [52.8 ],\n",
       "        [72.6 ],\n",
       "        [50.15]]])"
      ]
     },
     "execution_count": 4,
     "metadata": {},
     "output_type": "execute_result"
    }
   ],
   "source": [
    "def grades(cl):\n",
    "    p = np.zeros([3,30,1])\n",
    "    weight1 = [0.2,0.35,0.45]\n",
    "    weight2 = [0,0.4,0.6]\n",
    "    for i in range(len(cl)):\n",
    "        cl_stu = cl[i]\n",
    "        for j in range(len(cl_stu)):\n",
    "            p[i][j] = max(np.dot(cl_stu[j],weight1),np.dot(cl_stu[j],weight2))\n",
    "    return p\n",
    "cl = np.random.randint(0,101,[3,30,3])\n",
    "grades(cl)"
   ]
  },
  {
   "cell_type": "markdown",
   "metadata": {},
   "source": [
    "# 挑戰題二："
   ]
  },
  {
   "cell_type": "code",
   "execution_count": 5,
   "metadata": {},
   "outputs": [
    {
     "name": "stdout",
     "output_type": "stream",
     "text": [
      "[[0.2630795  1.78391635 2.03282493 1.58378212 1.20648424]\n",
      " [2.6346837  3.0060564  3.65229546 1.34094677 1.13594583]]\n"
     ]
    },
    {
     "data": {
      "text/plain": [
       "array([[0., 1., 1., 1., 1.],\n",
       "       [1., 1., 1., 1., 1.]])"
      ]
     },
     "execution_count": 5,
     "metadata": {},
     "output_type": "execute_result"
    }
   ],
   "source": [
    "def change_zero_or_one(n):\n",
    "    for i in range(len(n)):\n",
    "        for j in range(len(n[i])):\n",
    "            if(n[i][j]>1):\n",
    "                n[i][j] = 1\n",
    "            elif(n[i][j]<1):\n",
    "                n[i][j]=0\n",
    "    return n\n",
    "m = 5*np.random.rand(10).reshape(2,5)\n",
    "print(m)\n",
    "change_zero_or_one(m)"
   ]
  },
  {
   "cell_type": "markdown",
   "metadata": {},
   "source": [
    "# 挑戰題三：自己出！"
   ]
  },
  {
   "cell_type": "code",
   "execution_count": 6,
   "metadata": {},
   "outputs": [
    {
     "name": "stdout",
     "output_type": "stream",
     "text": [
      "25.7\n",
      "41.5\n",
      "52.2\n",
      "47.800000000000004\n",
      "34.2\n",
      "36.6\n",
      "62.2\n",
      "20.0\n",
      "51.3\n",
      "20.9\n"
     ]
    }
   ],
   "source": [
    "score = np.random.randint(0,101,[10,3])\n",
    "weight = [0.2,0.2,0.3]\n",
    "grades = score@weight\n",
    "for i in range(10):\n",
    "    print(grades[i])"
   ]
  }
 ],
 "metadata": {
  "kernelspec": {
   "display_name": "Python 3",
   "language": "python",
   "name": "python3"
  },
  "language_info": {
   "codemirror_mode": {
    "name": "ipython",
    "version": 3
   },
   "file_extension": ".py",
   "mimetype": "text/x-python",
   "name": "python",
   "nbconvert_exporter": "python",
   "pygments_lexer": "ipython3",
   "version": "3.7.3"
  }
 },
 "nbformat": 4,
 "nbformat_minor": 2
}
