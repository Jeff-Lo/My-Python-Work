{
 "cells": [
  {
   "cell_type": "code",
   "execution_count": 1,
   "metadata": {},
   "outputs": [],
   "source": [
    "%matplotlib inline\n",
    "import numpy as np\n",
    "import matplotlib.pyplot as plt\n",
    "import pandas as pd"
   ]
  },
  {
   "cell_type": "code",
   "execution_count": 2,
   "metadata": {},
   "outputs": [
    {
     "name": "stdout",
     "output_type": "stream",
     "text": [
      "[[-0.21202214 -1.18076073  1.86055133  0.2468471   1.35131634]\n",
      " [ 0.23210895 -0.45499708 -0.52628585 -3.4444884  -2.30257784]\n",
      " [-0.45096489 -0.46847707 -0.23407651 -1.81834757  0.17098282]\n",
      " [-1.38568364 -0.11433026  0.0525951  -0.79379088 -1.58810712]\n",
      " [ 1.45442539  1.27325681  0.17459233  0.53736567 -0.53095712]]\n"
     ]
    }
   ],
   "source": [
    "def matrix_plus():\n",
    "    \n",
    "    m1 = np.random.randn(5,5)\n",
    "\n",
    "    m2 = np.random.randn(5,5)\n",
    "    \n",
    "    print(m1+m2)\n",
    "\n",
    "matrix_plus()"
   ]
  }
 ],
 "metadata": {
  "kernelspec": {
   "display_name": "Python 3",
   "language": "python",
   "name": "python3"
  },
  "language_info": {
   "codemirror_mode": {
    "name": "ipython",
    "version": 3
   },
   "file_extension": ".py",
   "mimetype": "text/x-python",
   "name": "python",
   "nbconvert_exporter": "python",
   "pygments_lexer": "ipython3",
   "version": "3.7.3"
  }
 },
 "nbformat": 4,
 "nbformat_minor": 2
}
