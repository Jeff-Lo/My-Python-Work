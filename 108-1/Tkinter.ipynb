{
 "cells": [
  {
   "cell_type": "code",
   "execution_count": 1,
   "metadata": {},
   "outputs": [
    {
     "name": "stdout",
     "output_type": "stream",
     "text": [
      "{'bd': ('bd', '-borderwidth'), 'borderwidth': ('borderwidth', 'borderWidth', 'BorderWidth', <pixel object: '0'>, 0), 'class': ('class', 'class', 'Class', 'Toplevel', 'Tk'), 'menu': ('menu', 'menu', 'Menu', '', ''), 'relief': ('relief', 'relief', 'Relief', <index object: 'flat'>, 'flat'), 'screen': ('screen', 'screen', 'Screen', '', ''), 'use': ('use', 'use', 'Use', '', ''), 'background': ('background', 'background', 'Background', <border object: 'SystemButtonFace'>, 'red'), 'bg': ('bg', '-background'), 'colormap': ('colormap', 'colormap', 'Colormap', '', ''), 'container': ('container', 'container', 'Container', 0, 0), 'cursor': ('cursor', 'cursor', 'Cursor', '', ''), 'height': ('height', 'height', 'Height', <pixel object: '0'>, 600), 'highlightbackground': ('highlightbackground', 'highlightBackground', 'HighlightBackground', <color object: 'SystemButtonFace'>, 'SystemButtonFace'), 'highlightcolor': ('highlightcolor', 'highlightColor', 'HighlightColor', <color object: 'SystemWindowFrame'>, 'SystemWindowFrame'), 'highlightthickness': ('highlightthickness', 'highlightThickness', 'HighlightThickness', <pixel object: '0'>, 0), 'padx': ('padx', 'padX', 'Pad', <pixel object: '0'>, <pixel object: '0'>), 'pady': ('pady', 'padY', 'Pad', <pixel object: '0'>, <pixel object: '0'>), 'takefocus': ('takefocus', 'takeFocus', 'TakeFocus', '0', '0'), 'visual': ('visual', 'visual', 'Visual', '', ''), 'width': ('width', 'width', 'Width', <pixel object: '0'>, 800)}\n"
     ]
    }
   ],
   "source": [
    "import tkinter as tk\n",
    "\n",
    "def window_quit():\n",
    "    window.destroy() #關閉視窗\n",
    "\n",
    "window = tk.Tk()\n",
    "window.title('test') #標題\n",
    "window.config(background='red' , width='800' , height='600') #背景顏色、寬、長\n",
    "\n",
    "lbl = tk.Label(window , text='Hello!' , font=('Times',100))\n",
    "lbl.pack()\n",
    "\n",
    "btn = tk.Button(window , text='Close' , command=window_quit)\n",
    "btn.pack(side=tk.BOTTOM) #按鈕放在下面\n",
    "\n",
    "print(window.config()) #show全部的參數\n",
    "\n",
    "window.mainloop() #開啟視窗"
   ]
  },
  {
   "cell_type": "code",
   "execution_count": 2,
   "metadata": {},
   "outputs": [],
   "source": [
    "import tkinter as tk\n",
    "\n",
    "def window_quit():\n",
    "    lbl.config(text=\"Please don't go~~~\") #改字\n",
    "\n",
    "window = tk.Tk()\n",
    "window.title('test') #標題\n",
    "window.config(background='red' , width='800' , height='600') #背景顏色、寬、長\n",
    "\n",
    "lbl = tk.Label(window , text='Hello!' , font=('Times',100))\n",
    "lbl.pack()\n",
    "\n",
    "btn = tk.Button(window , text='Close' , command=window_quit)\n",
    "btn.pack(side=tk.BOTTOM) #按鈕放在下面\n",
    "\n",
    "window.mainloop() #開啟視窗"
   ]
  },
  {
   "cell_type": "code",
   "execution_count": 3,
   "metadata": {},
   "outputs": [],
   "source": [
    "import tkinter as tk\n",
    "\n",
    "def window_quit():\n",
    "    window.destroy()\n",
    "\n",
    "window = tk.Tk()\n",
    "window.title('test')\n",
    "window.config(background='red' , width='800' , height='600')\n",
    "\n",
    "weightVar = tk.StringVar() #創造一個String變數\n",
    "\n",
    "frame = tk.Frame(window)\n",
    "frame.pack()\n",
    "\n",
    "lbl = tk.Label(frame , text='Weight')\n",
    "lbl.pack(side='left')\n",
    "entry = tk.Entry(frame , textvariable=weightVar) #可以輸入東西\n",
    "entry.pack(side='top')\n",
    "\n",
    "btn = tk.Button(window , text='Close' , command=window_quit)\n",
    "btn.pack(side='bottom')\n",
    "\n",
    "window.mainloop()"
   ]
  },
  {
   "cell_type": "markdown",
   "metadata": {},
   "source": [
    "# 創造BMI計算器"
   ]
  },
  {
   "cell_type": "code",
   "execution_count": 4,
   "metadata": {},
   "outputs": [],
   "source": [
    "import tkinter as tk\n",
    "\n",
    "def window_quit():\n",
    "    bmi = float(weightVar.get())/(float(heightVar.get())/100)**2\n",
    "    result.config(text=bmi)\n",
    "\n",
    "window = tk.Tk()\n",
    "window.title('test')\n",
    "window.config(background='blue' , width='800' , height='600')\n",
    "\n",
    "result = tk.Label(window , text='BMI')\n",
    "result.pack()\n",
    "\n",
    "frame = tk.Frame(window)\n",
    "frame.pack()\n",
    "\n",
    "weightVar = tk.StringVar()\n",
    "weightVar.set('53') #一開始就設定為53\n",
    "\n",
    "lbl = tk.Label(frame , text='Weight')\n",
    "lbl.pack(side='left')\n",
    "entry = tk.Entry(frame , textvariable=weightVar)\n",
    "entry.pack(side='top')\n",
    "\n",
    "frame2 = tk.Frame(window)\n",
    "frame2.pack()\n",
    "\n",
    "heightVar = tk.StringVar()\n",
    "\n",
    "lbl = tk.Label(frame2 , text='Height')\n",
    "lbl.pack(side='left')\n",
    "entry = tk.Entry(frame2 , textvariable=heightVar)\n",
    "entry.pack(side='top')\n",
    "\n",
    "btn = tk.Button(window , text='Go' , command=window_quit)\n",
    "btn.pack(side='bottom')\n",
    "\n",
    "window.mainloop()"
   ]
  },
  {
   "cell_type": "markdown",
   "metadata": {},
   "source": [
    "# 夢幻賭場"
   ]
  },
  {
   "cell_type": "code",
   "execution_count": 1,
   "metadata": {},
   "outputs": [],
   "source": [
    "%matplotlib inline\n",
    "import numpy as np\n",
    "import matplotlib.pyplot as plt\n",
    "import pandas as pd"
   ]
  },
  {
   "cell_type": "code",
   "execution_count": 2,
   "metadata": {},
   "outputs": [],
   "source": [
    "#加入搖骰子"
   ]
  },
  {
   "cell_type": "code",
   "execution_count": 3,
   "metadata": {},
   "outputs": [],
   "source": [
    "#加入777"
   ]
  },
  {
   "cell_type": "code",
   "execution_count": 10,
   "metadata": {},
   "outputs": [],
   "source": [
    "import tkinter as tk\n",
    "\n",
    "window = tk.Tk()\n",
    "window.title('夢幻賭場') #標題\n",
    "window.config(background='blue') #背景顏色\n",
    "#置中視窗\n",
    "window_width = 800\n",
    "window_height = 600\n",
    "w = window.winfo_screenwidth()\n",
    "h = window.winfo_screenheight()\n",
    "x = w/2-window_width/2\n",
    "y = h/2-window_height/2\n",
    "window.geometry(\"%dx%d+%d+%d\"%((window_width,window_height)+(x,y)))\n",
    "\n",
    "#背景圖片\n",
    "photo = tk.PhotoImage(file=\"賭場.gif\")\n",
    "theButton = tk.Button(window,justify=tk.LEFT,image=photo,compound=tk.CENTER,fg=\"black\")\n",
    "theButton.pack()\n",
    "\n",
    "#關閉視窗\n",
    "def window_quit():\n",
    "    window.destroy()\n",
    "btn = tk.Button(window , text='Close' , command=window_quit)\n",
    "btn.pack(side='bottom')\n",
    "\n",
    "window.mainloop() #啟動"
   ]
  },
  {
   "cell_type": "code",
   "execution_count": null,
   "metadata": {},
   "outputs": [],
   "source": [
    "#背景圖片\n",
    "photo = tk.PhotoImage(file=\"賭場.gif\")\n",
    "theLabel = tk.Label(window,justify=tk.LEFT,image=photo,compound=tk.CENTER,fg=\"black\")\n",
    "theLabel.pack()"
   ]
  },
  {
   "cell_type": "code",
   "execution_count": null,
   "metadata": {},
   "outputs": [],
   "source": []
  }
 ],
 "metadata": {
  "kernelspec": {
   "display_name": "Python 3",
   "language": "python",
   "name": "python3"
  },
  "language_info": {
   "codemirror_mode": {
    "name": "ipython",
    "version": 3
   },
   "file_extension": ".py",
   "mimetype": "text/x-python",
   "name": "python",
   "nbconvert_exporter": "python",
   "pygments_lexer": "ipython3",
   "version": "3.7.3"
  }
 },
 "nbformat": 4,
 "nbformat_minor": 2
}
