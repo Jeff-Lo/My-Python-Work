{
 "cells": [
  {
   "cell_type": "markdown",
   "metadata": {},
   "source": [
    "# 簡單又好玩的interact互動"
   ]
  },
  {
   "cell_type": "code",
   "execution_count": 1,
   "metadata": {},
   "outputs": [],
   "source": [
    "%matplotlib inline\n",
    "import numpy as np\n",
    "import matplotlib.pyplot as plt\n",
    "from ipywidgets import interact\n",
    "from ipywidgets import interact_manual"
   ]
  },
  {
   "cell_type": "markdown",
   "metadata": {},
   "source": [
    "## 1元之多國幣值換算"
   ]
  },
  {
   "cell_type": "code",
   "execution_count": 2,
   "metadata": {},
   "outputs": [
    {
     "name": "stdout",
     "output_type": "stream",
     "text": [
      "新台幣的1元可以換算成以下的國家各多少元。\n"
     ]
    },
    {
     "data": {
      "application/vnd.jupyter.widget-view+json": {
       "model_id": "3643e750b9f742b18c2b37925322ed8d",
       "version_major": 2,
       "version_minor": 0
      },
      "text/plain": [
       "interactive(children=(Dropdown(description='請選擇', options={'美金': '0.0321750321750322元', '日圓': '3.4482758620689…"
      ]
     },
     "metadata": {},
     "output_type": "display_data"
    }
   ],
   "source": [
    "def exchange(請選擇):\n",
    "    print(請選擇)\n",
    "\n",
    "print(\"新台幣的1元可以換算成以下的國家各多少元。\")\n",
    "\n",
    "interact(exchange,請選擇={\"美金\":\"0.0321750321750322元\",\n",
    "                     \"日圓\":\"3.448275862068966元\",\n",
    "                     \"英鎊\":\"0.0261848651479445元\",\n",
    "                     \"歐元\":\"0.0294724432655467元\",\n",
    "                     \"港元\":\"0.2525252525252525元\",\n",
    "                     \"人民幣\":\"0.2301019351572747元\",\n",
    "                     \"中國離岸人民幣\":\"0.2272727272727273元\",\n",
    "                     \"韓元\":\"33.33333333333333元\",\n",
    "                     \"泰銖\":\"0.9803921568627451元\",\n",
    "                     \"新加坡元\":\"0.0454545454545455元\",\n",
    "                     \"新土耳其里拉\":\"0.1851851851851852元\",\n",
    "                     \"捷克克朗\":\"0.7692307692307692元\",\n",
    "                     \"印度盧比\":\"2.272727272727273元\",\n",
    "                     \"印度尼西亞盧比\":\"476.1904761904762元\",\n",
    "                     \"澳門元\":\"0.2631578947368421元\",\n",
    "                     \"瑞士法郎\":\"0.03125元\",\n",
    "                     \"越南盾\":\"745.98元\",\n",
    "                     \"比特幣\":\"0.000004元\",});"
   ]
  },
  {
   "cell_type": "markdown",
   "metadata": {},
   "source": [
    "## 抽同學回答問題"
   ]
  },
  {
   "cell_type": "code",
   "execution_count": 3,
   "metadata": {},
   "outputs": [
    {
     "data": {
      "application/vnd.jupyter.widget-view+json": {
       "model_id": "c97856e5f8f04632a800d6bbb185a44d",
       "version_major": 2,
       "version_minor": 0
      },
      "text/plain": [
       "interactive(children=(Button(description='Run Interact', style=ButtonStyle()), Output()), _dom_classes=('widge…"
      ]
     },
     "metadata": {},
     "output_type": "display_data"
    }
   ],
   "source": [
    "def draw():\n",
    "    L=[\"花爸\",\"花媽\",\"橘子\",\"柚子\",\"哆啦A夢\",\"大雄\",\"胖虎\",\"小夫\",\"靜香\",\"小杉\",\"小新\",\"風間\",\"妮妮\",\"正男\",\"阿呆\"]\n",
    "    print(np.random.choice(L))\n",
    "\n",
    "interact_manual(draw);"
   ]
  },
  {
   "cell_type": "markdown",
   "metadata": {},
   "source": [
    "## 哪兩隊對打"
   ]
  },
  {
   "cell_type": "code",
   "execution_count": 4,
   "metadata": {},
   "outputs": [
    {
     "name": "stdout",
     "output_type": "stream",
     "text": [
      "接下來舉辦額外獎金賽，從12支隊伍挑出2支幸運隊伍得到這個機會進行比賽，贏的那方獲得獎金1000萬元，輸的那方獲得參加獎100萬元。\n"
     ]
    },
    {
     "data": {
      "application/vnd.jupyter.widget-view+json": {
       "model_id": "ccba3c5d65a24def9cc251b2aae6c155",
       "version_major": 2,
       "version_minor": 0
      },
      "text/plain": [
       "interactive(children=(Button(description='Run Interact', style=ButtonStyle()), Output()), _dom_classes=('widge…"
      ]
     },
     "metadata": {},
     "output_type": "display_data"
    },
    {
     "data": {
      "application/vnd.jupyter.widget-view+json": {
       "model_id": "e19fcdda122f4033b3783966e981af8d",
       "version_major": 2,
       "version_minor": 0
      },
      "text/plain": [
       "interactive(children=(Dropdown(description='T', options={1: '洋基', 2: '紅襪', 3: '光芒', 4: '道奇', 5: '金鶯', 6: '太空人'…"
      ]
     },
     "metadata": {},
     "output_type": "display_data"
    },
    {
     "data": {
      "application/vnd.jupyter.widget-view+json": {
       "model_id": "dcf11d47d8554464b48e749cf06b61e1",
       "version_major": 2,
       "version_minor": 0
      },
      "text/plain": [
       "interactive(children=(Dropdown(description='T', options={1: '洋基', 2: '紅襪', 3: '光芒', 4: '道奇', 5: '金鶯', 6: '太空人'…"
      ]
     },
     "metadata": {},
     "output_type": "display_data"
    }
   ],
   "source": [
    "print(\"接下來舉辦額外獎金賽，從12支隊伍挑出2支幸運隊伍得到這個機會進行比賽，贏的那方獲得獎金1000萬元，輸的那方獲得參加獎100萬元。\")\n",
    "def draw():\n",
    "    print(np.random.randint(1,13))\n",
    "    print(np.random.randint(1,13))\n",
    "    print(\"這2個號碼究竟是代表哪2支隊伍呢?\")\n",
    "interact_manual(draw)\n",
    "\n",
    "def team1(T):\n",
    "    print(\"第1支隊伍:\")\n",
    "    print(T)\n",
    "interact_manual(team1,T={1:\"洋基\",2:\"紅襪\",3:\"光芒\",4:\"道奇\",5:\"金鶯\",6:\"太空人\",7:\"藍鳥\",8:\"皇家\",9:\"老虎\",10:\"遊騎兵\",11:\"國民\",12:\"天使\"})\n",
    "\n",
    "def team2(T):\n",
    "    print(\"第2支隊伍:\")\n",
    "    print(T)\n",
    "    print(\"恭喜以上幸運的2支隊伍獲得比賽機會!!!\")\n",
    "interact_manual(team2,T={1:\"洋基\",2:\"紅襪\",3:\"光芒\",4:\"道奇\",5:\"金鶯\",6:\"太空人\",7:\"藍鳥\",8:\"皇家\",9:\"老虎\",10:\"遊騎兵\",11:\"國民\",12:\"天使\"});"
   ]
  },
  {
   "cell_type": "markdown",
   "metadata": {},
   "source": [
    "## 槍枝決勝負"
   ]
  },
  {
   "cell_type": "code",
   "execution_count": 7,
   "metadata": {},
   "outputs": [
    {
     "data": {
      "application/vnd.jupyter.widget-view+json": {
       "model_id": "a4a3de8b2c9c47e6b58523186904a7a5",
       "version_major": 2,
       "version_minor": 0
      },
      "text/plain": [
       "interactive(children=(IntSlider(value=0, description='g', max=29), Output()), _dom_classes=('widget-interact',…"
      ]
     },
     "metadata": {},
     "output_type": "display_data"
    }
   ],
   "source": [
    "def gun(g=0):\n",
    "    print(\"（つ> _◕）つ︻╦̵̵͇̿̿̿̿╤───\"+\"‧\"*g+\" \"*(105-2*g)+\"❝᷀ົཽ\"+\"\\n\")\n",
    "    if g==0:\n",
    "        print(\"༼ つ/̵͇̿̿/’̿’̿ ̿ ̿̿ ̿̿\"+\"∵\"*(2*g-2)+\" \"*117+\"❝᷀ົཽ\"+\"\\n\")\n",
    "    if g>0:\n",
    "        print(\"༼ つ/̵͇̿̿/’̿’̿ ̿ ̿̿ ̿̿\"+\"∵\"*(2*g-2)+\" \"*(117-(4*g-4))+\"❝᷀ົཽ\"+\"\\n\")\n",
    "    if g==0:\n",
    "        print(\"༼ つ▄︻┻┳═一\"+\"–\"*(2*g-1)+\" \"*115+\"❝᷀ົཽ\")\n",
    "    if g>0:\n",
    "        print(\"༼ つ▄︻┻┳═一\"+\"–\"*(2*g-1)+\" \"*(115-(4*g-2))+\"❝᷀ົཽ\")\n",
    "interact(gun,g=(0,29));"
   ]
  },
  {
   "cell_type": "markdown",
   "metadata": {},
   "source": [
    "## 天下第一武道大會 魔貫光殺砲 VS. 龜派氣功"
   ]
  },
  {
   "cell_type": "code",
   "execution_count": 9,
   "metadata": {
    "scrolled": true
   },
   "outputs": [
    {
     "name": "stdout",
     "output_type": "stream",
     "text": [
      "接著進行「天下第一武道大會」現場轉播!\n",
      "悟空的「龜派氣功」和比克的「魔貫光殺砲」即將產生劇烈衝擊!!!\n"
     ]
    },
    {
     "data": {
      "application/vnd.jupyter.widget-view+json": {
       "model_id": "dc1bfa85729c44aeb9756b72ce9c7333",
       "version_major": 2,
       "version_minor": 0
      },
      "text/plain": [
       "interactive(children=(IntSlider(value=0, description='n', max=80), Output()), _dom_classes=('widget-interact',…"
      ]
     },
     "metadata": {},
     "output_type": "display_data"
    }
   ],
   "source": [
    "print(\"接著進行「天下第一武道大會」現場轉播!\")\n",
    "import time\n",
    "time.sleep(5)\n",
    "print(\"悟空的「龜派氣功」和比克的「魔貫光殺砲」即將產生劇烈衝擊!!!\")\n",
    "def move(n=0):\n",
    "    if 0<=n<=40:\n",
    "        print(\"魔貫光殺砲●━00000000000\"+\"0\"*n+\"━σ\"+\" \"*(80-2*n)+\"< =\"+\"=\"*n+\"===========O))龜派氣功\")\n",
    "    if 40<=n<=80:\n",
    "        print(\" \"*(80-n)+\"☄◣ω◢☄\"+\" \"*(n-40)+\"◢▆▅▄▃崩╰(〒皿〒)╯潰▃▄▅▇◣\"+\" \"*(n-40)+\"☄◣ω◢☄\")\n",
    "        print(\"我先去逃難了，轉播到此結束，謝謝大家。\")\n",
    "interact(move,n=(0,80));"
   ]
  },
  {
   "cell_type": "code",
   "execution_count": null,
   "metadata": {},
   "outputs": [],
   "source": []
  }
 ],
 "metadata": {
  "kernelspec": {
   "display_name": "Python 3",
   "language": "python",
   "name": "python3"
  },
  "language_info": {
   "codemirror_mode": {
    "name": "ipython",
    "version": 3
   },
   "file_extension": ".py",
   "mimetype": "text/x-python",
   "name": "python",
   "nbconvert_exporter": "python",
   "pygments_lexer": "ipython3",
   "version": "3.7.3"
  }
 },
 "nbformat": 4,
 "nbformat_minor": 2
}
