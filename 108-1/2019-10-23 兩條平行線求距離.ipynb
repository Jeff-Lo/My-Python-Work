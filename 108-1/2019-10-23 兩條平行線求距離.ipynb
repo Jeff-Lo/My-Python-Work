{
 "cells": [
  {
   "cell_type": "code",
   "execution_count": 1,
   "metadata": {},
   "outputs": [],
   "source": [
    "%matplotlib inline\n",
    "import numpy as np\n",
    "import matplotlib.pyplot as plt\n",
    "import pandas as pd\n",
    "import sympy as sp"
   ]
  },
  {
   "cell_type": "code",
   "execution_count": 2,
   "metadata": {},
   "outputs": [
    {
     "data": {
      "text/latex": [
       "$\\displaystyle \\frac{\\left|{e - f}\\right|}{\\sqrt{a^{2} + b^{2}}}$"
      ],
      "text/plain": [
       "Abs(e - f)/sqrt(a**2 + b**2)"
      ]
     },
     "execution_count": 2,
     "metadata": {},
     "output_type": "execute_result"
    }
   ],
   "source": [
    "from sympy.abc import d,a,b,e,f\n",
    "d=abs(e-f)/sp.sqrt(a*a+b*b)\n",
    "d"
   ]
  },
  {
   "cell_type": "code",
   "execution_count": 12,
   "metadata": {},
   "outputs": [
    {
     "name": "stdout",
     "output_type": "stream",
     "text": [
      "a:2\n",
      "b:3\n",
      "e:5\n",
      "f:10\n",
      "2*x+3*y=5\n",
      "2*x+3*y=10\n"
     ]
    },
    {
     "data": {
      "text/latex": [
       "$\\displaystyle \\frac{5 \\sqrt{13}}{13}$"
      ],
      "text/plain": [
       "5*sqrt(13)/13"
      ]
     },
     "execution_count": 12,
     "metadata": {},
     "output_type": "execute_result"
    }
   ],
   "source": [
    "#L1:a*x+b*y=e L2:a*x+b*y=f\n",
    "a=input(\"a:\")\n",
    "a=int(a)\n",
    "b=input(\"b:\")\n",
    "b=int(b)\n",
    "e=input(\"e:\")\n",
    "e=int(e)\n",
    "f=input(\"f:\")\n",
    "f=int(f)\n",
    "print(f'{a}*x+{b}*y={e}')\n",
    "print(f'{a}*x+{b}*y={f}')\n",
    "d=abs(e-f)/sp.sqrt(a*a+b*b)\n",
    "d"
   ]
  }
 ],
 "metadata": {
  "kernelspec": {
   "display_name": "Python 3",
   "language": "python",
   "name": "python3"
  },
  "language_info": {
   "codemirror_mode": {
    "name": "ipython",
    "version": 3
   },
   "file_extension": ".py",
   "mimetype": "text/x-python",
   "name": "python",
   "nbconvert_exporter": "python",
   "pygments_lexer": "ipython3",
   "version": "3.7.3"
  }
 },
 "nbformat": 4,
 "nbformat_minor": 2
}
