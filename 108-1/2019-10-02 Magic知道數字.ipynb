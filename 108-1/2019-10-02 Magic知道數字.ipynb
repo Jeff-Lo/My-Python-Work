{
 "cells": [
  {
   "cell_type": "code",
   "execution_count": 1,
   "metadata": {},
   "outputs": [],
   "source": [
    "#Magic知道數字"
   ]
  },
  {
   "cell_type": "code",
   "execution_count": 17,
   "metadata": {},
   "outputs": [],
   "source": [
    "%matplotlib inline\n",
    "import numpy as np\n",
    "import matplotlib.pyplot as plt\n",
    "import time"
   ]
  },
  {
   "cell_type": "code",
   "execution_count": 45,
   "metadata": {},
   "outputs": [
    {
     "name": "stdout",
     "output_type": "stream",
     "text": [
      "在你的心中選擇一個1~13的撲克牌數字\n",
      "把心中想的數字加4\n",
      "然後在乘2\n",
      "在減6\n",
      "在除以2\n",
      "最後減去你原本想的數字\n",
      "我一開始就知道那個答案了!!!\n",
      "就是1對吧!\n",
      "Magic知道數字\n"
     ]
    }
   ],
   "source": [
    "time.sleep(2)\n",
    "print(\"在你的心中選擇一個1~13的撲克牌數字\")\n",
    "time.sleep(5)\n",
    "print(\"把心中想的數字加4\")\n",
    "time.sleep(3)\n",
    "print(\"然後在乘2\")\n",
    "time.sleep(3)\n",
    "print(\"在減6\")\n",
    "time.sleep(3)\n",
    "print(\"在除以2\")\n",
    "time.sleep(3)\n",
    "print(\"最後減去你原本想的數字\")\n",
    "time.sleep(3)\n",
    "print(\"我一開始就知道那個答案了!!!\")\n",
    "time.sleep(5)\n",
    "print(\"就是1對吧!\")\n",
    "time.sleep(5)\n",
    "print(\"Magic知道數字\")"
   ]
  }
 ],
 "metadata": {
  "kernelspec": {
   "display_name": "Python 3",
   "language": "python",
   "name": "python3"
  },
  "language_info": {
   "codemirror_mode": {
    "name": "ipython",
    "version": 3
   },
   "file_extension": ".py",
   "mimetype": "text/x-python",
   "name": "python",
   "nbconvert_exporter": "python",
   "pygments_lexer": "ipython3",
   "version": "3.7.3"
  }
 },
 "nbformat": 4,
 "nbformat_minor": 2
}
