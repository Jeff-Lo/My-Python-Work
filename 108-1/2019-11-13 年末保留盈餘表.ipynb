{
 "cells": [
  {
   "cell_type": "code",
   "execution_count": 1,
   "metadata": {},
   "outputs": [],
   "source": [
    "%matplotlib inline\n",
    "import numpy as np\n",
    "import matplotlib.pyplot as plt\n",
    "import pandas as pd\n",
    "import sympy as sp"
   ]
  },
  {
   "cell_type": "code",
   "execution_count": 2,
   "metadata": {},
   "outputs": [
    {
     "name": "stdout",
     "output_type": "stream",
     "text": [
      "請輸入公司名稱:Hello\n",
      "請輸入年初的保留盈餘:5000\n",
      "請輸入哪一年年底:2020\n",
      "請輸入是淨利還是淨損:淨利\n",
      "請輸入淨利:300000\n",
      "請輸入分發的股利:100000\n",
      "\n",
      "             Hello Company\n",
      "      Retained Earnings Statement\n",
      "      For the Year End 12/31/2020\n",
      "--------------------------------------------------------------------------------\n",
      "Retained Earnings,1/1        5000\n",
      "Add:Net Income               300000\n",
      "Total                        305000\n",
      "Less:Dividends               100000\n",
      "Retained Earnings,12/31      205000\n"
     ]
    }
   ],
   "source": [
    "company=input(\"請輸入公司名稱:\")\n",
    "year_beginning=input(\"請輸入年初的保留盈餘:\")\n",
    "year_beginning=int(year_beginning)\n",
    "year=input(\"請輸入哪一年年底:\")\n",
    "net_or_loss=input(\"請輸入是淨利還是淨損:\")\n",
    "\n",
    "if(net_or_loss==\"淨利\"):\n",
    "    net=input(\"請輸入淨利:\")\n",
    "    net=int(net)\n",
    "    dividends=input(\"請輸入分發的股利:\")\n",
    "    dividends=int(dividends)\n",
    "    total=year_beginning+net\n",
    "    year_end=total-dividends\n",
    "    print(f\"\\n             {company} Company\\n      Retained Earnings Statement\\n      For the Year End 12/31/{year}\")\n",
    "    print(\"-\"*80)\n",
    "    print(f\"Retained Earnings,1/1        {year_beginning}\")\n",
    "    print(f\"Add:Net Income               {net}\")\n",
    "    print(f\"Total                        {total}\")\n",
    "    print(f\"Less:Dividends               {dividends}\")\n",
    "    print(f\"Retained Earnings,12/31      {year_end}\")\n",
    "\n",
    "elif(net_or_loss==\"淨損\"):\n",
    "    loss=input(\"請輸入淨損:\")\n",
    "    loss=int(loss)    \n",
    "    dividends=input(\"請輸入分發的股利:\")\n",
    "    dividends=int(dividends)\n",
    "    total=year_beginning-loss\n",
    "    year_end=total-dividends\n",
    "    print(f\"\\n             {company} Company\\n      Retained Earnings Statement\\n      For the Year End 12/31/{year}\")\n",
    "    print(\"-\"*80)\n",
    "    print(f\"Retained Earnings,1/1        {year_beginning}\")\n",
    "    print(f\"Less:Net Income              {loss}\")\n",
    "    print(f\"Total                        {total}\")\n",
    "    print(f\"Less:Dividends               {dividends}\")\n",
    "    print(f\"Retained Earnings,12/31      {year_end}\")\n",
    "\n",
    "else:\n",
    "    print(\"輸入錯誤，請重新試一次。\")"
   ]
  }
 ],
 "metadata": {
  "kernelspec": {
   "display_name": "Python 3",
   "language": "python",
   "name": "python3"
  },
  "language_info": {
   "codemirror_mode": {
    "name": "ipython",
    "version": 3
   },
   "file_extension": ".py",
   "mimetype": "text/x-python",
   "name": "python",
   "nbconvert_exporter": "python",
   "pygments_lexer": "ipython3",
   "version": "3.7.3"
  }
 },
 "nbformat": 4,
 "nbformat_minor": 2
}
